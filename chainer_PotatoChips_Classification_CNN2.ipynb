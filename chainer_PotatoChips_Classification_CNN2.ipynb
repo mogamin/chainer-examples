{
  "nbformat": 4,
  "nbformat_minor": 0,
  "metadata": {
    "colab": {
      "name": "chainer-PotatoChips-Classification-CNN2",
      "version": "0.3.2",
      "provenance": [],
      "include_colab_link": true
    },
    "kernelspec": {
      "name": "python3",
      "display_name": "Python 3"
    },
    "accelerator": "GPU"
  },
  "cells": [
    {
      "cell_type": "markdown",
      "metadata": {
        "id": "view-in-github",
        "colab_type": "text"
      },
      "source": [
        "[View in Colaboratory](https://colab.research.google.com/github/mogamin/chainer-examples/blob/master/chainer_PotatoChips_Classification_CNN2.ipynb)"
      ]
    },
    {
      "metadata": {
        "id": "UTQIIJl-PCrW",
        "colab_type": "code",
        "colab": {
          "base_uri": "https://localhost:8080/",
          "height": 52
        },
        "outputId": "5230d2cb-ba68-4c65-822a-5abe17d28837"
      },
      "cell_type": "code",
      "source": [
        "# \n",
        "#![ ! -e ./data ] && curl -L \"https://rebrand.ly/dllab2018-hackathon-cv\" -o data.tar.gz && gzip -d -c data.tar.gz | tar xf -\n",
        "\n",
        "#!apt-get install -y -qq libcusparse8.0 libnvrtc8.0 libnvtoolsext1\n",
        "#!ln -snf /usr/lib/x86_64-linux-gnu/libnvrtc-builtins.so.8.0 /usr/lib/x86_64-linux-gnu/libnvrtc-builtins.so\n",
        "#!pip install cupy-cuda80==4.3.0 \n",
        "#!pip install chainer==4.3.0\n",
        "#!pip install chainercv\n",
        "#!python -c 'import chainer; chainer.print_runtime_info()'\n",
        "\n",
        "import chainer\n",
        "import chainercv\n",
        "print('GPU availability:', chainer.cuda.available)\n",
        "print('cuDNN availablility:', chainer.cuda.cudnn_enabled)"
      ],
      "execution_count": 1,
      "outputs": [
        {
          "output_type": "stream",
          "text": [
            "GPU availability: True\n",
            "cuDNN availablility: True\n"
          ],
          "name": "stdout"
        }
      ]
    },
    {
      "metadata": {
        "id": "4MmSCJqXeTxi",
        "colab_type": "code",
        "colab": {}
      },
      "cell_type": "code",
      "source": [
        "#!sort -R data/train/train_labels.txt | head -1000 > data/train/train_labels_1000.txt\n",
        "#!head data/train/train_labels_1000.txt\n",
        "#!wc -l data/train/train_labels_1000.txt"
      ],
      "execution_count": 0,
      "outputs": []
    },
    {
      "metadata": {
        "id": "F6pM0HRnbH8Q",
        "colab_type": "code",
        "colab": {}
      },
      "cell_type": "code",
      "source": [
        "# 画像データの前処理変換\n",
        "import chainer\n",
        "from chainercv.transforms import resize\n",
        "from chainercv.transforms import random_flip\n",
        "from chainercv.transforms import random_sized_crop\n",
        "from chainercv.transforms import scale\n",
        "from chainercv.transforms import center_crop\n",
        "\n",
        "class TrainTransform(object):\n",
        "\n",
        "    def __init__(self, mean):\n",
        "        self.mean = mean\n",
        "\n",
        "    def __call__(self, in_data):\n",
        "        img, label = in_data\n",
        "        _, H, W = img.shape\n",
        "        img = random_sized_crop(img)\n",
        "        img = resize(img, (224, 224))\n",
        "        img = random_flip(img, x_random=True)\n",
        "        img -= self.mean\n",
        "        return img, label\n",
        "\n",
        "\n",
        "class ValTransform(object):\n",
        "\n",
        "    def __init__(self, mean):\n",
        "        self.mean = mean\n",
        "\n",
        "    def __call__(self, in_data):\n",
        "        img, label = in_data\n",
        "        img = scale(img, 256)\n",
        "        img = center_crop(img, (224, 224))\n",
        "        img -= self.mean\n",
        "        return img, label"
      ],
      "execution_count": 0,
      "outputs": []
    },
    {
      "metadata": {
        "id": "bj2Pz_ZHfScN",
        "colab_type": "code",
        "colab": {}
      },
      "cell_type": "code",
      "source": [
        "import chainer.links as L\n",
        "import chainer.functions as F\n",
        "from chainercv.links import VGG16\n",
        "\n",
        "class FinetuneNet(chainer.Chain):\n",
        "\n",
        "    def __init__(self, extractor, n_units, n_class):\n",
        "        super(FinetuneNet, self).__init__()\n",
        "        w = chainer.initializers.HeNormal()\n",
        "        with self.init_scope():\n",
        "            self.extractor = extractor\n",
        "            self.l1 = L.Linear(None, n_units, initialW=w)\n",
        "            self.l2 = L.Linear(n_units, n_units, initialW=w)\n",
        "            self.l3 = L.Linear(n_units, n_class, initialW=w)\n",
        "\n",
        "    def __call__(self, x):\n",
        "        h = self.extractor(x)\n",
        "        h.unchain()\n",
        "        h = F.relu(self.l1(h))\n",
        "        h = F.relu(self.l2(h))\n",
        "        return self.l3(h)\n"
      ],
      "execution_count": 0,
      "outputs": []
    },
    {
      "metadata": {
        "id": "U6z5ow9KQVDT",
        "colab_type": "code",
        "colab": {}
      },
      "cell_type": "code",
      "source": [
        "# データのロード\n",
        "from chainer.datasets import LabeledImageDataset\n",
        "from chainer.datasets import TransformDataset\n",
        "\n",
        "BATCHSIZE=16\n",
        "\n",
        "train = LabeledImageDataset('data/train/train_labels.txt', 'data/train/images/')\n",
        "train = TransformDataset(train, TrainTransform(0))\n",
        "valid = LabeledImageDataset('data/valid/valid_labels.txt', 'data/valid/images/')\n",
        "valid = TransformDataset(valid, ValTransform(0))\n",
        "train_iter = chainer.iterators.MultiprocessIterator(train, BATCHSIZE)\n",
        "valid_iter = chainer.iterators.MultiprocessIterator(valid, BATCHSIZE, repeat=False, shuffle=False)"
      ],
      "execution_count": 0,
      "outputs": []
    },
    {
      "metadata": {
        "id": "PU0FrVsSqPNS",
        "colab_type": "code",
        "colab": {}
      },
      "cell_type": "code",
      "source": [
        "extractor = VGG16(pretrained_model='imagenet')\n",
        "#extractor = VGG16()\n",
        "extractor.pick = 'pool5'\n",
        "model = L.Classifier(FinetuneNet(extractor, 4096, 9))\n",
        "\n",
        "optimizer = chainer.optimizers.MomentumSGD(lr=0.001, momentum=0.9).setup(model)\n",
        "for param in model.params():\n",
        "    if param.name != 'beta' and param.name != 'gamma':\n",
        "        param.update_rule.add_hook(chainer.optimizer.WeightDecay(0.0001))"
      ],
      "execution_count": 0,
      "outputs": []
    },
    {
      "metadata": {
        "id": "uOJpR2TxxHP3",
        "colab_type": "code",
        "colab": {}
      },
      "cell_type": "code",
      "source": [
        "import random\n",
        "import numpy as np\n",
        "\n",
        "RANDOM_SEED = 0\n",
        "random.seed(RANDOM_SEED)\n",
        "np.random.seed(RANDOM_SEED)\n",
        "if chainer.cuda.available:\n",
        "    chainer.cuda.cupy.random.seed(RANDOM_SEED)"
      ],
      "execution_count": 0,
      "outputs": []
    },
    {
      "metadata": {
        "id": "UL0GnZPeoqdg",
        "colab_type": "code",
        "colab": {}
      },
      "cell_type": "code",
      "source": [
        "chainer.cuda.set_max_workspace_size(1024 * 1024 * 1024)\n",
        "chainer.global_config.autotune = True\n",
        "chainer.global_config.type_check = False    "
      ],
      "execution_count": 0,
      "outputs": []
    },
    {
      "metadata": {
        "id": "fLRRQYB_sTd2",
        "colab_type": "code",
        "colab": {}
      },
      "cell_type": "code",
      "source": [
        "EPOCH=10\n",
        "GPUID=0"
      ],
      "execution_count": 0,
      "outputs": []
    },
    {
      "metadata": {
        "id": "ZKRvTBo6q2lp",
        "colab_type": "code",
        "colab": {}
      },
      "cell_type": "code",
      "source": [
        "from chainer.training import extensions\n",
        "\n",
        "updater = chainer.training.StandardUpdater(train_iter, optimizer, device=GPUID)\n",
        "trainer = chainer.training.Trainer(updater, (EPOCH, 'epoch'), out='result/potato')\n",
        "trainer.extend(extensions.ExponentialShift('lr', 0.1), trigger=chainer.training.triggers.ManualScheduleTrigger([10], 'epoch'))\n",
        "evaluator = extensions.Evaluator(valid_iter, model, device=GPUID)\n",
        "trainer.extend(evaluator, trigger=(1, 'epoch'), name='val')"
      ],
      "execution_count": 0,
      "outputs": []
    },
    {
      "metadata": {
        "id": "oYo2m9xzrLWW",
        "colab_type": "code",
        "colab": {
          "base_uri": "https://localhost:8080/",
          "height": 1261
        },
        "outputId": "71d702eb-e958-4536-b570-a169f18d9509"
      },
      "cell_type": "code",
      "source": [
        "log_interval = 0.1, 'epoch'\n",
        "plot_interval = 1, 'epoch'\n",
        "\n",
        "trainer.extend(chainer.training.extensions.observe_lr(), trigger=log_interval)\n",
        "trainer.extend(extensions.LogReport(trigger=log_interval))\n",
        "trainer.extend(extensions.PrintReport(['iteration', 'epoch', 'elapsed_time', 'lr', 'main/loss','val/main/loss', 'main/accuracy', 'val/main/accuracy']), trigger=log_interval)\n",
        "trainer.extend(extensions.ProgressBar(update_interval=100))\n",
        "trainer.extend(extensions.PlotReport(['main/loss', 'val/main/loss'], file_name='loss.png'), trigger=plot_interval)\n",
        "trainer.extend(extensions.PlotReport(['main/accuracy', 'val/main/accuracy'], file_name='accuracy.png'), trigger=plot_interval)\n",
        "trainer.run()"
      ],
      "execution_count": 11,
      "outputs": [
        {
          "output_type": "stream",
          "text": [
            "iteration   epoch       elapsed_time  lr          main/loss   val/main/loss  main/accuracy  val/main/accuracy\n",
            "\u001b[J66          0           20.5494       0.001       54.8325                    0.123106                          \n",
            "\u001b[J     total [..................................................]  1.52%\n",
            "this epoch [#######...........................................] 15.19%\n",
            "       100 iter, 0 epoch / 10 epochs\n",
            "       inf iters/sec. Estimated time to finish: 0:00:00.\n",
            "\u001b[4A\u001b[J132         0           37.5522       0.001       2.71485                    0.17803                           \n",
            "\u001b[J198         0           54.4269       0.001       2.06393                    0.224432                          \n",
            "\u001b[J     total [#.................................................]  3.04%\n",
            "this epoch [###############...................................] 30.37%\n",
            "       200 iter, 0 epoch / 10 epochs\n",
            "    3.8759 iters/sec. Estimated time to finish: 0:27:27.352009.\n",
            "\u001b[4A\u001b[J264         0           71.5          0.001       1.95964                    0.27178                           \n",
            "\u001b[J     total [##................................................]  4.56%\n",
            "this epoch [######################............................] 45.56%\n",
            "       300 iter, 0 epoch / 10 epochs\n",
            "    3.8755 iters/sec. Estimated time to finish: 0:27:01.711423.\n",
            "\u001b[4A\u001b[J330         0           88.5051       0.001       1.80912                    0.364583                          \n",
            "\u001b[J"
          ],
          "name": "stdout"
        },
        {
          "output_type": "error",
          "ename": "KeyboardInterrupt",
          "evalue": "ignored",
          "traceback": [
            "\u001b[0;31m---------------------------------------------------------------------------\u001b[0m",
            "\u001b[0;31mKeyboardInterrupt\u001b[0m                         Traceback (most recent call last)",
            "\u001b[0;32m<ipython-input-11-07423a4c2499>\u001b[0m in \u001b[0;36m<module>\u001b[0;34m()\u001b[0m\n\u001b[1;32m      8\u001b[0m \u001b[0mtrainer\u001b[0m\u001b[0;34m.\u001b[0m\u001b[0mextend\u001b[0m\u001b[0;34m(\u001b[0m\u001b[0mextensions\u001b[0m\u001b[0;34m.\u001b[0m\u001b[0mPlotReport\u001b[0m\u001b[0;34m(\u001b[0m\u001b[0;34m[\u001b[0m\u001b[0;34m'main/loss'\u001b[0m\u001b[0;34m,\u001b[0m \u001b[0;34m'val/main/loss'\u001b[0m\u001b[0;34m]\u001b[0m\u001b[0;34m,\u001b[0m \u001b[0mfile_name\u001b[0m\u001b[0;34m=\u001b[0m\u001b[0;34m'loss.png'\u001b[0m\u001b[0;34m)\u001b[0m\u001b[0;34m,\u001b[0m \u001b[0mtrigger\u001b[0m\u001b[0;34m=\u001b[0m\u001b[0mplot_interval\u001b[0m\u001b[0;34m)\u001b[0m\u001b[0;34m\u001b[0m\u001b[0m\n\u001b[1;32m      9\u001b[0m \u001b[0mtrainer\u001b[0m\u001b[0;34m.\u001b[0m\u001b[0mextend\u001b[0m\u001b[0;34m(\u001b[0m\u001b[0mextensions\u001b[0m\u001b[0;34m.\u001b[0m\u001b[0mPlotReport\u001b[0m\u001b[0;34m(\u001b[0m\u001b[0;34m[\u001b[0m\u001b[0;34m'main/accuracy'\u001b[0m\u001b[0;34m,\u001b[0m \u001b[0;34m'val/main/accuracy'\u001b[0m\u001b[0;34m]\u001b[0m\u001b[0;34m,\u001b[0m \u001b[0mfile_name\u001b[0m\u001b[0;34m=\u001b[0m\u001b[0;34m'accuracy.png'\u001b[0m\u001b[0;34m)\u001b[0m\u001b[0;34m,\u001b[0m \u001b[0mtrigger\u001b[0m\u001b[0;34m=\u001b[0m\u001b[0mplot_interval\u001b[0m\u001b[0;34m)\u001b[0m\u001b[0;34m\u001b[0m\u001b[0m\n\u001b[0;32m---> 10\u001b[0;31m \u001b[0mtrainer\u001b[0m\u001b[0;34m.\u001b[0m\u001b[0mrun\u001b[0m\u001b[0;34m(\u001b[0m\u001b[0;34m)\u001b[0m\u001b[0;34m\u001b[0m\u001b[0m\n\u001b[0m",
            "\u001b[0;32m/usr/local/lib/python3.6/dist-packages/chainer/training/trainer.py\u001b[0m in \u001b[0;36mrun\u001b[0;34m(self, show_loop_exception_msg)\u001b[0m\n\u001b[1;32m    304\u001b[0m                 \u001b[0mself\u001b[0m\u001b[0;34m.\u001b[0m\u001b[0mobservation\u001b[0m \u001b[0;34m=\u001b[0m \u001b[0;34m{\u001b[0m\u001b[0;34m}\u001b[0m\u001b[0;34m\u001b[0m\u001b[0m\n\u001b[1;32m    305\u001b[0m                 \u001b[0;32mwith\u001b[0m \u001b[0mreporter\u001b[0m\u001b[0;34m.\u001b[0m\u001b[0mscope\u001b[0m\u001b[0;34m(\u001b[0m\u001b[0mself\u001b[0m\u001b[0;34m.\u001b[0m\u001b[0mobservation\u001b[0m\u001b[0;34m)\u001b[0m\u001b[0;34m:\u001b[0m\u001b[0;34m\u001b[0m\u001b[0m\n\u001b[0;32m--> 306\u001b[0;31m                     \u001b[0mupdate\u001b[0m\u001b[0;34m(\u001b[0m\u001b[0;34m)\u001b[0m\u001b[0;34m\u001b[0m\u001b[0m\n\u001b[0m\u001b[1;32m    307\u001b[0m                     \u001b[0;32mfor\u001b[0m \u001b[0mname\u001b[0m\u001b[0;34m,\u001b[0m \u001b[0mentry\u001b[0m \u001b[0;32min\u001b[0m \u001b[0mextensions\u001b[0m\u001b[0;34m:\u001b[0m\u001b[0;34m\u001b[0m\u001b[0m\n\u001b[1;32m    308\u001b[0m                         \u001b[0;32mif\u001b[0m \u001b[0mentry\u001b[0m\u001b[0;34m.\u001b[0m\u001b[0mtrigger\u001b[0m\u001b[0;34m(\u001b[0m\u001b[0mself\u001b[0m\u001b[0;34m)\u001b[0m\u001b[0;34m:\u001b[0m\u001b[0;34m\u001b[0m\u001b[0m\n",
            "\u001b[0;32m/usr/local/lib/python3.6/dist-packages/chainer/training/updaters/standard_updater.py\u001b[0m in \u001b[0;36mupdate\u001b[0;34m(self)\u001b[0m\n\u001b[1;32m    147\u001b[0m \u001b[0;34m\u001b[0m\u001b[0m\n\u001b[1;32m    148\u001b[0m         \"\"\"\n\u001b[0;32m--> 149\u001b[0;31m         \u001b[0mself\u001b[0m\u001b[0;34m.\u001b[0m\u001b[0mupdate_core\u001b[0m\u001b[0;34m(\u001b[0m\u001b[0;34m)\u001b[0m\u001b[0;34m\u001b[0m\u001b[0m\n\u001b[0m\u001b[1;32m    150\u001b[0m         \u001b[0mself\u001b[0m\u001b[0;34m.\u001b[0m\u001b[0miteration\u001b[0m \u001b[0;34m+=\u001b[0m \u001b[0;36m1\u001b[0m\u001b[0;34m\u001b[0m\u001b[0m\n\u001b[1;32m    151\u001b[0m \u001b[0;34m\u001b[0m\u001b[0m\n",
            "\u001b[0;32m/usr/local/lib/python3.6/dist-packages/chainer/training/updaters/standard_updater.py\u001b[0m in \u001b[0;36mupdate_core\u001b[0;34m(self)\u001b[0m\n\u001b[1;32m    151\u001b[0m \u001b[0;34m\u001b[0m\u001b[0m\n\u001b[1;32m    152\u001b[0m     \u001b[0;32mdef\u001b[0m \u001b[0mupdate_core\u001b[0m\u001b[0;34m(\u001b[0m\u001b[0mself\u001b[0m\u001b[0;34m)\u001b[0m\u001b[0;34m:\u001b[0m\u001b[0;34m\u001b[0m\u001b[0m\n\u001b[0;32m--> 153\u001b[0;31m         \u001b[0mbatch\u001b[0m \u001b[0;34m=\u001b[0m \u001b[0mself\u001b[0m\u001b[0;34m.\u001b[0m\u001b[0m_iterators\u001b[0m\u001b[0;34m[\u001b[0m\u001b[0;34m'main'\u001b[0m\u001b[0;34m]\u001b[0m\u001b[0;34m.\u001b[0m\u001b[0mnext\u001b[0m\u001b[0;34m(\u001b[0m\u001b[0;34m)\u001b[0m\u001b[0;34m\u001b[0m\u001b[0m\n\u001b[0m\u001b[1;32m    154\u001b[0m         \u001b[0min_arrays\u001b[0m \u001b[0;34m=\u001b[0m \u001b[0mself\u001b[0m\u001b[0;34m.\u001b[0m\u001b[0mconverter\u001b[0m\u001b[0;34m(\u001b[0m\u001b[0mbatch\u001b[0m\u001b[0;34m,\u001b[0m \u001b[0mself\u001b[0m\u001b[0;34m.\u001b[0m\u001b[0mdevice\u001b[0m\u001b[0;34m)\u001b[0m\u001b[0;34m\u001b[0m\u001b[0m\n\u001b[1;32m    155\u001b[0m \u001b[0;34m\u001b[0m\u001b[0m\n",
            "\u001b[0;32m/usr/local/lib/python3.6/dist-packages/chainer/iterators/multiprocess_iterator.py\u001b[0m in \u001b[0;36m__next__\u001b[0;34m(self)\u001b[0m\n\u001b[1;32m     89\u001b[0m \u001b[0;34m\u001b[0m\u001b[0m\n\u001b[1;32m     90\u001b[0m         \u001b[0;32mif\u001b[0m \u001b[0;32mnot\u001b[0m \u001b[0mmeasure_mode\u001b[0m\u001b[0;34m:\u001b[0m\u001b[0;34m\u001b[0m\u001b[0m\n\u001b[0;32m---> 91\u001b[0;31m             \u001b[0mbatch\u001b[0m\u001b[0;34m,\u001b[0m \u001b[0mprefetch_state\u001b[0m \u001b[0;34m=\u001b[0m \u001b[0mself\u001b[0m\u001b[0;34m.\u001b[0m\u001b[0m_comm\u001b[0m\u001b[0;34m.\u001b[0m\u001b[0mget\u001b[0m\u001b[0;34m(\u001b[0m\u001b[0;34m)\u001b[0m\u001b[0;34m\u001b[0m\u001b[0m\n\u001b[0m\u001b[1;32m     92\u001b[0m \u001b[0;34m\u001b[0m\u001b[0m\n\u001b[1;32m     93\u001b[0m         (self.current_position, self.epoch, self.is_new_epoch,\n",
            "\u001b[0;32m/usr/local/lib/python3.6/dist-packages/chainer/iterators/multiprocess_iterator.py\u001b[0m in \u001b[0;36mget\u001b[0;34m(self)\u001b[0m\n\u001b[1;32m    222\u001b[0m         \u001b[0;32mwith\u001b[0m \u001b[0mself\u001b[0m\u001b[0;34m.\u001b[0m\u001b[0m_lock\u001b[0m\u001b[0;34m:\u001b[0m\u001b[0;34m\u001b[0m\u001b[0m\n\u001b[1;32m    223\u001b[0m             \u001b[0;32mwhile\u001b[0m \u001b[0mlen\u001b[0m\u001b[0;34m(\u001b[0m\u001b[0mself\u001b[0m\u001b[0;34m.\u001b[0m\u001b[0m_batch_queue\u001b[0m\u001b[0;34m)\u001b[0m \u001b[0;34m==\u001b[0m \u001b[0;36m0\u001b[0m\u001b[0;34m:\u001b[0m\u001b[0;34m\u001b[0m\u001b[0m\n\u001b[0;32m--> 224\u001b[0;31m                 \u001b[0mself\u001b[0m\u001b[0;34m.\u001b[0m\u001b[0m_not_empty_cond\u001b[0m\u001b[0;34m.\u001b[0m\u001b[0mwait\u001b[0m\u001b[0;34m(\u001b[0m\u001b[0m_response_time\u001b[0m\u001b[0;34m)\u001b[0m\u001b[0;34m\u001b[0m\u001b[0m\n\u001b[0m\u001b[1;32m    225\u001b[0m             \u001b[0mbatch\u001b[0m\u001b[0;34m,\u001b[0m \u001b[0mprefetch_state\u001b[0m \u001b[0;34m=\u001b[0m \u001b[0mself\u001b[0m\u001b[0;34m.\u001b[0m\u001b[0m_batch_queue\u001b[0m\u001b[0;34m.\u001b[0m\u001b[0mpop\u001b[0m\u001b[0;34m(\u001b[0m\u001b[0;36m0\u001b[0m\u001b[0;34m)\u001b[0m\u001b[0;34m\u001b[0m\u001b[0m\n\u001b[1;32m    226\u001b[0m             \u001b[0mself\u001b[0m\u001b[0;34m.\u001b[0m\u001b[0m_not_full_cond\u001b[0m\u001b[0;34m.\u001b[0m\u001b[0mnotify\u001b[0m\u001b[0;34m(\u001b[0m\u001b[0;34m)\u001b[0m\u001b[0;34m\u001b[0m\u001b[0m\n",
            "\u001b[0;32m/usr/lib/python3.6/threading.py\u001b[0m in \u001b[0;36mwait\u001b[0;34m(self, timeout)\u001b[0m\n\u001b[1;32m    297\u001b[0m             \u001b[0;32melse\u001b[0m\u001b[0;34m:\u001b[0m\u001b[0;34m\u001b[0m\u001b[0m\n\u001b[1;32m    298\u001b[0m                 \u001b[0;32mif\u001b[0m \u001b[0mtimeout\u001b[0m \u001b[0;34m>\u001b[0m \u001b[0;36m0\u001b[0m\u001b[0;34m:\u001b[0m\u001b[0;34m\u001b[0m\u001b[0m\n\u001b[0;32m--> 299\u001b[0;31m                     \u001b[0mgotit\u001b[0m \u001b[0;34m=\u001b[0m \u001b[0mwaiter\u001b[0m\u001b[0;34m.\u001b[0m\u001b[0macquire\u001b[0m\u001b[0;34m(\u001b[0m\u001b[0;32mTrue\u001b[0m\u001b[0;34m,\u001b[0m \u001b[0mtimeout\u001b[0m\u001b[0;34m)\u001b[0m\u001b[0;34m\u001b[0m\u001b[0m\n\u001b[0m\u001b[1;32m    300\u001b[0m                 \u001b[0;32melse\u001b[0m\u001b[0;34m:\u001b[0m\u001b[0;34m\u001b[0m\u001b[0m\n\u001b[1;32m    301\u001b[0m                     \u001b[0mgotit\u001b[0m \u001b[0;34m=\u001b[0m \u001b[0mwaiter\u001b[0m\u001b[0;34m.\u001b[0m\u001b[0macquire\u001b[0m\u001b[0;34m(\u001b[0m\u001b[0;32mFalse\u001b[0m\u001b[0;34m)\u001b[0m\u001b[0;34m\u001b[0m\u001b[0m\n",
            "\u001b[0;31mKeyboardInterrupt\u001b[0m: "
          ]
        }
      ]
    },
    {
      "metadata": {
        "id": "fpyGiur0hHLJ",
        "colab_type": "code",
        "colab": {}
      },
      "cell_type": "code",
      "source": [
        "#!ls -l results\n",
        "from IPython.display import Image,display_jpeg\n",
        "display_jpeg(Image('results/accuracy.png'))"
      ],
      "execution_count": 0,
      "outputs": []
    },
    {
      "metadata": {
        "id": "nWw9Zb9K0d3D",
        "colab_type": "code",
        "colab": {
          "base_uri": "https://localhost:8080/",
          "height": 303
        },
        "outputId": "25f38087-5e8a-4587-c5d9-eb87945a0f66"
      },
      "cell_type": "code",
      "source": [
        "import cv2\n",
        "import matplotlib.pyplot as plt\n",
        "import os.path\n",
        "\n",
        "# 座標軸の削除処理\n",
        "fig,ax = plt.subplots()\n",
        "ax.tick_params(labelbottom=\"off\",bottom=\"off\")\n",
        "ax.tick_params(labelleft=\"off\",left=\"off\")\n",
        "ax.set_xticklabels([]) \n",
        "ax.axis('off')\n",
        "\n",
        "file = 'results/loss.png'\n",
        "if os.path.exists(file):\n",
        "  img = cv2.imread(file)\n",
        "  show_img = cv2.cvtColor(img, cv2.COLOR_BGR2RGB) \n",
        "  plt.imshow(show_img)"
      ],
      "execution_count": 24,
      "outputs": [
        {
          "output_type": "display_data",
          "data": {
            "image/png": "[encoded data removed]",
            "text/plain": [
              "<matplotlib.figure.Figure at 0x7f4b18791b38>"
            ]
          },
          "metadata": {
            "tags": []
          }
        }
      ]
    }
  ]
}