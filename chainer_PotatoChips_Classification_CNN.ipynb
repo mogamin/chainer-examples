{
  "nbformat": 4,
  "nbformat_minor": 0,
  "metadata": {
    "colab": {
      "name": "chainer-PotatoChips-Classification-CNN",
      "version": "0.3.2",
      "provenance": [],
      "include_colab_link": true
    },
    "kernelspec": {
      "name": "python3",
      "display_name": "Python 3"
    },
    "accelerator": "GPU"
  },
  "cells": [
    {
      "cell_type": "markdown",
      "metadata": {
        "id": "view-in-github",
        "colab_type": "text"
      },
      "source": [
        "[View in Colaboratory](https://colab.research.google.com/github/mogamin/chainer-examples/blob/master/chainer_PotatoChips_Classification_CNN.ipynb)"
      ]
    },
    {
      "metadata": {
        "id": "UTQIIJl-PCrW",
        "colab_type": "code",
        "colab": {
          "base_uri": "https://localhost:8080/",
          "height": 242
        },
        "outputId": "6eecb7b0-7816-4306-ad21-441972ef986b"
      },
      "cell_type": "code",
      "source": [
        "# \n",
        "#![ ! -e ./data ] && curl -L \"https://rebrand.ly/dllab2018-hackathon-cv\" -o data.tar.gz && gzip -d -c data.tar.gz | tar xf -\n",
        "\n",
        "#!apt-get install -y -qq libcusparse8.0 libnvrtc8.0 libnvtoolsext1\n",
        "#!ln -snf /usr/lib/x86_64-linux-gnu/libnvrtc-builtins.so.8.0 /usr/lib/x86_64-linux-gnu/libnvrtc-builtins.so\n",
        "#!pip install cupy-cuda80==4.3.0 \n",
        "#!pip install chainer==4.3.0\n",
        "#!pip install chainercv\n",
        "#!python -c 'import chainer; chainer.print_runtime_info()'\n",
        "\n",
        "import chainer\n",
        "print('GPU availability:', chainer.cuda.available)\n",
        "print('cuDNN availablility:', chainer.cuda.cudnn_enabled)"
      ],
      "execution_count": 2,
      "outputs": [
        {
          "output_type": "stream",
          "text": [
            "GPU availability: True\n",
            "cuDNN availablility: True\n",
            "Chainer: 4.3.0\n",
            "NumPy: 1.14.5\n",
            "CuPy:\n",
            "  CuPy Version          : 4.3.0\n",
            "  CUDA Root             : None\n",
            "  CUDA Build Version    : 8000\n",
            "  CUDA Driver Version   : 9000\n",
            "  CUDA Runtime Version  : 8000\n",
            "  cuDNN Build Version   : 7102\n",
            "  cuDNN Version         : 7102\n",
            "  NCCL Build Version    : 2212\n"
          ],
          "name": "stdout"
        }
      ]
    },
    {
      "metadata": {
        "id": "F6pM0HRnbH8Q",
        "colab_type": "code",
        "colab": {}
      },
      "cell_type": "code",
      "source": [
        "# 画像データの前処理変換\n",
        "import chainer\n",
        "from chainercv.transforms import resize\n",
        "from chainercv.transforms import random_flip\n",
        "from chainercv.transforms import random_sized_crop\n",
        "\n",
        "class ImageTransform(object):\n",
        "    def __call__(self, in_data):\n",
        "        img, label = in_data\n",
        "        _, H, W = img.shape\n",
        "        img = random_sized_crop(img)\n",
        "        img = resize(img, (224, 224))\n",
        "        img = random_flip(img, x_random=True)\n",
        "        return img, label"
      ],
      "execution_count": 0,
      "outputs": []
    },
    {
      "metadata": {
        "id": "U6z5ow9KQVDT",
        "colab_type": "code",
        "colab": {}
      },
      "cell_type": "code",
      "source": [
        "# データのロード\n",
        "from chainer.datasets import LabeledImageDataset\n",
        "from chainer.datasets import TransformDataset\n",
        "\n",
        "train = LabeledImageDataset('data/train/train_labels.txt', root='data/train/images/')\n",
        "train = TransformDataset(train, ImageTransform())\n",
        "valid = LabeledImageDataset('data/valid/valid_labels.txt', root='data/valid/images/')\n",
        "valid = TransformDataset(valid, ImageTransform())"
      ],
      "execution_count": 0,
      "outputs": []
    },
    {
      "metadata": {
        "id": "bj2Pz_ZHfScN",
        "colab_type": "code",
        "colab": {}
      },
      "cell_type": "code",
      "source": [
        "import chainer.links as L\n",
        "import chainer.functions as F\n",
        "from chainercv.links import VGG16\n",
        "\n",
        "class Potato(chainer.Chain):\n",
        "\n",
        "  def __init__(self, n_class=9):\n",
        "    super(Potato, self).__init__()\n",
        "    with self.init_scope():\n",
        "      self.base = L.VGG16Layers()\n",
        "      self.fc1 = L.Linear(None, 224)\n",
        "      self.fc2 = L.Linear(None, 224)\n",
        "      self.fc3 = L.Linear(None, n_class)\n",
        "  \n",
        "  def __call__(self, x):\n",
        "    #h = F.max_pooling_2d(F.relu(self.conv1(x)), ksize=2, stride=2)\n",
        "    #h = F.max_pooling_2d(F.relu(self.conv2(h)), ksize=2, stride=2)\n",
        "    #h = F.max_pooling_2d(F.relu(self.conv3(h)), ksize=2, stride=2)\n",
        "    #h = F.average_pooling_2d(F.relu(self.conv4(h)), ksize=2, stride=2)\n",
        "    h = self.base(x, layers=['fc7'])['fc7']\n",
        "    h = F.relu(self.fc1(h))\n",
        "    h = F.relu(self.fc2(h))\n",
        "    return self.fc3(h)"
      ],
      "execution_count": 0,
      "outputs": []
    },
    {
      "metadata": {
        "id": "fLRRQYB_sTd2",
        "colab_type": "code",
        "colab": {}
      },
      "cell_type": "code",
      "source": [
        "BATCHSIZE=20\n",
        "EPOCH=10\n",
        "GPUID=0"
      ],
      "execution_count": 0,
      "outputs": []
    },
    {
      "metadata": {
        "id": "aD2Dpe8zWG9R",
        "colab_type": "code",
        "colab": {}
      },
      "cell_type": "code",
      "source": [
        "import random\n",
        "import numpy as np\n",
        "\n",
        "RANDOM_SEED = 0\n",
        "random.seed(RANDOM_SEED)\n",
        "np.random.seed(RANDOM_SEED)\n",
        "if chainer.cuda.available:\n",
        "    chainer.cuda.cupy.random.seed(RANDOM_SEED)"
      ],
      "execution_count": 0,
      "outputs": []
    },
    {
      "metadata": {
        "id": "k3SSG4wUTMf5",
        "colab_type": "code",
        "colab": {}
      },
      "cell_type": "code",
      "source": [
        "train_iter = chainer.iterators.SerialIterator(train, BATCHSIZE)\n",
        "valid_iter = chainer.iterators.SerialIterator(valid, BATCHSIZE, repeat=False, shuffle=False)"
      ],
      "execution_count": 0,
      "outputs": []
    },
    {
      "metadata": {
        "id": "E5m4Pvd1fA9U",
        "colab_type": "code",
        "colab": {
          "base_uri": "https://localhost:8080/",
          "height": 35
        },
        "outputId": "4cfc50e4-33b2-4c3a-db4d-dceb0b5d0951"
      },
      "cell_type": "code",
      "source": [
        "#\n",
        "from chainer import cuda\n",
        "\n",
        "vgg = Potato()\n",
        "model = L.Classifier(vgg)\n",
        "vgg.base.disable_update()\n",
        "\n",
        "if GPUID >= 0:\n",
        "  xp = cuda.cupy\n",
        "  cuda.Device(GPUID).use()\n",
        "  model.to_gpu(GPUID)\n",
        "else:\n",
        "  xp = np\n",
        "  \n",
        "optimizer = chainer.optimizers.Adam()\n",
        "optimizer.setup(model)"
      ],
      "execution_count": 7,
      "outputs": [
        {
          "output_type": "execute_result",
          "data": {
            "text/plain": [
              "<chainer.optimizers.adam.Adam at 0x7f365b1d1780>"
            ]
          },
          "metadata": {
            "tags": []
          },
          "execution_count": 7
        }
      ]
    },
    {
      "metadata": {
        "id": "fpyGiur0hHLJ",
        "colab_type": "code",
        "colab": {
          "base_uri": "https://localhost:8080/",
          "height": 3804
        },
        "outputId": "a4b9b866-46a5-4903-889c-5b024f2f59dd"
      },
      "cell_type": "code",
      "source": [
        "#\n",
        "from chainer.training import extensions\n",
        "\n",
        "updater = chainer.training.StandardUpdater(train_iter, optimizer, device=GPUID)\n",
        "trainer = chainer.training.Trainer(updater, (EPOCH, 'epoch'), out='result/potato')\n",
        "trainer.extend(extensions.Evaluator(valid_iter, model, device=GPUID))\n",
        "trainer.extend(extensions.LogReport(trigger=(1,'epoch')))\n",
        "trainer.extend(extensions.PrintReport(['epoch','main/accuracy','validation/main/accuracy','main/loss','validation/main/loss','elapsed_time']), trigger=(1,'epoch'))\n",
        "trainer.extend(extensions.ProgressBar(update_interval=100))\n",
        "trainer.run()"
      ],
      "execution_count": 8,
      "outputs": [
        {
          "output_type": "stream",
          "text": [
            "\u001b[J     total [..................................................]  1.90%\n",
            "this epoch [#########.........................................] 18.98%\n",
            "       100 iter, 0 epoch / 10 epochs\n",
            "       inf iters/sec. Estimated time to finish: 0:00:00.\n",
            "\u001b[4A\u001b[J     total [#.................................................]  3.80%\n",
            "this epoch [##################................................] 37.97%\n",
            "       200 iter, 0 epoch / 10 epochs\n",
            "   0.76599 iters/sec. Estimated time to finish: 1:50:16.238389.\n",
            "\u001b[4A\u001b[J     total [##................................................]  5.69%\n",
            "this epoch [############################......................] 56.95%\n",
            "       300 iter, 0 epoch / 10 epochs\n",
            "   0.76626 iters/sec. Estimated time to finish: 1:48:03.437486.\n",
            "\u001b[4A\u001b[J     total [###...............................................]  7.59%\n",
            "this epoch [#####################################.............] 75.93%\n",
            "       400 iter, 0 epoch / 10 epochs\n",
            "   0.76279 iters/sec. Estimated time to finish: 1:46:21.807955.\n",
            "\u001b[4A\u001b[J     total [####..............................................]  9.49%\n",
            "this epoch [###############################################...] 94.91%\n",
            "       500 iter, 0 epoch / 10 epochs\n",
            "   0.75856 iters/sec. Estimated time to finish: 1:44:45.611429.\n",
            "\u001b[4Aepoch       main/accuracy  validation/main/accuracy  main/loss   validation/main/loss  elapsed_time\n",
            "\u001b[J1           0.221727       0.2825                    1.99824     1.56675               742.599       \n",
            "\u001b[J     total [#####.............................................] 11.39%\n",
            "this epoch [######............................................] 13.90%\n",
            "       600 iter, 1 epoch / 10 epochs\n",
            "   0.70972 iters/sec. Estimated time to finish: 1:49:37.216338.\n",
            "\u001b[4A\u001b[J     total [######............................................] 13.29%\n",
            "this epoch [################..................................] 32.88%\n",
            "       700 iter, 1 epoch / 10 epochs\n",
            "   0.71745 iters/sec. Estimated time to finish: 1:46:06.983256.\n",
            "\u001b[4A\u001b[J     total [#######...........................................] 15.19%\n",
            "this epoch [#########################.........................] 51.86%\n",
            "       800 iter, 1 epoch / 10 epochs\n",
            "   0.72139 iters/sec. Estimated time to finish: 1:43:13.564245.\n",
            "\u001b[4A\u001b[J     total [########..........................................] 17.08%\n",
            "this epoch [###################################...............] 70.84%\n",
            "       900 iter, 1 epoch / 10 epochs\n",
            "   0.72441 iters/sec. Estimated time to finish: 1:40:29.738855.\n",
            "\u001b[4A\u001b[J     total [#########.........................................] 18.98%\n",
            "this epoch [############################################......] 89.83%\n",
            "      1000 iter, 1 epoch / 10 epochs\n",
            "   0.72662 iters/sec. Estimated time to finish: 1:37:53.786035.\n",
            "\u001b[4A\u001b[J2           0.306357       0.3415                    1.45397     1.30675               1491.45       \n",
            "\u001b[J     total [##########........................................] 20.88%\n",
            "this epoch [####..............................................]  8.81%\n",
            "      1100 iter, 2 epoch / 10 epochs\n",
            "   0.70435 iters/sec. Estimated time to finish: 1:38:37.493435.\n",
            "\u001b[4A\u001b[J     total [###########.......................................] 22.78%\n",
            "this epoch [#############.....................................] 27.79%\n",
            "      1200 iter, 2 epoch / 10 epochs\n",
            "   0.70782 iters/sec. Estimated time to finish: 1:35:47.195715.\n",
            "\u001b[4A\u001b[J     total [############......................................] 24.68%\n",
            "this epoch [#######################...........................] 46.77%\n",
            "      1300 iter, 2 epoch / 10 epochs\n",
            "   0.71067 iters/sec. Estimated time to finish: 1:33:03.487363.\n",
            "\u001b[4A\u001b[J     total [#############.....................................] 26.58%\n",
            "this epoch [################################..................] 65.76%\n",
            "      1400 iter, 2 epoch / 10 epochs\n",
            "   0.71347 iters/sec. Estimated time to finish: 1:30:21.410699.\n",
            "\u001b[4A\u001b[J     total [##############....................................] 28.47%\n",
            "this epoch [##########################################........] 84.74%\n",
            "      1500 iter, 2 epoch / 10 epochs\n",
            "   0.71577 iters/sec. Estimated time to finish: 1:27:44.286286.\n",
            "\u001b[4A\u001b[J3           0.31556        0.327                     1.40379     1.29873               2244.42       \n",
            "\u001b[J     total [###############...................................] 30.37%\n",
            "this epoch [#.................................................]  3.72%\n",
            "      1600 iter, 3 epoch / 10 epochs\n",
            "   0.70221 iters/sec. Estimated time to finish: 1:27:03.475688.\n",
            "\u001b[4A\u001b[J     total [################..................................] 32.27%\n",
            "this epoch [###########.......................................] 22.70%\n",
            "      1700 iter, 3 epoch / 10 epochs\n",
            "   0.70558 iters/sec. Estimated time to finish: 1:24:16.827532.\n",
            "\u001b[4A\u001b[J     total [#################.................................] 34.17%\n",
            "this epoch [####################..............................] 41.69%\n",
            "      1800 iter, 3 epoch / 10 epochs\n",
            "   0.70862 iters/sec. Estimated time to finish: 1:21:34.043234.\n",
            "\u001b[4A\u001b[J     total [##################................................] 36.07%\n",
            "this epoch [##############################....................] 60.67%\n",
            "      1900 iter, 3 epoch / 10 epochs\n",
            "   0.71135 iters/sec. Estimated time to finish: 1:18:54.640111.\n",
            "\u001b[4A\u001b[J     total [##################................................] 37.97%\n",
            "this epoch [#######################################...........] 79.65%\n",
            "      2000 iter, 3 epoch / 10 epochs\n",
            "   0.71386 iters/sec. Estimated time to finish: 1:16:17.910385.\n",
            "\u001b[4A\u001b[J     total [###################...............................] 39.86%\n",
            "this epoch [#################################################.] 98.63%\n",
            "      2100 iter, 3 epoch / 10 epochs\n",
            "   0.71617 iters/sec. Estimated time to finish: 1:13:43.503548.\n",
            "\u001b[4A\u001b[J4           0.31556        0.319                     1.41183     1.34282               2982.58       \n",
            "\u001b[J     total [####################..............................] 41.76%\n",
            "this epoch [########..........................................] 17.62%\n",
            "      2200 iter, 4 epoch / 10 epochs\n",
            "   0.70708 iters/sec. Estimated time to finish: 1:12:18.992332.\n",
            "\u001b[4A\u001b[J     total [#####################.............................] 43.66%\n",
            "this epoch [##################................................] 36.60%\n",
            "      2300 iter, 4 epoch / 10 epochs\n",
            "   0.70944 iters/sec. Estimated time to finish: 1:09:43.564157.\n",
            "\u001b[4A\u001b[J     total [######################............................] 45.56%\n",
            "this epoch [###########################.......................] 55.58%\n",
            "      2400 iter, 4 epoch / 10 epochs\n",
            "   0.71174 iters/sec. Estimated time to finish: 1:07:09.587623.\n",
            "\u001b[4A\u001b[J     total [#######################...........................] 47.46%\n",
            "this epoch [#####################################.............] 74.56%\n",
            "      2500 iter, 4 epoch / 10 epochs\n",
            "   0.71386 iters/sec. Estimated time to finish: 1:04:37.488473.\n",
            "\u001b[4A\u001b[J     total [########################..........................] 49.35%\n",
            "this epoch [##############################################....] 93.55%\n",
            "      2600 iter, 4 epoch / 10 epochs\n",
            "   0.71583 iters/sec. Estimated time to finish: 1:02:07.166566.\n",
            "\u001b[4A\u001b[J5           0.320627       0.325                     1.30055     1.23273               3716.05       \n",
            "\u001b[J     total [#########################.........................] 51.25%\n",
            "this epoch [######............................................] 12.53%\n",
            "      2700 iter, 5 epoch / 10 epochs\n",
            "   0.70858 iters/sec. Estimated time to finish: 1:00:24.171001.\n",
            "\u001b[4A\u001b[J     total [##########################........................] 53.15%\n",
            "this epoch [###############...................................] 31.51%\n",
            "      2800 iter, 5 epoch / 10 epochs\n",
            "   0.71044 iters/sec. Estimated time to finish: 0:57:53.913038.\n",
            "\u001b[4A\u001b[J     total [###########################.......................] 55.05%\n",
            "this epoch [#########################.........................] 50.49%\n",
            "      2900 iter, 5 epoch / 10 epochs\n",
            "    0.7122 iters/sec. Estimated time to finish: 0:55:24.890498.\n",
            "\u001b[4A\u001b[J     total [############################......................] 56.95%\n",
            "this epoch [##################################................] 69.48%\n",
            "      3000 iter, 5 epoch / 10 epochs\n",
            "   0.71383 iters/sec. Estimated time to finish: 0:52:57.225873.\n",
            "\u001b[4A\u001b[J     total [#############################.....................] 58.85%\n",
            "this epoch [############################################......] 88.46%\n",
            "      3100 iter, 5 epoch / 10 epochs\n",
            "   0.71539 iters/sec. Estimated time to finish: 0:50:30.521102.\n",
            "\u001b[4A\u001b[J6           0.337002       0.3395                    1.25674     1.32164               4452.79       \n",
            "\u001b[J     total [##############################....................] 60.74%\n",
            "this epoch [###...............................................]  7.44%\n",
            "      3200 iter, 6 epoch / 10 epochs\n",
            "    0.7093 iters/sec. Estimated time to finish: 0:48:35.532908.\n",
            "\u001b[4A\u001b[J     total [###############################...................] 62.64%\n",
            "this epoch [#############.....................................] 26.42%\n",
            "      3300 iter, 6 epoch / 10 epochs\n",
            "   0.71093 iters/sec. Estimated time to finish: 0:46:08.220322.\n",
            "\u001b[4A\u001b[J     total [################################..................] 64.54%\n",
            "this epoch [######################............................] 45.41%\n",
            "      3400 iter, 6 epoch / 10 epochs\n",
            "   0.71246 iters/sec. Estimated time to finish: 0:43:41.905372.\n",
            "\u001b[4A\u001b[J     total [#################################.................] 66.44%\n",
            "this epoch [################################..................] 64.39%\n",
            "      3500 iter, 6 epoch / 10 epochs\n",
            "    0.7137 iters/sec. Estimated time to finish: 0:41:17.233358.\n",
            "\u001b[4A\u001b[J     total [##################################................] 68.34%\n",
            "this epoch [#########################################.........] 83.37%\n",
            "      3600 iter, 6 epoch / 10 epochs\n",
            "   0.71479 iters/sec. Estimated time to finish: 0:38:53.565794.\n",
            "\u001b[4A\u001b[J7           0.31926        0.3595                    1.30213     1.23087               5193.41       \n",
            "\u001b[J     total [###################################...............] 70.24%\n",
            "this epoch [#.................................................]  2.35%\n",
            "      3700 iter, 7 epoch / 10 epochs\n",
            "   0.70923 iters/sec. Estimated time to finish: 0:36:50.856669.\n",
            "\u001b[4A\u001b[J     total [####################################..............] 72.13%\n",
            "this epoch [##########........................................] 21.34%\n",
            "      3800 iter, 7 epoch / 10 epochs\n",
            "   0.71033 iters/sec. Estimated time to finish: 0:34:26.655138.\n",
            "\u001b[4A\u001b[J     total [#####################################.............] 74.03%\n",
            "this epoch [####################..............................] 40.32%\n",
            "      3900 iter, 7 epoch / 10 epochs\n",
            "   0.71139 iters/sec. Estimated time to finish: 0:32:03.002782.\n",
            "\u001b[4A\u001b[J     total [#####################################.............] 75.93%\n",
            "this epoch [#############################.....................] 59.30%\n",
            "      4000 iter, 7 epoch / 10 epochs\n",
            "   0.71244 iters/sec. Estimated time to finish: 0:29:39.808387.\n",
            "\u001b[4A\u001b[J     total [######################################............] 77.83%\n",
            "this epoch [#######################################...........] 78.28%\n",
            "      4100 iter, 7 epoch / 10 epochs\n",
            "   0.71348 iters/sec. Estimated time to finish: 0:27:17.057271.\n",
            "\u001b[4A\u001b[J     total [#######################################...........] 79.73%\n",
            "this epoch [################################################..] 97.27%\n",
            "      4200 iter, 7 epoch / 10 epochs\n",
            "   0.71447 iters/sec. Estimated time to finish: 0:24:54.813627.\n",
            "\u001b[4A\u001b[J8           0.328368       0.3325                    1.27154     1.21163               5938.16       \n",
            "\u001b[J     total [########################################..........] 81.62%\n",
            "this epoch [########..........................................] 16.25%\n",
            "      4300 iter, 8 epoch / 10 epochs\n",
            "    0.7098 iters/sec. Estimated time to finish: 0:22:43.765257.\n",
            "\u001b[4A\u001b[J     total [#########################################.........] 83.52%\n",
            "this epoch [#################.................................] 35.23%\n",
            "      4400 iter, 8 epoch / 10 epochs\n",
            "   0.71076 iters/sec. Estimated time to finish: 0:20:21.225661.\n",
            "\u001b[4A\u001b[J     total [##########################################........] 85.42%\n",
            "this epoch [###########################.......................] 54.21%\n",
            "      4500 iter, 8 epoch / 10 epochs\n",
            "   0.71169 iters/sec. Estimated time to finish: 0:17:59.120146.\n",
            "\u001b[4A\u001b[J     total [###########################################.......] 87.32%\n",
            "this epoch [####################################..............] 73.20%\n",
            "      4600 iter, 8 epoch / 10 epochs\n",
            "   0.71262 iters/sec. Estimated time to finish: 0:15:37.387780.\n",
            "\u001b[4A\u001b[J     total [############################################......] 89.22%\n",
            "this epoch [##############################################....] 92.18%\n",
            "      4700 iter, 8 epoch / 10 epochs\n",
            "   0.71351 iters/sec. Estimated time to finish: 0:13:16.068225.\n",
            "\u001b[4A\u001b[J9           0.331879       0.347                     1.27815     1.28565               6682.56       \n",
            "\u001b[J     total [#############################################.....] 91.12%\n",
            "this epoch [#####.............................................] 11.16%\n",
            "      4800 iter, 9 epoch / 10 epochs\n",
            "   0.70933 iters/sec. Estimated time to finish: 0:10:59.774779.\n",
            "\u001b[4A\u001b[J     total [##############################################....] 93.01%\n",
            "this epoch [###############...................................] 30.14%\n",
            "      4900 iter, 9 epoch / 10 epochs\n",
            "   0.71024 iters/sec. Estimated time to finish: 0:08:38.136760.\n",
            "\u001b[4A\u001b[J     total [###############################################...] 94.91%\n",
            "this epoch [########################..........................] 49.13%\n",
            "      5000 iter, 9 epoch / 10 epochs\n",
            "   0.71112 iters/sec. Estimated time to finish: 0:06:16.870659.\n",
            "\u001b[4A\u001b[J     total [################################################..] 96.81%\n",
            "this epoch [##################################................] 68.11%\n",
            "      5100 iter, 9 epoch / 10 epochs\n",
            "   0.71197 iters/sec. Estimated time to finish: 0:03:55.963993.\n",
            "\u001b[4A\u001b[J     total [#################################################.] 98.71%\n",
            "this epoch [###########################################.......] 87.09%\n",
            "      5200 iter, 9 epoch / 10 epochs\n",
            "    0.7128 iters/sec. Estimated time to finish: 0:01:35.398773.\n",
            "\u001b[4A\u001b[J10          0.352662       0.4295                    1.23344     1.08813               7422.86       \n",
            "\u001b[J"
          ],
          "name": "stdout"
        }
      ]
    },
    {
      "metadata": {
        "id": "b71VV3If7rse",
        "colab_type": "code",
        "colab": {
          "base_uri": "https://localhost:8080/",
          "height": 695
        },
        "outputId": "66235852-e230-4b3d-c9e5-1f323cfd9b16"
      },
      "cell_type": "code",
      "source": [
        "import json\n",
        "import pandas as pd\n",
        "with open('result/potato/log') as f:\n",
        "  result = pd.DataFrame(json.load(f))\n",
        "\n",
        "result[['main/accuracy','validation/main/accuracy']].plot()\n",
        "result[['main/loss','validation/main/loss']].plot()"
      ],
      "execution_count": 9,
      "outputs": [
        {
          "output_type": "execute_result",
          "data": {
            "text/plain": [
              "<matplotlib.axes._subplots.AxesSubplot at 0x7f36012de940>"
            ]
          },
          "metadata": {
            "tags": []
          },
          "execution_count": 9
        },
        {
          "output_type": "display_data",
          "data": {
            "image/png": "[encoded data removed]",
            "text/plain": [
              "<matplotlib.figure.Figure at 0x7f365a9851d0>"
            ]
          },
          "metadata": {
            "tags": []
          }
        },
        {
          "output_type": "display_data",
          "data": {
            "image/png": "[encoded data removed]",
            "text/plain": [
              "<matplotlib.figure.Figure at 0x7f36012d9f98>"
            ]
          },
          "metadata": {
            "tags": []
          }
        }
      ]
    },
    {
      "metadata": {
        "id": "l5fyrPEK8roy",
        "colab_type": "code",
        "colab": {
          "base_uri": "https://localhost:8080/",
          "height": 52
        },
        "outputId": "52d9c798-c0f6-4572-adeb-676e0155c950"
      },
      "cell_type": "code",
      "source": [
        "  import os\n",
        "  \n",
        "  # Evaluate on test dataset\n",
        "  test = LabeledImageDataset('data/test/test_labels.txt', root='data/test/images')\n",
        "  test = TransformDataset(test, ImageTransform())\n",
        "  test_iter = chainer.iterators.SerialIterator(test, BATCHSIZE, repeat=False, shuffle=False)\n",
        "  test_evaluator = extensions.Evaluator(test_iter, model, device=GPUID)\n",
        "  results = test_evaluator()\n",
        "\n",
        "  msg = 'Test loss\\t:{}\\n'.format(results['main/loss'])\n",
        "  msg += 'Test accuracy\\t:{}'.format(results['main/accuracy'])\n",
        "  print(msg)\n",
        "  print(msg, file=open(os.path.join('./', 'test_result.txt'), 'w'))\n",
        "\n",
        "  chainer.serializers.save_npz(os.path.join('./', 'model_iter_{}'.format(updater.iteration)), model)"
      ],
      "execution_count": 10,
      "outputs": [
        {
          "output_type": "stream",
          "text": [
            "Test loss\t:1.0861776\n",
            "Test accuracy\t:0.4333125\n"
          ],
          "name": "stdout"
        }
      ]
    }
  ]
}