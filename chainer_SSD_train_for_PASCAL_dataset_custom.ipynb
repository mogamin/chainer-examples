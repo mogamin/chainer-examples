{
  "nbformat": 4,
  "nbformat_minor": 0,
  "metadata": {
    "colab": {
      "name": "chainer_SSD_train_for_PASCAL_dataset_custom",
      "version": "0.3.2",
      "provenance": [],
      "include_colab_link": true
    },
    "kernelspec": {
      "name": "python3",
      "display_name": "Python 3"
    },
    "accelerator": "GPU"
  },
  "cells": [
    {
      "cell_type": "markdown",
      "metadata": {
        "id": "view-in-github",
        "colab_type": "text"
      },
      "source": [
        "[View in Colaboratory](https://colab.research.google.com/github/mogamin/chainer-examples/blob/master/chainer_SSD_train_for_PASCAL_dataset_custom.ipynb)"
      ]
    },
    {
      "metadata": {
        "id": "uBZHObTfFO8-",
        "colab_type": "code",
        "colab": {}
      },
      "cell_type": "code",
      "source": [
        "![ ! -e ./data ] && curl -L \"https://rebrand.ly/dllab2018-hackathon-cv\" -o data.tar.gz && gzip -d -c data.tar.gz | tar xf -\n",
        "\n",
        "# chainer,chainercv,cudaののセットアップ\n",
        "!apt-get install -y -qq libcusparse8.0 libnvrtc8.0 libnvtoolsext1\n",
        "!ln -snf /usr/lib/x86_64-linux-gnu/libnvrtc-builtins.so.8.0 /usr/lib/x86_64-linux-gnu/libnvrtc-builtins.so\n",
        "!pip install cupy-cuda80==4.3.0 \n",
        "!pip install chainer==4.3.0\n",
        "!pip install chainercv\n",
        "\n",
        "!rm -rf result/"
      ],
      "execution_count": 0,
      "outputs": []
    },
    {
      "metadata": {
        "id": "G4USzz4cFh6c",
        "colab_type": "code",
        "colab": {
          "base_uri": "https://localhost:8080/",
          "height": 52
        },
        "outputId": "14afa6d2-e573-4096-b2df-bdbceb78073d"
      },
      "cell_type": "code",
      "source": [
        "\n",
        "# GPU環境の確認\n",
        "import chainer\n",
        "print('GPU availability:', chainer.cuda.available)\n",
        "print('cuDNN availablility:', chainer.cuda.cudnn_enabled)"
      ],
      "execution_count": 2,
      "outputs": [
        {
          "output_type": "stream",
          "text": [
            "GPU availability: True\n",
            "cuDNN availablility: True\n"
          ],
          "name": "stdout"
        }
      ]
    },
    {
      "metadata": {
        "id": "DMeJ1uxOFkFe",
        "colab_type": "code",
        "colab": {}
      },
      "cell_type": "code",
      "source": [
        "# 乱数表の固定化\n",
        "import random\n",
        "import numpy as np\n",
        "\n",
        "RANDOM_SEED = 0\n",
        "random.seed(RANDOM_SEED)\n",
        "np.random.seed(RANDOM_SEED)\n",
        "if chainer.cuda.available:\n",
        "    chainer.cuda.cupy.random.seed(RANDOM_SEED)\n",
        "\n",
        "# 実行時間の生成\n",
        "import datetime\n",
        "now = (datetime.datetime.now() + datetime.timedelta(hours=+9)).strftime('%Y%m%d-%H%M%S')"
      ],
      "execution_count": 0,
      "outputs": []
    },
    {
      "metadata": {
        "id": "sJBfoXYBFpjj",
        "colab_type": "code",
        "colab": {}
      },
      "cell_type": "code",
      "source": [
        "import argparse\n",
        "import copy\n",
        "import numpy as np\n",
        "\n",
        "import chainer\n",
        "from chainer.datasets import ConcatenatedDataset\n",
        "from chainer.datasets import TransformDataset\n",
        "from chainer.optimizer_hooks import WeightDecay\n",
        "from chainer import serializers\n",
        "from chainer import training\n",
        "from chainer.training import extensions\n",
        "from chainer.training import triggers\n",
        "\n",
        "from chainercv.datasets import voc_bbox_label_names\n",
        "from chainercv.datasets import VOCBboxDataset\n",
        "from chainercv.extensions import DetectionVOCEvaluator\n",
        "from chainercv.links.model.ssd import GradientScaling\n",
        "from chainercv.links.model.ssd import multibox_loss\n",
        "from chainercv.links import SSD300\n",
        "from chainercv.links import SSD512\n",
        "from chainercv import transforms\n",
        "\n",
        "from chainercv.links.model.ssd import random_crop_with_bbox_constraints\n",
        "from chainercv.links.model.ssd import random_distort\n",
        "from chainercv.links.model.ssd import resize_with_random_interpolation"
      ],
      "execution_count": 0,
      "outputs": []
    },
    {
      "metadata": {
        "id": "O_0ETOfRFrV9",
        "colab_type": "code",
        "colab": {}
      },
      "cell_type": "code",
      "source": [
        "class MultiboxTrainChain(chainer.Chain):\n",
        "\n",
        "    def __init__(self, model, alpha=1, k=3):\n",
        "        super(MultiboxTrainChain, self).__init__()\n",
        "        with self.init_scope():\n",
        "            self.model = model\n",
        "        self.alpha = alpha\n",
        "        self.k = k\n",
        "\n",
        "    def __call__(self, imgs, gt_mb_locs, gt_mb_labels):\n",
        "        mb_locs, mb_confs = self.model(imgs)\n",
        "        loc_loss, conf_loss = multibox_loss(\n",
        "            mb_locs, mb_confs, gt_mb_locs, gt_mb_labels, self.k)\n",
        "        loss = loc_loss * self.alpha + conf_loss\n",
        "\n",
        "        chainer.reporter.report(\n",
        "            {'loss': loss, 'loss/loc': loc_loss, 'loss/conf': conf_loss},\n",
        "            self)\n",
        "\n",
        "        return loss\n"
      ],
      "execution_count": 0,
      "outputs": []
    },
    {
      "metadata": {
        "id": "Zn4-wBMQFtUa",
        "colab_type": "code",
        "colab": {}
      },
      "cell_type": "code",
      "source": [
        "class Transform(object):\n",
        "\n",
        "    def __init__(self, coder, size, mean):\n",
        "        # to send cpu, make a copy\n",
        "        self.coder = copy.copy(coder)\n",
        "        self.coder.to_cpu()\n",
        "\n",
        "        self.size = size\n",
        "        self.mean = mean\n",
        "\n",
        "    def __call__(self, in_data):\n",
        "        # There are five data augmentation steps\n",
        "        # 1. Color augmentation\n",
        "        # 2. Random expansion\n",
        "        # 3. Random cropping\n",
        "        # 4. Resizing with random interpolation\n",
        "        # 5. Random horizontal flipping\n",
        "\n",
        "        img, bbox, label = in_data\n",
        "\n",
        "        # 1. Color augmentation\n",
        "        img = random_distort(img)\n",
        "\n",
        "        # 2. Random expansion\n",
        "        if np.random.randint(2):\n",
        "            img, param = transforms.random_expand(img, fill=self.mean, return_param=True)\n",
        "            bbox = transforms.translate_bbox(\n",
        "                bbox, y_offset=param['y_offset'], x_offset=param['x_offset'])\n",
        "\n",
        "        # 3. Random cropping\n",
        "        img, param = random_crop_with_bbox_constraints(img, bbox, return_param=True)\n",
        "        bbox, param = transforms.crop_bbox(\n",
        "            bbox, y_slice=param['y_slice'], x_slice=param['x_slice'],\n",
        "            allow_outside_center=False, return_param=True)\n",
        "        label = label[param['index']]\n",
        "\n",
        "        # 4. Resizing with random interpolatation\n",
        "        _, H, W = img.shape\n",
        "        img = resize_with_random_interpolation(img, (self.size, self.size))\n",
        "        bbox = transforms.resize_bbox(bbox, (H, W), (self.size, self.size))\n",
        "\n",
        "        # 5. Random horizontal flipping\n",
        "        img, params = transforms.random_flip(img, x_random=True, return_param=True)\n",
        "        bbox = transforms.flip_bbox(bbox, (self.size, self.size), x_flip=params['x_flip'])\n",
        "\n",
        "        # Preparation for SSD network\n",
        "        img -= self.mean\n",
        "        mb_loc, mb_label = self.coder.encode(bbox, label)\n",
        "\n",
        "        return img, mb_loc, mb_label"
      ],
      "execution_count": 0,
      "outputs": []
    },
    {
      "metadata": {
        "id": "GbVm98uuFwlY",
        "colab_type": "code",
        "colab": {}
      },
      "cell_type": "code",
      "source": [
        "model = SSD300(n_fg_class=len(voc_bbox_label_names), pretrained_model='imagenet')\n",
        "model.use_preset('evaluate')\n",
        "train_chain = MultiboxTrainChain(model)\n",
        "chainer.cuda.get_device_from_id(0).use()\n",
        "model.to_gpu()"
      ],
      "execution_count": 0,
      "outputs": []
    },
    {
      "metadata": {
        "id": "BkBfdk75F0c-",
        "colab_type": "code",
        "colab": {}
      },
      "cell_type": "code",
      "source": [
        "BATCH_SIZE=30\n",
        "train = TransformDataset(\n",
        "    ConcatenatedDataset(\n",
        "        VOCBboxDataset(year='2007', split='trainval'),\n",
        "        VOCBboxDataset(year='2012', split='trainval')\n",
        "    ),\n",
        "    Transform(model.coder, model.insize, model.mean))\n",
        "train_iter = chainer.iterators.MultiprocessIterator(train, BATCH_SIZE)"
      ],
      "execution_count": 0,
      "outputs": []
    },
    {
      "metadata": {
        "id": "TDJKLw5qGi1p",
        "colab_type": "code",
        "colab": {}
      },
      "cell_type": "code",
      "source": [
        "test = VOCBboxDataset(year='2007', split='test', use_difficult=True, return_difficult=True)\n",
        "test_iter = chainer.iterators.SerialIterator(test, BATCH_SIZE, repeat=False, shuffle=False)"
      ],
      "execution_count": 0,
      "outputs": []
    },
    {
      "metadata": {
        "id": "w99N2ftSGrEN",
        "colab_type": "code",
        "colab": {}
      },
      "cell_type": "code",
      "source": [
        "# initial lr is set to 1e-3 by ExponentialShift\n",
        "optimizer = chainer.optimizers.MomentumSGD()\n",
        "optimizer.setup(train_chain)\n",
        "for param in train_chain.params():\n",
        "    if param.name == 'b':\n",
        "        param.update_rule.add_hook(GradientScaling(2))\n",
        "    else:\n",
        "        param.update_rule.add_hook(WeightDecay(0.0005))"
      ],
      "execution_count": 0,
      "outputs": []
    },
    {
      "metadata": {
        "id": "UUGPabB5GvxZ",
        "colab_type": "code",
        "colab": {}
      },
      "cell_type": "code",
      "source": [
        "updater = training.updaters.StandardUpdater(train_iter, optimizer, device=0)\n",
        "trainer = training.Trainer(updater, (12000, 'iteration'), 'result/ssd')\n",
        "trainer.extend(\n",
        "    extensions.ExponentialShift('lr', 0.1, init=1e-3),\n",
        "    trigger=triggers.ManualScheduleTrigger([6000, 7000, 8000, 9000, 10000], 'iteration')\n",
        ")"
      ],
      "execution_count": 0,
      "outputs": []
    },
    {
      "metadata": {
        "id": "beY_P6GfG-BN",
        "colab_type": "code",
        "colab": {}
      },
      "cell_type": "code",
      "source": [
        "trainer.extend(\n",
        "    DetectionVOCEvaluator(test_iter, model, use_07_metric=True, label_names=voc_bbox_label_names), trigger=(500, 'iteration')\n",
        ")"
      ],
      "execution_count": 0,
      "outputs": []
    },
    {
      "metadata": {
        "id": "Jf_N9TdDHJ3g",
        "colab_type": "code",
        "colab": {
          "base_uri": "https://localhost:8080/",
          "height": 878
        },
        "outputId": "a5ab3d48-7a94-4a69-dff3-45e190bc452b"
      },
      "cell_type": "code",
      "source": [
        "log_interval = 100, 'iteration'\n",
        "trainer.extend(extensions.LogReport(trigger=log_interval))\n",
        "trainer.extend(extensions.observe_lr(), trigger=log_interval)\n",
        "trainer.extend(extensions.PrintReport(\n",
        "    ['epoch', 'iteration', 'elapsed_time', 'lr', 'main/loss', 'main/loss/loc', 'main/loss/conf', 'validation/main/map']),\n",
        "    trigger=log_interval)\n",
        "trainer.extend(extensions.ProgressBar(update_interval=1000))\n",
        "trainer.extend(extensions.snapshot(), trigger=(10000, 'iteration'))\n",
        "trainer.extend(extensions.snapshot_object(model, 'model_iter_{.updater.iteration}'), trigger=(500, 'iteration'))\n",
        "trainer.run()"
      ],
      "execution_count": 0,
      "outputs": [
        {
          "output_type": "stream",
          "text": [
            "epoch       iteration   elapsed_time  lr          main/loss   main/loss/loc  main/loss/conf  validation/main/map\n",
            "\u001b[J0           100         418.651       0.001       11.4051     2.7515         8.65364                              \n",
            "\u001b[J0           200         833.439       0.001       7.63825     2.48227        5.15598                              \n",
            "\u001b[J0           300         1248.29       0.001       7.07584     2.18369        4.89214                              \n",
            "\u001b[J0           400         1663.47       0.001       6.84913     2.07899        4.77013                              \n"
          ],
          "name": "stdout"
        },
        {
          "output_type": "stream",
          "text": [
            "/usr/local/lib/python3.6/dist-packages/chainercv/evaluations/eval_detection_voc.py:236: RuntimeWarning: invalid value encountered in true_divide\n",
            "  prec[l] = tp / (fp + tp)\n"
          ],
          "name": "stderr"
        },
        {
          "output_type": "stream",
          "text": [
            "\u001b[J0           500         2685.82       0.001       6.63025     1.96854        4.66171         0.0859105            \n",
            "\u001b[J1           600         3106.42       0.001       6.3659      1.87459        4.49131                              \n",
            "\u001b[J1           700         3521.94       0.001       6.18958     1.81362        4.37595                              \n",
            "\u001b[J1           800         3937.09       0.001       6.05159     1.7797         4.27189                              \n",
            "\u001b[J1           900         4352.39       0.001       5.92704     1.73025        4.19679                              \n",
            "\u001b[J1           1000        5363.5        0.001       5.78615     1.69596        4.09019         0.196362             \n",
            "\u001b[J     total [####..............................................]  8.33%\n",
            "this epoch [########################################..........] 81.26%\n",
            "      1000 iter, 1 epoch / 12000 iterations\n",
            "       inf iters/sec. Estimated time to finish: 0:00:00.\n",
            "\u001b[4A\u001b[J1           1100        5784.39       0.001       5.68667     1.68354        4.00313                              \n",
            "\u001b[J2           1200        6199.58       0.001       5.5293      1.64888        3.88042                              \n",
            "\u001b[J2           1300        6614.8        0.001       5.43962     1.63516        3.80446                              \n",
            "\u001b[J2           1400        7030.2        0.001       5.29573     1.58448        3.71125                              \n",
            "\u001b[J2           1500        8025.73       0.001       5.34423     1.59641        3.74782         0.282214             \n",
            "\u001b[J2           1600        8446.03       0.001       5.1793      1.56137        3.61792                              \n",
            "\u001b[J3           1700        8861.11       0.001       5.16417     1.55298        3.61119                              \n",
            "\u001b[J3           1800        9276.1        0.001       5.02617     1.53027        3.4959                               \n",
            "\u001b[J3           1900        9690.75       0.001       4.98111     1.49862        3.48249                              \n",
            "\u001b[J3           2000        10685.8       0.001       4.9585      1.51632        3.44217         0.391337             \n",
            "\u001b[J     total [########..........................................] 16.67%\n",
            "this epoch [###############################...................] 62.52%\n",
            "      2000 iter, 3 epoch / 12000 iterations\n",
            "   0.18789 iters/sec. Estimated time to finish: 14:47:02.700500.\n",
            "\u001b[4A\u001b[J3           2100        11106.5       0.001       4.85632     1.48487        3.37145                              \n",
            "\u001b[J3           2200        11521.7       0.001       4.90542     1.51283        3.39259                              \n",
            "\u001b[J4           2300        11936.7       0.001       4.74405     1.44344        3.30061                              \n",
            "\u001b[J4           2400        12351.8       0.001       4.71639     1.44064        3.27575                              \n",
            "\u001b[J4           2500        13338.7       0.001       4.67112     1.44582        3.22529         0.469009             \n",
            "\u001b[J4           2600        13759.5       0.001       4.61698     1.4161         3.20087                              \n",
            "\u001b[J4           2700        14174.5       0.001       4.64185     1.43043        3.21143                              \n",
            "\u001b[J5           2800        14589.6       0.001       4.52824     1.39806        3.13019                              \n",
            "\u001b[J5           2900        15004.8       0.001       4.53305     1.39747        3.13558                              \n",
            "\u001b[J5           3000        15982.5       0.001       4.38265     1.35099        3.03166         0.507946             \n",
            "\u001b[J     total [############......................................] 25.00%\n",
            "this epoch [#####################.............................] 43.77%\n",
            "      3000 iter, 5 epoch / 12000 iterations\n",
            "   0.18834 iters/sec. Estimated time to finish: 13:16:25.419326.\n",
            "\u001b[4A\u001b[J5           3100        16402.9       0.001       4.44942     1.38296        3.06646                              \n",
            "\u001b[J5           3200        16817.9       0.001       4.47378     1.3962         3.07757                              \n",
            "\u001b[J5           3300        17232.8       0.001       4.38005     1.36403        3.01602                              \n",
            "\u001b[J6           3400        17647.7       0.001       4.29338     1.33076        2.96262                              \n",
            "\u001b[J6           3500        18629.3       0.001       4.42895     1.39939        3.02956         0.532769             \n"
          ],
          "name": "stdout"
        }
      ]
    },
    {
      "metadata": {
        "id": "AfONWxzgyoIQ",
        "colab_type": "code",
        "colab": {}
      },
      "cell_type": "code",
      "source": [
        ""
      ],
      "execution_count": 0,
      "outputs": []
    },
    {
      "metadata": {
        "id": "Zqw8pDaNHMis",
        "colab_type": "code",
        "colab": {}
      },
      "cell_type": "code",
      "source": [
        "#Google Colabで約24時間かかる計算。なので実際にはやっていません。"
      ],
      "execution_count": 0,
      "outputs": []
    }
  ]
}