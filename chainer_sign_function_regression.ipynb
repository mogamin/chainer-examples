{
  "nbformat": 4,
  "nbformat_minor": 0,
  "metadata": {
    "colab": {
      "name": "chainer-sign-function-regression",
      "version": "0.3.2",
      "provenance": [],
      "include_colab_link": true
    },
    "kernelspec": {
      "name": "python3",
      "display_name": "Python 3"
    }
  },
  "cells": [
    {
      "cell_type": "markdown",
      "metadata": {
        "id": "view-in-github",
        "colab_type": "text"
      },
      "source": [
        "[View in Colaboratory](https://colab.research.google.com/github/mogamin/chainer-examples/blob/master/chainer_sign_function_regression.ipynb)"
      ]
    },
    {
      "metadata": {
        "id": "JxahmQVrkPSL",
        "colab_type": "code",
        "colab": {}
      },
      "cell_type": "code",
      "source": [
        "# https://blue1st-tech.hateblo.jp/entry/2017/09/19/012135"
      ],
      "execution_count": 0,
      "outputs": []
    },
    {
      "metadata": {
        "id": "e5wB0cNlld_v",
        "colab_type": "code",
        "colab": {}
      },
      "cell_type": "code",
      "source": [
        "!pip install chainer"
      ],
      "execution_count": 0,
      "outputs": []
    },
    {
      "metadata": {
        "id": "CcEcoYFyj5fZ",
        "colab_type": "code",
        "colab": {}
      },
      "cell_type": "code",
      "source": [
        "import numpy as np\n",
        "import pandas as pd\n",
        "import matplotlib.pyplot as plt"
      ],
      "execution_count": 0,
      "outputs": []
    },
    {
      "metadata": {
        "id": "IAvA4cFGkUGf",
        "colab_type": "code",
        "colab": {
          "base_uri": "https://localhost:8080/",
          "height": 364
        },
        "outputId": "cfbf88e3-9dfb-4615-8518-644ef0fd9731"
      },
      "cell_type": "code",
      "source": [
        "x = np.linspace(-3, 3 ,100)\n",
        "t = np.sin(x)\n",
        "plt.scatter(x,t)"
      ],
      "execution_count": 134,
      "outputs": [
        {
          "output_type": "execute_result",
          "data": {
            "text/plain": [
              "<matplotlib.collections.PathCollection at 0x7f1f34ada0f0>"
            ]
          },
          "metadata": {
            "tags": []
          },
          "execution_count": 134
        },
        {
          "output_type": "display_data",
          "data": {
            "image/png": "[encoded data removed]",
            "text/plain": [
              "<matplotlib.figure.Figure at 0x7f1f34925a58>"
            ]
          },
          "metadata": {
            "tags": []
          }
        }
      ]
    },
    {
      "metadata": {
        "id": "ZzAuIcECk8AH",
        "colab_type": "code",
        "colab": {
          "base_uri": "https://localhost:8080/",
          "height": 86
        },
        "outputId": "d4d18319-f30f-433f-efbb-458b4d660fff"
      },
      "cell_type": "code",
      "source": [
        "import chainer\n",
        "from chainer.datasets import tuple_dataset\n",
        "from chainer.datasets import split_dataset_random\n",
        "\n",
        "x = np.linspace(-3, 3 ,100)\n",
        "t = np.sin(x)\n",
        "\n",
        "# ここで、回帰の際に注意しないといけないこととして、教師データのサイズが (xxx,) となっていますが、\n",
        "# (xxx, 1) のようにxxx行1変数ということを明確にできていないとtrainer.run()のタイミングでエラーが出ます。\n",
        "# 逆に分類の場合は、(xxx,) のような形式が正しいため、区別して覚えておくことが重要です。\n",
        "\n",
        "x = x.reshape(len(x), 1)\n",
        "x = np.array(x, dtype=np.float32)\n",
        "\n",
        "t = t.reshape(len(t), 1)\n",
        "t = np.array(t, dtype=np.float32)\n",
        "\n",
        "dataset = list(zip(x, t))\n",
        "train, test = split_dataset_random(dataset, int(len(dataset)*0.7))\n",
        "\n",
        "print(type(train))       #chainer.datasets.sub_dataset.SubDataset\n",
        "print(type(train[0]))    #tuple\n",
        "print(type(train[0][0])) #numpy.ndarray\n",
        "print(type(train[0][1])) #numpy.ndarray"
      ],
      "execution_count": 135,
      "outputs": [
        {
          "output_type": "stream",
          "text": [
            "<class 'chainer.datasets.sub_dataset.SubDataset'>\n",
            "<class 'tuple'>\n",
            "<class 'numpy.ndarray'>\n",
            "<class 'numpy.ndarray'>\n"
          ],
          "name": "stdout"
        }
      ]
    },
    {
      "metadata": {
        "id": "Rh8d-h9Blm2x",
        "colab_type": "code",
        "colab": {}
      },
      "cell_type": "code",
      "source": [
        "import chainer.links as L\n",
        "import chainer.functions as F\n",
        "\n",
        "# モデルの作成\n",
        "class NN(chainer.Chain):\n",
        "    # 中間層３層を定義\n",
        "    def __init__(self, n_units1, n_units2, n_output):\n",
        "        super().__init__()\n",
        "        with self.init_scope():\n",
        "            self.l1= L.Linear(None, n_units1)\n",
        "            self.l2 = L.Linear(None, n_units2)\n",
        "            self.l3 = L.Linear(None, n_output)\n",
        "    \n",
        "    # 学習用のメソッド\n",
        "    def __call__(self, x, t, train = True):\n",
        "      # 与えられたxから推論を行い、その結果と教師データの誤差を返す\n",
        "      y = self.predictor(x)\n",
        "      loss = F.mean_squared_error(y, t)\n",
        "      if train:\n",
        "          chainer.report({'loss': loss}, self)\n",
        "      return loss\n",
        "    \n",
        "    # 推論\n",
        "    def predictor(self, x):\n",
        "      h = F.relu(self.l1(x))\n",
        "      h = F.relu(self.l2(h))\n",
        "      return self.l3(h)"
      ],
      "execution_count": 0,
      "outputs": []
    },
    {
      "metadata": {
        "id": "zkQKzLZ4lr_f",
        "colab_type": "code",
        "colab": {}
      },
      "cell_type": "code",
      "source": [
        "# 1層目が100units, 2層目が30units, 3層目が1units(回帰だから)\n",
        "model = NN(100, 30, 1)"
      ],
      "execution_count": 0,
      "outputs": []
    },
    {
      "metadata": {
        "id": "9907HMrol0w7",
        "colab_type": "code",
        "colab": {}
      },
      "cell_type": "code",
      "source": [
        "from chainer import optimizers\n",
        "from chainer import training\n",
        "\n",
        "optimizer = optimizers.Adam()\n",
        "optimizer.setup(model)\n",
        "\n",
        "batchsize = 20\n",
        "train_iter = chainer.iterators.SerialIterator(train, batchsize)\n",
        "test_iter = chainer.iterators.SerialIterator(test, batchsize, repeat = False, shuffle = False)\n",
        "updater = training.StandardUpdater(train_iter, optimizer)"
      ],
      "execution_count": 0,
      "outputs": []
    },
    {
      "metadata": {
        "id": "B4KTode1mHz3",
        "colab_type": "code",
        "colab": {
          "base_uri": "https://localhost:8080/",
          "height": 3476
        },
        "outputId": "544a3c2c-1257-40b9-f18c-4b5aef9470a3"
      },
      "cell_type": "code",
      "source": [
        "from chainer.training import extensions\n",
        "\n",
        "epoch = 200\n",
        "trainer = training.Trainer(updater, (epoch, 'epoch'), out = 'result')\n",
        "trainer.extend(extensions.Evaluator(test_iter, model))\n",
        "trainer.extend(extensions.LogReport(trigger=(1, 'epoch')))\n",
        "trainer.extend(extensions.PrintReport(['epoch', 'main/loss', 'validation/main/loss', 'elapsed_time']), trigger=(1, 'epoch'))\n",
        "trainer.run()"
      ],
      "execution_count": 139,
      "outputs": [
        {
          "output_type": "stream",
          "text": [
            "epoch       main/loss   validation/main/loss  elapsed_time\n",
            "\u001b[J1           1.12555     0.320404              0.0153993     \n",
            "\u001b[J2           0.456463    0.162036              0.0265117     \n",
            "\u001b[J3           0.204963    0.248079              0.0398844     \n",
            "\u001b[J4           0.157637    0.382189              0.0504552     \n",
            "\u001b[J5           0.238593    0.475454              0.0630057     \n",
            "\u001b[J6           0.23753     0.434726              0.0735003     \n",
            "\u001b[J7           0.207309    0.348458              0.0863736     \n",
            "\u001b[J8           0.162421    0.274877              0.0974663     \n",
            "\u001b[J9           0.149063    0.210832              0.112699      \n",
            "\u001b[J10          0.152597    0.187269              0.123851      \n",
            "\u001b[J11          0.159976    0.174395              0.136772      \n",
            "\u001b[J12          0.153099    0.175818              0.14698       \n",
            "\u001b[J13          0.146581    0.188782              0.160335      \n",
            "\u001b[J14          0.151209    0.211135              0.170781      \n",
            "\u001b[J15          0.147408    0.232693              0.184869      \n",
            "\u001b[J16          0.138956    0.253139              0.196591      \n",
            "\u001b[J17          0.150559    0.233554              0.209976      \n",
            "\u001b[J18          0.130071    0.222319              0.225026      \n",
            "\u001b[J19          0.128037    0.207874              0.240199      \n",
            "\u001b[J20          0.151378    0.20742               0.251047      \n",
            "\u001b[J21          0.131632    0.200915              0.263648      \n",
            "\u001b[J22          0.141823    0.200023              0.273957      \n",
            "\u001b[J23          0.13597     0.20118               0.28858       \n",
            "\u001b[J24          0.131863    0.207829              0.299631      \n",
            "\u001b[J25          0.141604    0.20281               0.314477      \n",
            "\u001b[J26          0.119276    0.193884              0.326619      \n",
            "\u001b[J27          0.12405     0.193595              0.341235      \n",
            "\u001b[J28          0.136799    0.202434              0.353375      \n",
            "\u001b[J29          0.12557     0.20431               0.368162      \n",
            "\u001b[J30          0.131563    0.199681              0.380197      \n",
            "\u001b[J31          0.126151    0.185031              0.394252      \n",
            "\u001b[J32          0.125516    0.184545              0.405344      \n",
            "\u001b[J33          0.118434    0.180904              0.419125      \n",
            "\u001b[J34          0.128426    0.187501              0.433188      \n",
            "\u001b[J35          0.11464     0.181461              0.449579      \n",
            "\u001b[J36          0.1261      0.179973              0.460365      \n",
            "\u001b[J37          0.116097    0.184679              0.474557      \n",
            "\u001b[J38          0.119149    0.186378              0.486647      \n",
            "\u001b[J39          0.121652    0.180623              0.500542      \n",
            "\u001b[J40          0.107123    0.173865              0.512051      \n",
            "\u001b[J41          0.103909    0.174258              0.525269      \n",
            "\u001b[J42          0.121978    0.171856              0.537792      \n",
            "\u001b[J43          0.107274    0.168892              0.551591      \n",
            "\u001b[J44          0.113271    0.165426              0.563213      \n",
            "\u001b[J45          0.0992711   0.166724              0.576945      \n",
            "\u001b[J46          0.115225    0.162421              0.588615      \n",
            "\u001b[J47          0.106071    0.159134              0.602227      \n",
            "\u001b[J48          0.0998016   0.160747              0.615363      \n",
            "\u001b[J49          0.104507    0.165602              0.631527      \n",
            "\u001b[J50          0.0984196   0.15364               0.646256      \n",
            "\u001b[J51          0.0956189   0.145442              0.662727      \n",
            "\u001b[J52          0.101462    0.144603              0.674264      \n",
            "\u001b[J53          0.103376    0.149895              0.688684      \n",
            "\u001b[J54          0.0853197   0.149134              0.701975      \n",
            "\u001b[J55          0.0915157   0.148155              0.717114      \n",
            "\u001b[J56          0.09379     0.145798              0.728715      \n",
            "\u001b[J57          0.0877635   0.13419               0.743056      \n",
            "\u001b[J58          0.0933756   0.131538              0.755936      \n",
            "\u001b[J59          0.0928745   0.144486              0.76981       \n",
            "\u001b[J60          0.0798911   0.136908              0.782578      \n",
            "\u001b[J61          0.0791206   0.125782              0.797615      \n",
            "\u001b[J62          0.0898883   0.120598              0.810033      \n",
            "\u001b[J63          0.0776194   0.122939              0.824436      \n",
            "\u001b[J64          0.0870432   0.139113              0.836645      \n",
            "\u001b[J65          0.0711275   0.127026              0.850838      \n",
            "\u001b[J66          0.0831089   0.115704              0.867178      \n",
            "\u001b[J67          0.0711593   0.106721              0.880971      \n",
            "\u001b[J68          0.0777709   0.111849              0.894357      \n",
            "\u001b[J69          0.0807664   0.116114              0.909244      \n",
            "\u001b[J70          0.058794    0.107544              0.921784      \n",
            "\u001b[J71          0.0682238   0.10529               0.936477      \n",
            "\u001b[J72          0.0648632   0.10416               0.948965      \n",
            "\u001b[J73          0.0629598   0.106891              0.963243      \n",
            "\u001b[J74          0.066722    0.108619              0.975701      \n",
            "\u001b[J75          0.0583785   0.100984              0.99194       \n",
            "\u001b[J76          0.064748    0.0867821             1.00366       \n",
            "\u001b[J77          0.0679955   0.0847298             1.01836       \n",
            "\u001b[J78          0.0475673   0.0838919             1.03064       \n",
            "\u001b[J79          0.0603787   0.093352              1.04524       \n",
            "\u001b[J80          0.0502996   0.0912221             1.05724       \n",
            "\u001b[J81          0.0554144   0.0923854             1.07733       \n",
            "\u001b[J82          0.0489146   0.0823516             1.09006       \n",
            "\u001b[J83          0.0479422   0.0732055             1.10513       \n",
            "\u001b[J84          0.0525978   0.0746938             1.11763       \n",
            "\u001b[J85          0.0520176   0.0753148             1.13191       \n",
            "\u001b[J86          0.0438807   0.0741846             1.14374       \n",
            "\u001b[J87          0.0519043   0.0770012             1.15851       \n",
            "\u001b[J88          0.0372638   0.0701936             1.171         \n",
            "\u001b[J89          0.0420191   0.0731008             1.18554       \n",
            "\u001b[J90          0.0449671   0.0659624             1.19845       \n",
            "\u001b[J91          0.0432959   0.0601763             1.21333       \n",
            "\u001b[J92          0.038559    0.058324              1.22607       \n",
            "\u001b[J93          0.0374822   0.0648864             1.24017       \n",
            "\u001b[J94          0.038346    0.0626072             1.25289       \n",
            "\u001b[J95          0.0346852   0.0610861             1.2682        \n",
            "\u001b[J96          0.0366755   0.058688              1.28193       \n",
            "\u001b[J97          0.0344269   0.0500845             1.30034       \n",
            "\u001b[J98          0.0363955   0.054933              1.31308       \n",
            "\u001b[J99          0.0293415   0.0542022             1.32933       \n",
            "\u001b[J100         0.0349048   0.0510611             1.34226       \n",
            "\u001b[J101         0.0302166   0.0482789             1.35733       \n",
            "\u001b[J102         0.0310095   0.0472527             1.3711        \n",
            "\u001b[J103         0.0319929   0.0462855             1.38639       \n",
            "\u001b[J104         0.02513     0.0431017             1.39898       \n",
            "\u001b[J105         0.0285524   0.0420381             1.41423       \n",
            "\u001b[J106         0.0255968   0.0408547             1.42735       \n",
            "\u001b[J107         0.0235443   0.0446122             1.44253       \n",
            "\u001b[J108         0.0283281   0.0416903             1.45523       \n",
            "\u001b[J109         0.0245652   0.0378234             1.47106       \n",
            "\u001b[J110         0.0238529   0.0377045             1.48403       \n",
            "\u001b[J111         0.0255311   0.0401793             1.50248       \n",
            "\u001b[J112         0.0216117   0.0355994             1.51674       \n",
            "\u001b[J113         0.0218729   0.0352218             1.53117       \n",
            "\u001b[J114         0.02451     0.0356862             1.54458       \n",
            "\u001b[J115         0.0197067   0.0351775             1.56065       \n",
            "\u001b[J116         0.021576    0.0324341             1.57393       \n",
            "\u001b[J117         0.0210659   0.0299583             1.5898        \n",
            "\u001b[J118         0.0175652   0.0297987             1.60304       \n",
            "\u001b[J119         0.0203764   0.0292347             1.61839       \n",
            "\u001b[J120         0.0177393   0.0308639             1.6313        \n",
            "\u001b[J121         0.0209801   0.0287234             1.6462        \n",
            "\u001b[J122         0.0138133   0.027308              1.6591        \n",
            "\u001b[J123         0.0196651   0.0251894             1.67367       \n",
            "\u001b[J124         0.013936    0.0279769             1.68596       \n",
            "\u001b[J125         0.015084    0.0286477             1.70182       \n",
            "\u001b[J126         0.0167854   0.0243189             1.71977       \n",
            "\u001b[J127         0.0143168   0.0218699             1.7355        \n",
            "\u001b[J128         0.0160359   0.0224455             1.74982       \n",
            "\u001b[J129         0.013115    0.0248112             1.76657       \n",
            "\u001b[J130         0.0151135   0.0253359             1.77975       \n",
            "\u001b[J131         0.0123082   0.0217738             1.79638       \n",
            "\u001b[J132         0.0151397   0.0218157             1.80953       \n",
            "\u001b[J133         0.01384     0.0201517             1.82565       \n",
            "\u001b[J134         0.0107647   0.0193347             1.83904       \n",
            "\u001b[J135         0.0117908   0.0181582             1.85436       \n",
            "\u001b[J136         0.0124698   0.0209072             1.86761       \n",
            "\u001b[J137         0.0109092   0.0209459             1.88332       \n",
            "\u001b[J138         0.0119055   0.0191226             1.89675       \n",
            "\u001b[J139         0.0116236   0.0152691             1.91254       \n",
            "\u001b[J140         0.0112821   0.016414              1.92833       \n",
            "\u001b[J141         0.0111973   0.0168846             1.94641       \n",
            "\u001b[J142         0.00979374  0.0183158             1.95966       \n",
            "\u001b[J143         0.010344    0.0156419             1.97718       \n",
            "\u001b[J144         0.00969676  0.0150921             1.99083       \n",
            "\u001b[J145         0.00862741  0.0156696             2.00673       \n",
            "\u001b[J146         0.0102069   0.0141768             2.01989       \n",
            "\u001b[J147         0.00837604  0.0146412             2.03561       \n",
            "\u001b[J148         0.00903612  0.0135883             2.04956       \n",
            "\u001b[J149         0.00827035  0.013867              2.06498       \n",
            "\u001b[J150         0.00838419  0.0142695             2.07805       \n",
            "\u001b[J151         0.0089763   0.0144597             2.09336       \n",
            "\u001b[J152         0.006612    0.0124114             2.10711       \n",
            "\u001b[J153         0.00695058  0.0108974             2.12208       \n",
            "\u001b[J154         0.00851791  0.0114714             2.13751       \n",
            "\u001b[J155         0.0078129   0.0122667             2.15506       \n",
            "\u001b[J156         0.00634181  0.0144844             2.16837       \n",
            "\u001b[J157         0.00782435  0.0106718             2.18531       \n",
            "\u001b[J158         0.00600432  0.0107553             2.19834       \n",
            "\u001b[J159         0.00602157  0.0115091             2.21393       \n",
            "\u001b[J160         0.00711202  0.0107523             2.22756       \n",
            "\u001b[J161         0.00692061  0.00938143            2.24279       \n",
            "\u001b[J162         0.00545315  0.00938721            2.25852       \n",
            "\u001b[J163         0.0062649   0.00947182            2.27376       \n",
            "\u001b[J164         0.00617756  0.00905207            2.28772       \n",
            "\u001b[J165         0.00734858  0.0103879             2.3039        \n",
            "\u001b[J166         0.00515159  0.0077892             2.31797       \n",
            "\u001b[J167         0.00658074  0.00856064            2.3337        \n",
            "\u001b[J168         0.00422023  0.00915232            2.35061       \n",
            "\u001b[J169         0.00608016  0.0101112             2.36941       \n",
            "\u001b[J170         0.00467353  0.00804199            2.38251       \n",
            "\u001b[J171         0.00483197  0.00704492            2.40035       \n",
            "\u001b[J172         0.00511268  0.0074319             2.41421       \n",
            "\u001b[J173         0.00478205  0.00880761            2.4316        \n",
            "\u001b[J174         0.00471668  0.00848278            2.44598       \n",
            "\u001b[J175         0.00422701  0.00748879            2.46181       \n",
            "\u001b[J176         0.00506403  0.00672795            2.47518       \n",
            "\u001b[J177         0.00417187  0.00785748            2.49197       \n",
            "\u001b[J178         0.00474382  0.00767925            2.50598       \n",
            "\u001b[J179         0.00458105  0.00647054            2.52244       \n",
            "\u001b[J180         0.00381113  0.00634315            2.53655       \n",
            "\u001b[J181         0.00367308  0.00791709            2.55275       \n",
            "\u001b[J182         0.00429048  0.00727803            2.57007       \n",
            "\u001b[J183         0.0033766   0.00587868            2.58653       \n",
            "\u001b[J184         0.00406545  0.00544472            2.60095       \n",
            "\u001b[J185         0.00404835  0.00598543            2.61753       \n",
            "\u001b[J186         0.00300263  0.00695345            2.63186       \n",
            "\u001b[J187         0.00321513  0.00725667            2.64761       \n",
            "\u001b[J188         0.00382373  0.00581284            2.66232       \n",
            "\u001b[J189         0.00333979  0.00444463            2.67891       \n",
            "\u001b[J190         0.00343074  0.00449168            2.69348       \n",
            "\u001b[J191         0.00391723  0.00599906            2.71002       \n",
            "\u001b[J192         0.00194977  0.00605564            2.72417       \n",
            "\u001b[J193         0.0028844   0.00592019            2.74272       \n",
            "\u001b[J194         0.00345296  0.00354473            2.75682       \n",
            "\u001b[J195         0.00278346  0.003994              2.77771       \n",
            "\u001b[J196         0.0036855   0.00568653            2.7921        \n",
            "\u001b[J197         0.00351027  0.00458038            2.8087        \n",
            "\u001b[J198         0.00244617  0.00370491            2.82475       \n",
            "\u001b[J199         0.00237539  0.00432082            2.84271       \n",
            "\u001b[J200         0.00284696  0.0054509             2.85655       \n"
          ],
          "name": "stdout"
        }
      ]
    },
    {
      "metadata": {
        "id": "BwUn0WdEnExA",
        "colab_type": "code",
        "colab": {
          "base_uri": "https://localhost:8080/",
          "height": 347
        },
        "outputId": "a6786409-9d80-4824-b700-ac6f0f1a1f5a"
      },
      "cell_type": "code",
      "source": [
        "import json\n",
        "\n",
        "with open('result/log') as f:\n",
        "    logs = json.load(f)\n",
        "\n",
        "result_train = [log['main/loss'] for log in logs]\n",
        "result_test = [log['validation/main/loss'] for log in logs]\n",
        "\n",
        "plt.plot(result_train, label = 'train')\n",
        "plt.plot(result_test, label = 'test')\n",
        "plt.legend()\n",
        "plt.show()"
      ],
      "execution_count": 140,
      "outputs": [
        {
          "output_type": "display_data",
          "data": {
            "image/png": "[encoded data removed]",
            "text/plain": [
              "<matplotlib.figure.Figure at 0x7f1f3498f390>"
            ]
          },
          "metadata": {
            "tags": []
          }
        }
      ]
    },
    {
      "metadata": {
        "id": "Hb2_3_ak_Sq4",
        "colab_type": "code",
        "colab": {
          "base_uri": "https://localhost:8080/",
          "height": 347
        },
        "outputId": "1e5187c5-1c88-4874-bc02-eeec280aabc0"
      },
      "cell_type": "code",
      "source": [
        "# モデルを使用した予測値\n",
        "y = model.predictor(x).data\n",
        "plt.plot(x, t, label = 't')\n",
        "plt.scatter(x, y, label = 'y')\n",
        "plt.legend()\n",
        "plt.show()"
      ],
      "execution_count": 141,
      "outputs": [
        {
          "output_type": "display_data",
          "data": {
            "image/png": "[encoded data removed]",
            "text/plain": [
              "<matplotlib.figure.Figure at 0x7f1f34ada710>"
            ]
          },
          "metadata": {
            "tags": []
          }
        }
      ]
    }
  ]
}