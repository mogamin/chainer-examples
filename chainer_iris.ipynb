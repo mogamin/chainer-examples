{
  "nbformat": 4,
  "nbformat_minor": 0,
  "metadata": {
    "colab": {
      "name": "chainer-iris",
      "version": "0.3.2",
      "provenance": [],
      "include_colab_link": true
    },
    "kernelspec": {
      "name": "python3",
      "display_name": "Python 3"
    },
    "accelerator": "GPU"
  },
  "cells": [
    {
      "cell_type": "markdown",
      "metadata": {
        "id": "view-in-github",
        "colab_type": "text"
      },
      "source": [
        "[View in Colaboratory](https://colab.research.google.com/github/mogamin/chainer-examples/blob/master/chainer_iris.ipynb)"
      ]
    },
    {
      "metadata": {
        "id": "xD8orKjU_2xl",
        "colab_type": "code",
        "colab": {
          "base_uri": "https://localhost:8080/",
          "height": 120
        },
        "outputId": "cf79c001-2e59-44dc-ff83-868a2333fb93"
      },
      "cell_type": "code",
      "source": [
        "!pip install chainer\n",
        "import chainer"
      ],
      "execution_count": 3,
      "outputs": [
        {
          "output_type": "stream",
          "text": [
            "Requirement already satisfied: chainer in /usr/local/lib/python3.6/dist-packages (4.3.1)\n",
            "Requirement already satisfied: filelock in /usr/local/lib/python3.6/dist-packages (from chainer) (3.0.4)\n",
            "Requirement already satisfied: six>=1.9.0 in /usr/local/lib/python3.6/dist-packages (from chainer) (1.11.0)\n",
            "Requirement already satisfied: numpy>=1.9.0 in /usr/local/lib/python3.6/dist-packages (from chainer) (1.14.5)\n",
            "Requirement already satisfied: protobuf>=3.0.0 in /usr/local/lib/python3.6/dist-packages (from chainer) (3.6.0)\n",
            "Requirement already satisfied: setuptools in /usr/local/lib/python3.6/dist-packages (from protobuf>=3.0.0->chainer) (39.1.0)\n"
          ],
          "name": "stdout"
        }
      ]
    },
    {
      "metadata": {
        "id": "WeXaGu2ja87D",
        "colab_type": "code",
        "colab": {}
      },
      "cell_type": "code",
      "source": [
        "import chainer.links as L\n",
        "import chainer.functions as F\n",
        "import numpy as np\n",
        "import pandas as pd\n",
        "import matplotlib.pyplot as plt\n",
        "%matplotlib inline"
      ],
      "execution_count": 0,
      "outputs": []
    },
    {
      "metadata": {
        "id": "2iHQR5pFbGSi",
        "colab_type": "code",
        "colab": {}
      },
      "cell_type": "code",
      "source": [
        "from sklearn.datasets import load_iris\n",
        "iris = load_iris()"
      ],
      "execution_count": 0,
      "outputs": []
    },
    {
      "metadata": {
        "id": "4WqmoE0pbRTN",
        "colab_type": "code",
        "colab": {
          "base_uri": "https://localhost:8080/",
          "height": 1118
        },
        "outputId": "3f7c1f46-d5d4-49a9-9768-a01b5bd03a2a"
      },
      "cell_type": "code",
      "source": [
        "print(iris.keys())\n",
        "print(iris['DESCR'])"
      ],
      "execution_count": 23,
      "outputs": [
        {
          "output_type": "stream",
          "text": [
            "dict_keys(['data', 'target', 'target_names', 'DESCR', 'feature_names'])\n",
            "Iris Plants Database\n",
            "====================\n",
            "\n",
            "Notes\n",
            "-----\n",
            "Data Set Characteristics:\n",
            "    :Number of Instances: 150 (50 in each of three classes)\n",
            "    :Number of Attributes: 4 numeric, predictive attributes and the class\n",
            "    :Attribute Information:\n",
            "        - sepal length in cm\n",
            "        - sepal width in cm\n",
            "        - petal length in cm\n",
            "        - petal width in cm\n",
            "        - class:\n",
            "                - Iris-Setosa\n",
            "                - Iris-Versicolour\n",
            "                - Iris-Virginica\n",
            "    :Summary Statistics:\n",
            "\n",
            "    ============== ==== ==== ======= ===== ====================\n",
            "                    Min  Max   Mean    SD   Class Correlation\n",
            "    ============== ==== ==== ======= ===== ====================\n",
            "    sepal length:   4.3  7.9   5.84   0.83    0.7826\n",
            "    sepal width:    2.0  4.4   3.05   0.43   -0.4194\n",
            "    petal length:   1.0  6.9   3.76   1.76    0.9490  (high!)\n",
            "    petal width:    0.1  2.5   1.20  0.76     0.9565  (high!)\n",
            "    ============== ==== ==== ======= ===== ====================\n",
            "\n",
            "    :Missing Attribute Values: None\n",
            "    :Class Distribution: 33.3% for each of 3 classes.\n",
            "    :Creator: R.A. Fisher\n",
            "    :Donor: Michael Marshall (MARSHALL%PLU@io.arc.nasa.gov)\n",
            "    :Date: July, 1988\n",
            "\n",
            "This is a copy of UCI ML iris datasets.\n",
            "http://archive.ics.uci.edu/ml/datasets/Iris\n",
            "\n",
            "The famous Iris database, first used by Sir R.A Fisher\n",
            "\n",
            "This is perhaps the best known database to be found in the\n",
            "pattern recognition literature.  Fisher's paper is a classic in the field and\n",
            "is referenced frequently to this day.  (See Duda & Hart, for example.)  The\n",
            "data set contains 3 classes of 50 instances each, where each class refers to a\n",
            "type of iris plant.  One class is linearly separable from the other 2; the\n",
            "latter are NOT linearly separable from each other.\n",
            "\n",
            "References\n",
            "----------\n",
            "   - Fisher,R.A. \"The use of multiple measurements in taxonomic problems\"\n",
            "     Annual Eugenics, 7, Part II, 179-188 (1936); also in \"Contributions to\n",
            "     Mathematical Statistics\" (John Wiley, NY, 1950).\n",
            "   - Duda,R.O., & Hart,P.E. (1973) Pattern Classification and Scene Analysis.\n",
            "     (Q327.D83) John Wiley & Sons.  ISBN 0-471-22361-1.  See page 218.\n",
            "   - Dasarathy, B.V. (1980) \"Nosing Around the Neighborhood: A New System\n",
            "     Structure and Classification Rule for Recognition in Partially Exposed\n",
            "     Environments\".  IEEE Transactions on Pattern Analysis and Machine\n",
            "     Intelligence, Vol. PAMI-2, No. 1, 67-71.\n",
            "   - Gates, G.W. (1972) \"The Reduced Nearest Neighbor Rule\".  IEEE Transactions\n",
            "     on Information Theory, May 1972, 431-433.\n",
            "   - See also: 1988 MLC Proceedings, 54-64.  Cheeseman et al\"s AUTOCLASS II\n",
            "     conceptual clustering system finds 3 classes in the data.\n",
            "   - Many, many more ...\n",
            "\n"
          ],
          "name": "stdout"
        }
      ]
    },
    {
      "metadata": {
        "id": "H57Znooyc3OY",
        "colab_type": "code",
        "colab": {
          "base_uri": "https://localhost:8080/",
          "height": 258
        },
        "outputId": "16495dc9-9f29-4ffd-fc43-b3439f92676c"
      },
      "cell_type": "code",
      "source": [
        "print(iris['target_names'])\n",
        "print(iris['target'].shape)\n",
        "print(iris['data'].shape)\n",
        "print(iris['feature_names'])\n",
        "print(iris.data[:10,:])"
      ],
      "execution_count": 37,
      "outputs": [
        {
          "output_type": "stream",
          "text": [
            "['setosa' 'versicolor' 'virginica']\n",
            "(150,)\n",
            "(150, 4)\n",
            "['sepal length (cm)', 'sepal width (cm)', 'petal length (cm)', 'petal width (cm)']\n",
            "[[5.1 3.5 1.4 0.2]\n",
            " [4.9 3.  1.4 0.2]\n",
            " [4.7 3.2 1.3 0.2]\n",
            " [4.6 3.1 1.5 0.2]\n",
            " [5.  3.6 1.4 0.2]\n",
            " [5.4 3.9 1.7 0.4]\n",
            " [4.6 3.4 1.4 0.3]\n",
            " [5.  3.4 1.5 0.2]\n",
            " [4.4 2.9 1.4 0.2]\n",
            " [4.9 3.1 1.5 0.1]]\n"
          ],
          "name": "stdout"
        }
      ]
    },
    {
      "metadata": {
        "id": "9xm6xOWYeFRi",
        "colab_type": "code",
        "colab": {
          "base_uri": "https://localhost:8080/",
          "height": 361
        },
        "outputId": "a418e504-d473-4108-9719-8253b93ee4ee"
      },
      "cell_type": "code",
      "source": [
        "from sklearn import preprocessing\n",
        "X0 = iris.data\n",
        "print(X0[:10,:])\n",
        "X1 = preprocessing.scale(X0)\n",
        "rint(X1[:10,:])"
      ],
      "execution_count": 52,
      "outputs": [
        {
          "output_type": "stream",
          "text": [
            "[[5.1 3.5 1.4 0.2]\n",
            " [4.9 3.  1.4 0.2]\n",
            " [4.7 3.2 1.3 0.2]\n",
            " [4.6 3.1 1.5 0.2]\n",
            " [5.  3.6 1.4 0.2]\n",
            " [5.4 3.9 1.7 0.4]\n",
            " [4.6 3.4 1.4 0.3]\n",
            " [5.  3.4 1.5 0.2]\n",
            " [4.4 2.9 1.4 0.2]\n",
            " [4.9 3.1 1.5 0.1]]\n",
            "[[-0.90068117  1.03205722 -1.3412724  -1.31297673]\n",
            " [-1.14301691 -0.1249576  -1.3412724  -1.31297673]\n",
            " [-1.38535265  0.33784833 -1.39813811 -1.31297673]\n",
            " [-1.50652052  0.10644536 -1.2844067  -1.31297673]\n",
            " [-1.02184904  1.26346019 -1.3412724  -1.31297673]\n",
            " [-0.53717756  1.95766909 -1.17067529 -1.05003079]\n",
            " [-1.50652052  0.80065426 -1.3412724  -1.18150376]\n",
            " [-1.02184904  0.80065426 -1.2844067  -1.31297673]\n",
            " [-1.74885626 -0.35636057 -1.3412724  -1.31297673]\n",
            " [-1.14301691  0.10644536 -1.2844067  -1.4444497 ]]\n"
          ],
          "name": "stdout"
        }
      ]
    },
    {
      "metadata": {
        "id": "UohYc47Oile8",
        "colab_type": "code",
        "colab": {
          "base_uri": "https://localhost:8080/",
          "height": 189
        },
        "outputId": "6e9625e9-2217-460a-c465-153f2365a870"
      },
      "cell_type": "code",
      "source": [
        "X2 = X1.astype(np.float32)\n",
        "print(X2[:10,:])"
      ],
      "execution_count": 55,
      "outputs": [
        {
          "output_type": "stream",
          "text": [
            "[[-0.9006812   1.0320572  -1.3412724  -1.3129767 ]\n",
            " [-1.1430169  -0.1249576  -1.3412724  -1.3129767 ]\n",
            " [-1.3853526   0.33784834 -1.3981382  -1.3129767 ]\n",
            " [-1.5065205   0.10644536 -1.2844067  -1.3129767 ]\n",
            " [-1.021849    1.2634602  -1.3412724  -1.3129767 ]\n",
            " [-0.53717756  1.9576691  -1.1706753  -1.0500308 ]\n",
            " [-1.5065205   0.80065423 -1.3412724  -1.1815038 ]\n",
            " [-1.021849    0.80065423 -1.2844067  -1.3129767 ]\n",
            " [-1.7488563  -0.35636055 -1.3412724  -1.3129767 ]\n",
            " [-1.1430169   0.10644536 -1.2844067  -1.4444497 ]]\n"
          ],
          "name": "stdout"
        }
      ]
    },
    {
      "metadata": {
        "id": "RyYPBOk3jZqT",
        "colab_type": "code",
        "colab": {
          "base_uri": "https://localhost:8080/",
          "height": 120
        },
        "outputId": "4a79d477-1af3-4fca-de47-ccc6179af431"
      },
      "cell_type": "code",
      "source": [
        "Y0 = iris.target\n",
        "print(Y0.shape)\n",
        "Y1 = Y0.flatten().astype(np.int32)\n",
        "print(Y1)"
      ],
      "execution_count": 62,
      "outputs": [
        {
          "output_type": "stream",
          "text": [
            "(150,)\n",
            "[0 0 0 0 0 0 0 0 0 0 0 0 0 0 0 0 0 0 0 0 0 0 0 0 0 0 0 0 0 0 0 0 0 0 0 0 0\n",
            " 0 0 0 0 0 0 0 0 0 0 0 0 0 1 1 1 1 1 1 1 1 1 1 1 1 1 1 1 1 1 1 1 1 1 1 1 1\n",
            " 1 1 1 1 1 1 1 1 1 1 1 1 1 1 1 1 1 1 1 1 1 1 1 1 1 1 2 2 2 2 2 2 2 2 2 2 2\n",
            " 2 2 2 2 2 2 2 2 2 2 2 2 2 2 2 2 2 2 2 2 2 2 2 2 2 2 2 2 2 2 2 2 2 2 2 2 2\n",
            " 2 2]\n"
          ],
          "name": "stdout"
        }
      ]
    },
    {
      "metadata": {
        "id": "FKealWaPjt7S",
        "colab_type": "code",
        "colab": {
          "base_uri": "https://localhost:8080/",
          "height": 52
        },
        "outputId": "91489c3f-18d6-4a70-d120-c4b24310d8ce"
      },
      "cell_type": "code",
      "source": [
        "X = X2\n",
        "Y = Y1\n",
        "dataset = list(zip(X, Y))\n",
        "train, test = chainer.datasets.split_dataset_random(dataset, int(len(X)*0.7), seed=0)\n",
        "print(len(train))\n",
        "print(len(test))"
      ],
      "execution_count": 80,
      "outputs": [
        {
          "output_type": "stream",
          "text": [
            "105\n",
            "45\n"
          ],
          "name": "stdout"
        }
      ]
    },
    {
      "metadata": {
        "id": "2I-lakYwrdV-",
        "colab_type": "code",
        "colab": {}
      },
      "cell_type": "code",
      "source": [
        "class IrisNN(chainer.Chain):\n",
        "  def __init__(self, n_mid_units=5, n_out=3):\n",
        "    super().__init__()\n",
        "    with self.init_scope():\n",
        "      self.fc1 = L.Linear(None, n_mid_units)\n",
        "      self.fc2 = L.Linear(None, n_out)\n",
        "      \n",
        "  def __call__(self, x):\n",
        "    h = self.fc1(x)\n",
        "    h = F.relu(h)\n",
        "    h = self.fc2(h)\n",
        "    return h "
      ],
      "execution_count": 0,
      "outputs": []
    },
    {
      "metadata": {
        "id": "I28pnc194cpc",
        "colab_type": "code",
        "colab": {}
      },
      "cell_type": "code",
      "source": [
        "batchsize = 1\n",
        "train_iter = chainer.iterators.SerialIterator(train, batchsize)\n",
        "test_iter = chainer.iterators.SerialIterator(test, batchsize, repeat=False, shuffle=False)"
      ],
      "execution_count": 0,
      "outputs": []
    },
    {
      "metadata": {
        "id": "9Tt32gUEsooR",
        "colab_type": "code",
        "colab": {
          "base_uri": "https://localhost:8080/",
          "height": 34
        },
        "outputId": "51ddce0e-58f6-4459-b02f-4c32468dbe04"
      },
      "cell_type": "code",
      "source": [
        "model = L.Classifier(IrisNN())\n",
        "optimizer = chainer.optimizers.SGD()\n",
        "optimizer.setup(model)"
      ],
      "execution_count": 236,
      "outputs": [
        {
          "output_type": "execute_result",
          "data": {
            "text/plain": [
              "<chainer.optimizers.sgd.SGD at 0x7fa2dff4ab00>"
            ]
          },
          "metadata": {
            "tags": []
          },
          "execution_count": 236
        }
      ]
    },
    {
      "metadata": {
        "id": "DPEIQZQ5sw-S",
        "colab_type": "code",
        "colab": {}
      },
      "cell_type": "code",
      "source": [
        "from chainer import training\n",
        "updater = training.StandardUpdater(train_iter, optimizer, device=-1)"
      ],
      "execution_count": 0,
      "outputs": []
    },
    {
      "metadata": {
        "id": "LtWN3Ugwtmz3",
        "colab_type": "code",
        "colab": {
          "base_uri": "https://localhost:8080/",
          "height": 551
        },
        "outputId": "05fb531a-7336-4434-fcc7-90bc28a16175"
      },
      "cell_type": "code",
      "source": [
        "epoch = 30\n",
        "trainer = training.Trainer(updater, (epoch,'epoch'), out='result/iris')\n",
        "\n",
        "from chainer.training import extensions\n",
        "trainer.extend(extensions.Evaluator(test_iter, model, device=-1))\n",
        "trainer.extend(extensions.LogReport(trigger=(1,'epoch')))\n",
        "trainer.extend(extensions.PrintReport(['epoch','main/accuracy','validation/main/accuracy','main/loss','validation/main/loss','elapsed_time']), trigger=(1,'epoch'))\n",
        "trainer.run()"
      ],
      "execution_count": 238,
      "outputs": [
        {
          "output_type": "stream",
          "text": [
            "epoch       main/accuracy  validation/main/accuracy  main/loss   validation/main/loss  elapsed_time\n",
            "\u001b[J1           0.32381        0.622222                  1.12921     0.973917              0.244068      \n",
            "\u001b[J2           0.695238       0.844444                  0.851726    0.730597              0.48313       \n",
            "\u001b[J3           0.780952       0.822222                  0.650774    0.563864              0.723168      \n",
            "\u001b[J4           0.780952       0.911111                  0.530057    0.465548              0.959421      \n",
            "\u001b[J5           0.866667       0.911111                  0.456119    0.40695               1.21623       \n",
            "\u001b[J6           0.857143       0.911111                  0.406316    0.361011              1.47184       \n",
            "\u001b[J7           0.87619        0.911111                  0.368837    0.321867              1.71085       \n",
            "\u001b[J8           0.895238       0.933333                  0.338469    0.295564              1.94551       \n",
            "\u001b[J9           0.92381        0.933333                  0.312991    0.273441              2.18918       \n",
            "\u001b[J10          0.92381        0.955556                  0.291208    0.247191              2.43946       \n",
            "\u001b[J11          0.961905       0.955556                  0.272673    0.22925               2.69697       \n",
            "\u001b[J12          0.961905       0.955556                  0.254958    0.209964              2.95105       \n",
            "\u001b[J13          0.961905       0.955556                  0.240308    0.198419              3.20416       \n",
            "\u001b[J14          0.952381       0.955556                  0.226065    0.187835              3.4572        \n",
            "\u001b[J15          0.952381       0.955556                  0.213017    0.179026              3.70498       \n",
            "\u001b[J16          0.952381       0.955556                  0.200053    0.166369              3.96648       \n",
            "\u001b[J17          0.971429       0.955556                  0.187995    0.154638              4.22336       \n",
            "\u001b[J18          0.961905       0.955556                  0.177463    0.146974              4.46235       \n",
            "\u001b[J19          0.980952       0.955556                  0.167691    0.139096              4.71184       \n",
            "\u001b[J20          0.980952       0.955556                  0.158991    0.136217              4.96895       \n",
            "\u001b[J21          0.980952       0.955556                  0.150685    0.131428              5.24724       \n",
            "\u001b[J22          0.980952       0.955556                  0.142915    0.129666              5.50229       \n",
            "\u001b[J23          0.980952       0.955556                  0.136558    0.120832              5.75019       \n",
            "\u001b[J24          0.990476       0.955556                  0.130011    0.115107              6.00852       \n",
            "\u001b[J25          0.980952       0.955556                  0.124339    0.108799              6.2627        \n",
            "\u001b[J26          0.980952       0.955556                  0.120015    0.107523              6.52569       \n",
            "\u001b[J27          0.990476       0.955556                  0.114368    0.101022              6.77726       \n",
            "\u001b[J28          0.980952       0.955556                  0.110773    0.104162              7.02941       \n",
            "\u001b[J29          0.980952       0.955556                  0.105572    0.0958134             7.28458       \n",
            "\u001b[J30          0.980952       0.955556                  0.101384    0.0893107             7.53749       \n"
          ],
          "name": "stdout"
        }
      ]
    },
    {
      "metadata": {
        "id": "gUT28AfxvwUn",
        "colab_type": "code",
        "colab": {}
      },
      "cell_type": "code",
      "source": [
        "import json\n",
        "with open('result/iris/log') as f:\n",
        "  logs = json.load(f)\n",
        "  results = pd.DataFrame(logs)"
      ],
      "execution_count": 0,
      "outputs": []
    },
    {
      "metadata": {
        "id": "84AswpaZwQ0M",
        "colab_type": "code",
        "colab": {
          "base_uri": "https://localhost:8080/",
          "height": 531
        },
        "outputId": "1156cdf4-08e4-480c-d709-41ef868bc164"
      },
      "cell_type": "code",
      "source": [
        "results[['main/accuracy','validation/main/accuracy']].plot()\n",
        "results[['main/loss','validation/main/loss']].plot()"
      ],
      "execution_count": 240,
      "outputs": [
        {
          "output_type": "execute_result",
          "data": {
            "text/plain": [
              "<matplotlib.axes._subplots.AxesSubplot at 0x7fa2dff29278>"
            ]
          },
          "metadata": {
            "tags": []
          },
          "execution_count": 240
        },
        {
          "output_type": "display_data",
          "data": {
            "image/png": "[encoded data removed]",
            "text/plain": [
              "<matplotlib.figure.Figure at 0x7fa2e004fc88>"
            ]
          },
          "metadata": {
            "tags": []
          }
        },
        {
          "output_type": "display_data",
          "data": {
            "image/png": "[encoded data removed]",
            "text/plain": [
              "<matplotlib.figure.Figure at 0x7fa2dff0f0b8>"
            ]
          },
          "metadata": {
            "tags": []
          }
        }
      ]
    }
  ]
}