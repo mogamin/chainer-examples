{
  "nbformat": 4,
  "nbformat_minor": 0,
  "metadata": {
    "colab": {
      "name": "chainer-PotatoChips-Classification",
      "version": "0.3.2",
      "provenance": [],
      "include_colab_link": true
    },
    "kernelspec": {
      "name": "python3",
      "display_name": "Python 3"
    },
    "accelerator": "GPU"
  },
  "cells": [
    {
      "cell_type": "markdown",
      "metadata": {
        "id": "view-in-github",
        "colab_type": "text"
      },
      "source": [
        "[View in Colaboratory](https://colab.research.google.com/github/mogamin/chainer-examples/blob/master/chainer_PotatoChips_Classification.ipynb)"
      ]
    },
    {
      "metadata": {
        "id": "UTQIIJl-PCrW",
        "colab_type": "code",
        "colab": {
          "base_uri": "https://localhost:8080/",
          "height": 449
        },
        "outputId": "b0c1f6c8-f3ed-4508-b7af-94afa6900c55"
      },
      "cell_type": "code",
      "source": [
        "# \n",
        "![ ! -e ./data ] && curl -L \"https://rebrand.ly/dllab2018-hackathon-cv\" -o data.tar.gz && gzip -d -c data.tar.gz | tar xf -\n",
        "\n",
        "!apt-get install -y -qq libcusparse8.0 libnvrtc8.0 libnvtoolsext1\n",
        "!ln -snf /usr/lib/x86_64-linux-gnu/libnvrtc-builtins.so.8.0 /usr/lib/x86_64-linux-gnu/libnvrtc-builtins.so\n",
        "!pip install cupy-cuda80==4.3.0 \n",
        "!pip install chainer==4.3.0\n",
        "!pip install chainercv\n",
        "\n",
        "import chainer\n",
        "print('GPU availability:', chainer.cuda.available)\n",
        "print('cuDNN availablility:', chainer.cuda.cudnn_enabled)"
      ],
      "execution_count": 1,
      "outputs": [
        {
          "output_type": "stream",
          "text": [
            "Requirement already satisfied: cupy-cuda80==4.3.0 in /usr/local/lib/python3.6/dist-packages (4.3.0)\r\n",
            "Requirement already satisfied: fastrlock>=0.3 in /usr/local/lib/python3.6/dist-packages (from cupy-cuda80==4.3.0) (0.3)\r\n",
            "Requirement already satisfied: six>=1.9.0 in /usr/local/lib/python3.6/dist-packages (from cupy-cuda80==4.3.0) (1.11.0)\r\n",
            "Requirement already satisfied: numpy>=1.9.0 in /usr/local/lib/python3.6/dist-packages (from cupy-cuda80==4.3.0) (1.14.5)\n",
            "Requirement already satisfied: chainer==4.3.0 in /usr/local/lib/python3.6/dist-packages (4.3.0)\n",
            "Requirement already satisfied: cupy-cuda80<5.0.0,>=4.3.0 in /usr/local/lib/python3.6/dist-packages (from chainer==4.3.0) (4.3.0)\n",
            "Requirement already satisfied: six>=1.9.0 in /usr/local/lib/python3.6/dist-packages (from chainer==4.3.0) (1.11.0)\n",
            "Requirement already satisfied: protobuf>=3.0.0 in /usr/local/lib/python3.6/dist-packages (from chainer==4.3.0) (3.6.0)\n",
            "Requirement already satisfied: numpy>=1.9.0 in /usr/local/lib/python3.6/dist-packages (from chainer==4.3.0) (1.14.5)\n",
            "Requirement already satisfied: filelock in /usr/local/lib/python3.6/dist-packages (from chainer==4.3.0) (3.0.4)\n",
            "Requirement already satisfied: fastrlock>=0.3 in /usr/local/lib/python3.6/dist-packages (from cupy-cuda80<5.0.0,>=4.3.0->chainer==4.3.0) (0.3)\n",
            "Requirement already satisfied: setuptools in /usr/local/lib/python3.6/dist-packages (from protobuf>=3.0.0->chainer==4.3.0) (39.1.0)\n",
            "Requirement already satisfied: chainercv in /usr/local/lib/python3.6/dist-packages (0.10.0)\n",
            "Requirement already satisfied: chainer>=4.0 in /usr/local/lib/python3.6/dist-packages (from chainercv) (4.3.0)\n",
            "Requirement already satisfied: Pillow in /usr/local/lib/python3.6/dist-packages (from chainercv) (4.0.0)\n",
            "Requirement already satisfied: filelock in /usr/local/lib/python3.6/dist-packages (from chainer>=4.0->chainercv) (3.0.4)\n",
            "Requirement already satisfied: numpy>=1.9.0 in /usr/local/lib/python3.6/dist-packages (from chainer>=4.0->chainercv) (1.14.5)\n",
            "Requirement already satisfied: six>=1.9.0 in /usr/local/lib/python3.6/dist-packages (from chainer>=4.0->chainercv) (1.11.0)\n",
            "Requirement already satisfied: cupy-cuda80<5.0.0,>=4.3.0 in /usr/local/lib/python3.6/dist-packages (from chainer>=4.0->chainercv) (4.3.0)\n",
            "Requirement already satisfied: protobuf>=3.0.0 in /usr/local/lib/python3.6/dist-packages (from chainer>=4.0->chainercv) (3.6.0)\n",
            "Requirement already satisfied: olefile in /usr/local/lib/python3.6/dist-packages (from Pillow->chainercv) (0.45.1)\n",
            "Requirement already satisfied: fastrlock>=0.3 in /usr/local/lib/python3.6/dist-packages (from cupy-cuda80<5.0.0,>=4.3.0->chainer>=4.0->chainercv) (0.3)\n",
            "Requirement already satisfied: setuptools in /usr/local/lib/python3.6/dist-packages (from protobuf>=3.0.0->chainer>=4.0->chainercv) (39.1.0)\n",
            "GPU availability: True\n",
            "cuDNN availablility: True\n"
          ],
          "name": "stdout"
        }
      ]
    },
    {
      "metadata": {
        "id": "Kio2gdDSTNKm",
        "colab_type": "code",
        "colab": {}
      },
      "cell_type": "code",
      "source": [
        "import chainer\n",
        "import chainer.links as L\n",
        "import chainer.functions as F\n",
        "from chainer.datasets import LabeledImageDataset\n",
        "from chainer.datasets import TransformDataset"
      ],
      "execution_count": 0,
      "outputs": []
    },
    {
      "metadata": {
        "id": "F6pM0HRnbH8Q",
        "colab_type": "code",
        "colab": {}
      },
      "cell_type": "code",
      "source": [
        "from chainercv.transforms import resize\n",
        "\n",
        "# 画像データの前処理変換\n",
        "class ImageTransform(object):\n",
        "    def __call__(self, in_data):\n",
        "        img, label = in_data\n",
        "        #_, H, W = img.shape\n",
        "        #img = random_sized_crop(img)\n",
        "        img = resize(img, (224, 224))\n",
        "        #img = random_flip(img, x_random=True)\n",
        "        return img, label"
      ],
      "execution_count": 0,
      "outputs": []
    },
    {
      "metadata": {
        "id": "U6z5ow9KQVDT",
        "colab_type": "code",
        "colab": {}
      },
      "cell_type": "code",
      "source": [
        "# データのロード\n",
        "train = LabeledImageDataset('data/train/train_labels.txt', root='data/train/images')\n",
        "train = TransformDataset(train, ImageTransform())\n",
        "valid = LabeledImageDataset('data/valid/valid_labels.txt', root='data/valid/images')\n",
        "valid = TransformDataset(valid, ImageTransform())"
      ],
      "execution_count": 0,
      "outputs": []
    },
    {
      "metadata": {
        "id": "bj2Pz_ZHfScN",
        "colab_type": "code",
        "colab": {}
      },
      "cell_type": "code",
      "source": [
        "class PotatoMLP(chainer.Chain):\n",
        "  def __init__(self, n_mid_units=5, n_class=9):\n",
        "    super().__init__()\n",
        "    with self.init_scope():\n",
        "        self.fc1 = L.Linear(None, n_mid_units)\n",
        "        self.fc2 = L.Linear(None, n_mid_units)\n",
        "        self.fc3 = L.Linear(None, n_class)\n",
        "  \n",
        "  def __call__(self, x):\n",
        "    h = self.fc1(x)\n",
        "    h = F.relu(h)\n",
        "    h = self.fc2(h)\n",
        "    h = F.relu(h)\n",
        "    h = self.fc3(h)\n",
        "    return h     "
      ],
      "execution_count": 0,
      "outputs": []
    },
    {
      "metadata": {
        "id": "fLRRQYB_sTd2",
        "colab_type": "code",
        "colab": {}
      },
      "cell_type": "code",
      "source": [
        "BATCHSIZE = 100\n",
        "EPOCH=10\n",
        "GPUID=0"
      ],
      "execution_count": 0,
      "outputs": []
    },
    {
      "metadata": {
        "id": "k3SSG4wUTMf5",
        "colab_type": "code",
        "colab": {}
      },
      "cell_type": "code",
      "source": [
        "train_iter = chainer.iterators.SerialIterator(train, BATCHSIZE)\n",
        "valid_iter = chainer.iterators.SerialIterator(valid, BATCHSIZE, repeat=False, shuffle=False)"
      ],
      "execution_count": 0,
      "outputs": []
    },
    {
      "metadata": {
        "id": "E5m4Pvd1fA9U",
        "colab_type": "code",
        "colab": {
          "base_uri": "https://localhost:8080/",
          "height": 35
        },
        "outputId": "d42576b7-0f20-4529-a429-e921bcb664e4"
      },
      "cell_type": "code",
      "source": [
        "#\n",
        "mlp = PotatoMLP(224, 9)\n",
        "model = L.Classifier(mlp)\n",
        "if GPUID >= 0:\n",
        "  model.to_gpu(GPUID)\n",
        "optimizer = chainer.optimizers.Adam()\n",
        "optimizer.setup(model)"
      ],
      "execution_count": 16,
      "outputs": [
        {
          "output_type": "execute_result",
          "data": {
            "text/plain": [
              "<chainer.optimizers.adam.Adam at 0x7f9dfe2a7b38>"
            ]
          },
          "metadata": {
            "tags": []
          },
          "execution_count": 16
        }
      ]
    },
    {
      "metadata": {
        "id": "fpyGiur0hHLJ",
        "colab_type": "code",
        "colab": {
          "base_uri": "https://localhost:8080/",
          "height": 899
        },
        "outputId": "1805de83-1b1c-4eeb-f228-c0149e2897d4"
      },
      "cell_type": "code",
      "source": [
        "#\n",
        "from chainer.training import extensions\n",
        "\n",
        "updater = chainer.training.StandardUpdater(train_iter, optimizer, device=GPUID)\n",
        "trainer = chainer.training.Trainer(updater, (EPOCH, 'epoch'), out='result/potato')\n",
        "trainer.extend(extensions.Evaluator(valid_iter, model, device=GPUID))\n",
        "trainer.extend(extensions.LogReport(trigger=(1,'epoch')))\n",
        "trainer.extend(extensions.PrintReport(['epoch','main/accuracy','validation/main/accuracy','main/loss','validation/main/loss','elapsed_time']), trigger=(1,'epoch'))\n",
        "trainer.extend(extensions.ProgressBar(update_interval=100))\n",
        "trainer.run()"
      ],
      "execution_count": 17,
      "outputs": [
        {
          "output_type": "stream",
          "text": [
            "\u001b[J     total [####..............................................]  9.49%\n",
            "this epoch [###############################################...] 94.91%\n",
            "       100 iter, 0 epoch / 10 epochs\n",
            "       inf iters/sec. Estimated time to finish: 0:00:00.\n",
            "\u001b[4Aepoch       main/accuracy  validation/main/accuracy  main/loss   validation/main/loss  elapsed_time\n",
            "\u001b[J1           0.173491       0.352                     3917.56     265.838               212.734       \n",
            "\u001b[J     total [#########.........................................] 18.98%\n",
            "this epoch [############################################......] 89.83%\n",
            "       200 iter, 1 epoch / 10 epochs\n",
            "   0.49633 iters/sec. Estimated time to finish: 0:28:39.808690.\n",
            "\u001b[4A\u001b[J2           0.331143       0.3265                    356.805     243.832               423.102       \n",
            "\u001b[J     total [##############....................................] 28.47%\n",
            "this epoch [##########################################........] 84.74%\n",
            "       300 iter, 2 epoch / 10 epochs\n",
            "   0.49819 iters/sec. Estimated time to finish: 0:25:12.683585.\n",
            "\u001b[4A\u001b[J3           0.392076       0.4525                    186.525     58.4325               633.095       \n",
            "\u001b[J     total [##################................................] 37.97%\n",
            "this epoch [#######################################...........] 79.65%\n",
            "       400 iter, 3 epoch / 10 epochs\n",
            "   0.49865 iters/sec. Estimated time to finish: 0:21:50.742513.\n",
            "\u001b[4A\u001b[J4           0.556857       0.6105                    40.0172     33.373                842.139       \n",
            "\u001b[J     total [#######################...........................] 47.46%\n",
            "this epoch [#####################################.............] 74.56%\n",
            "       500 iter, 4 epoch / 10 epochs\n",
            "   0.49867 iters/sec. Estimated time to finish: 0:18:30.151727.\n",
            "\u001b[4A\u001b[J5           0.61019        0.2825                    25.1692     97.3621               1050.49       \n",
            "\u001b[J     total [############################......................] 56.95%\n",
            "this epoch [##################################................] 69.48%\n",
            "       600 iter, 5 epoch / 10 epochs\n",
            "   0.49588 iters/sec. Estimated time to finish: 0:15:14.745346.\n",
            "\u001b[4A\u001b[J6           0.507264       0.426                     46.6517     50.6112               1267.12       \n",
            "\u001b[J     total [#################################.................] 66.44%\n",
            "this epoch [################################..................] 64.39%\n",
            "       700 iter, 6 epoch / 10 epochs\n",
            "   0.49629 iters/sec. Estimated time to finish: 0:11:52.481417.\n",
            "\u001b[4A\u001b[J7           0.57           0.5455                    32.9638     27.0918               1475.51       \n",
            "\u001b[J     total [#####################################.............] 75.93%\n",
            "this epoch [#############################.....................] 59.30%\n",
            "       800 iter, 7 epoch / 10 epochs\n",
            "   0.49681 iters/sec. Estimated time to finish: 0:08:30.458680.\n",
            "\u001b[4A\u001b[J8           0.652571       0.659                     17.9252     15.1527               1687.05       \n",
            "\u001b[J     total [##########################################........] 85.42%\n",
            "this epoch [###########################.......................] 54.21%\n",
            "       900 iter, 8 epoch / 10 epochs\n",
            "   0.49666 iters/sec. Estimated time to finish: 0:05:09.264304.\n",
            "\u001b[4A\u001b[J9           0.685755       0.792                     14.2484     6.52907               1894.64       \n",
            "\u001b[J     total [###############################################...] 94.91%\n",
            "this epoch [########################..........................] 49.13%\n",
            "      1000 iter, 9 epoch / 10 epochs\n",
            "   0.49731 iters/sec. Estimated time to finish: 0:01:47.780430.\n",
            "\u001b[4A\u001b[J10          0.748476       0.76                      9.11284     6.80172               2103.81       \n",
            "\u001b[J"
          ],
          "name": "stdout"
        }
      ]
    },
    {
      "metadata": {
        "id": "b71VV3If7rse",
        "colab_type": "code",
        "colab": {
          "base_uri": "https://localhost:8080/",
          "height": 695
        },
        "outputId": "d26e446e-987d-4688-e981-bc10bb44328b"
      },
      "cell_type": "code",
      "source": [
        "import json\n",
        "import pandas as pd\n",
        "with open('result/potato/log') as f:\n",
        "  result = pd.DataFrame(json.load(f))\n",
        "\n",
        "result[['main/accuracy','validation/main/accuracy']].plot()\n",
        "result[['main/loss','validation/main/loss']].plot()"
      ],
      "execution_count": 22,
      "outputs": [
        {
          "output_type": "execute_result",
          "data": {
            "text/plain": [
              "<matplotlib.axes._subplots.AxesSubplot at 0x7f9d8410e6a0>"
            ]
          },
          "metadata": {
            "tags": []
          },
          "execution_count": 22
        },
        {
          "output_type": "display_data",
          "data": {
            "image/png": "[encoded data removed]",
            "text/plain": [
              "<matplotlib.figure.Figure at 0x7f9d8413d518>"
            ]
          },
          "metadata": {
            "tags": []
          }
        },
        {
          "output_type": "display_data",
          "data": {
            "image/png": "[encoded data removed]",
            "text/plain": [
              "<matplotlib.figure.Figure at 0x7f9d840fe208>"
            ]
          },
          "metadata": {
            "tags": []
          }
        }
      ]
    },
    {
      "metadata": {
        "id": "l5fyrPEK8roy",
        "colab_type": "code",
        "colab": {
          "base_uri": "https://localhost:8080/",
          "height": 52
        },
        "outputId": "a7a621ac-f451-48be-e74b-90d84a6d95f5"
      },
      "cell_type": "code",
      "source": [
        "  import os\n",
        "  \n",
        "  # Evaluate on test dataset\n",
        "  test = LabeledImageDataset('data/test/test_labels.txt', root='data/test/images')\n",
        "  test = TransformDataset(test, ImageTransform())\n",
        "  test_iter = chainer.iterators.SerialIterator(test, 1000, repeat=False, shuffle=False)\n",
        "  test_evaluator = extensions.Evaluator(test_iter, model, device=GPUID)\n",
        "  results = test_evaluator()\n",
        "\n",
        "  msg = 'Test loss\\t:{}\\n'.format(results['main/loss'])\n",
        "  msg += 'Test accuracy\\t:{}'.format(results['main/accuracy'])\n",
        "  print(msg)\n",
        "  print(msg, file=open(os.path.join('./', 'test_result.txt'), 'w'))\n",
        "\n",
        "  chainer.serializers.save_npz(os.path.join('./', 'model_iter_{}'.format(updater.iteration)), model)"
      ],
      "execution_count": 26,
      "outputs": [
        {
          "output_type": "stream",
          "text": [
            "Test loss\t:7.3767443\n",
            "Test accuracy\t:0.74256545\n"
          ],
          "name": "stdout"
        }
      ]
    }
  ]
}