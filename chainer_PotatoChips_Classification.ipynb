{
  "nbformat": 4,
  "nbformat_minor": 0,
  "metadata": {
    "colab": {
      "name": "chainer-PotatoChips-Classification",
      "version": "0.3.2",
      "provenance": [],
      "include_colab_link": true
    },
    "kernelspec": {
      "name": "python3",
      "display_name": "Python 3"
    },
    "accelerator": "GPU"
  },
  "cells": [
    {
      "cell_type": "markdown",
      "metadata": {
        "id": "view-in-github",
        "colab_type": "text"
      },
      "source": [
        "[View in Colaboratory](https://colab.research.google.com/github/mogamin/chainer-examples/blob/master/chainer_PotatoChips_Classification.ipynb)"
      ]
    },
    {
      "metadata": {
        "id": "UTQIIJl-PCrW",
        "colab_type": "code",
        "colab": {
          "base_uri": "https://localhost:8080/",
          "height": 449
        },
        "outputId": "611e62c9-3a08-4dc3-c9ec-93ef05602bd6"
      },
      "cell_type": "code",
      "source": [
        "# \n",
        "![ ! -e ./data ] && curl -L \"https://rebrand.ly/dllab2018-hackathon-cv\" -o data.tar.gz && gzip -d -c data.tar.gz | tar xf -\n",
        "\n",
        "!apt-get install -y -qq libcusparse8.0 libnvrtc8.0 libnvtoolsext1\n",
        "!ln -snf /usr/lib/x86_64-linux-gnu/libnvrtc-builtins.so.8.0 /usr/lib/x86_64-linux-gnu/libnvrtc-builtins.so\n",
        "!pip install cupy-cuda80==4.3.0 \n",
        "!pip install chainer==4.3.0\n",
        "!pip install chainercv\n",
        "\n",
        "import chainer\n",
        "print('GPU availability:', chainer.cuda.available)\n",
        "print('cuDNN availablility:', chainer.cuda.cudnn_enabled)"
      ],
      "execution_count": 1,
      "outputs": [
        {
          "output_type": "stream",
          "text": [
            "Requirement already satisfied: cupy-cuda80==4.3.0 in /usr/local/lib/python3.6/dist-packages (4.3.0)\r\n",
            "Requirement already satisfied: fastrlock>=0.3 in /usr/local/lib/python3.6/dist-packages (from cupy-cuda80==4.3.0) (0.3)\r\n",
            "Requirement already satisfied: numpy>=1.9.0 in /usr/local/lib/python3.6/dist-packages (from cupy-cuda80==4.3.0) (1.14.5)\r\n",
            "Requirement already satisfied: six>=1.9.0 in /usr/local/lib/python3.6/dist-packages (from cupy-cuda80==4.3.0) (1.11.0)\n",
            "Requirement already satisfied: chainer==4.3.0 in /usr/local/lib/python3.6/dist-packages (4.3.0)\n",
            "Requirement already satisfied: protobuf>=3.0.0 in /usr/local/lib/python3.6/dist-packages (from chainer==4.3.0) (3.6.0)\n",
            "Requirement already satisfied: filelock in /usr/local/lib/python3.6/dist-packages (from chainer==4.3.0) (3.0.4)\n",
            "Requirement already satisfied: six>=1.9.0 in /usr/local/lib/python3.6/dist-packages (from chainer==4.3.0) (1.11.0)\n",
            "Requirement already satisfied: cupy-cuda80<5.0.0,>=4.3.0 in /usr/local/lib/python3.6/dist-packages (from chainer==4.3.0) (4.3.0)\n",
            "Requirement already satisfied: numpy>=1.9.0 in /usr/local/lib/python3.6/dist-packages (from chainer==4.3.0) (1.14.5)\n",
            "Requirement already satisfied: setuptools in /usr/local/lib/python3.6/dist-packages (from protobuf>=3.0.0->chainer==4.3.0) (39.1.0)\n",
            "Requirement already satisfied: fastrlock>=0.3 in /usr/local/lib/python3.6/dist-packages (from cupy-cuda80<5.0.0,>=4.3.0->chainer==4.3.0) (0.3)\n",
            "Requirement already satisfied: chainercv in /usr/local/lib/python3.6/dist-packages (0.10.0)\n",
            "Requirement already satisfied: Pillow in /usr/local/lib/python3.6/dist-packages (from chainercv) (4.0.0)\n",
            "Requirement already satisfied: chainer>=4.0 in /usr/local/lib/python3.6/dist-packages (from chainercv) (4.3.0)\n",
            "Requirement already satisfied: olefile in /usr/local/lib/python3.6/dist-packages (from Pillow->chainercv) (0.45.1)\n",
            "Requirement already satisfied: protobuf>=3.0.0 in /usr/local/lib/python3.6/dist-packages (from chainer>=4.0->chainercv) (3.6.0)\n",
            "Requirement already satisfied: six>=1.9.0 in /usr/local/lib/python3.6/dist-packages (from chainer>=4.0->chainercv) (1.11.0)\n",
            "Requirement already satisfied: filelock in /usr/local/lib/python3.6/dist-packages (from chainer>=4.0->chainercv) (3.0.4)\n",
            "Requirement already satisfied: cupy-cuda80<5.0.0,>=4.3.0 in /usr/local/lib/python3.6/dist-packages (from chainer>=4.0->chainercv) (4.3.0)\n",
            "Requirement already satisfied: numpy>=1.9.0 in /usr/local/lib/python3.6/dist-packages (from chainer>=4.0->chainercv) (1.14.5)\n",
            "Requirement already satisfied: setuptools in /usr/local/lib/python3.6/dist-packages (from protobuf>=3.0.0->chainer>=4.0->chainercv) (39.1.0)\n",
            "Requirement already satisfied: fastrlock>=0.3 in /usr/local/lib/python3.6/dist-packages (from cupy-cuda80<5.0.0,>=4.3.0->chainer>=4.0->chainercv) (0.3)\n",
            "GPU availability: True\n",
            "cuDNN availablility: True\n"
          ],
          "name": "stdout"
        }
      ]
    },
    {
      "metadata": {
        "id": "Kio2gdDSTNKm",
        "colab_type": "code",
        "colab": {}
      },
      "cell_type": "code",
      "source": [
        "import chainer\n",
        "import chainer.links as L\n",
        "import chainer.functions as F\n",
        "from chainer.datasets import LabeledImageDataset\n",
        "from chainer.datasets import TransformDataset"
      ],
      "execution_count": 0,
      "outputs": []
    },
    {
      "metadata": {
        "id": "F6pM0HRnbH8Q",
        "colab_type": "code",
        "colab": {}
      },
      "cell_type": "code",
      "source": [
        "from chainercv.transforms import resize\n",
        "\n",
        "# 画像データの前処理変換\n",
        "class ImageTransform(object):\n",
        "    def __call__(self, in_data):\n",
        "        img, label = in_data\n",
        "        #_, H, W = img.shape\n",
        "        #img = random_sized_crop(img)\n",
        "        img = resize(img, (224, 224))\n",
        "        #img = random_flip(img, x_random=True)\n",
        "        return img, label"
      ],
      "execution_count": 0,
      "outputs": []
    },
    {
      "metadata": {
        "id": "U6z5ow9KQVDT",
        "colab_type": "code",
        "colab": {}
      },
      "cell_type": "code",
      "source": [
        "# データのロード\n",
        "train = LabeledImageDataset('data/train/train_labels.txt', root='data/train/images')\n",
        "train = TransformDataset(train, ImageTransform())\n",
        "valid = LabeledImageDataset('data/valid/valid_labels.txt', root='data/valid/images')\n",
        "valid = TransformDataset(valid, ImageTransform())"
      ],
      "execution_count": 0,
      "outputs": []
    },
    {
      "metadata": {
        "id": "bj2Pz_ZHfScN",
        "colab_type": "code",
        "colab": {}
      },
      "cell_type": "code",
      "source": [
        "class PotatoMLP(chainer.Chain):\n",
        "  def __init__(self, n_mid_units=5, n_class=9):\n",
        "    super().__init__()\n",
        "    with self.init_scope():\n",
        "        self.fc1 = L.Linear(None, n_mid_units)\n",
        "        self.fc2 = L.Linear(None, n_mid_units)\n",
        "        self.fc3 = L.Linear(None, n_class)\n",
        "  \n",
        "  def __call__(self, x):\n",
        "    h = self.fc1(x)\n",
        "    h = F.relu(h)\n",
        "    h = self.fc2(h)\n",
        "    h = F.relu(h)\n",
        "    h = self.fc3(h)\n",
        "    return h     "
      ],
      "execution_count": 0,
      "outputs": []
    },
    {
      "metadata": {
        "id": "fLRRQYB_sTd2",
        "colab_type": "code",
        "colab": {}
      },
      "cell_type": "code",
      "source": [
        "BATCHSIZE = 10\n",
        "EPOCH=10\n",
        "GPUID=0"
      ],
      "execution_count": 0,
      "outputs": []
    },
    {
      "metadata": {
        "id": "k3SSG4wUTMf5",
        "colab_type": "code",
        "colab": {}
      },
      "cell_type": "code",
      "source": [
        "# イテレータの準備\n",
        "train_iter = chainer.iterators.SerialIterator(train, BATCHSIZE)\n",
        "valid_iter = chainer.iterators.SerialIterator(valid, BATCHSIZE, repeat=False, shuffle=False)"
      ],
      "execution_count": 0,
      "outputs": []
    },
    {
      "metadata": {
        "id": "E5m4Pvd1fA9U",
        "colab_type": "code",
        "colab": {
          "base_uri": "https://localhost:8080/",
          "height": 35
        },
        "outputId": "a6a44bd9-c940-413c-bc77-41075ba4188e"
      },
      "cell_type": "code",
      "source": [
        "#\n",
        "mlp = PotatoMLP(224, 9)\n",
        "model = L.Classifier(mlp)\n",
        "if GPUID >= 0:\n",
        "  model.to_gpu(GPUID)\n",
        "optimizer = chainer.optimizers.Adam()\n",
        "optimizer.setup(model)"
      ],
      "execution_count": 8,
      "outputs": [
        {
          "output_type": "execute_result",
          "data": {
            "text/plain": [
              "<chainer.optimizers.adam.Adam at 0x7f735d0d0da0>"
            ]
          },
          "metadata": {
            "tags": []
          },
          "execution_count": 8
        }
      ]
    },
    {
      "metadata": {
        "id": "fpyGiur0hHLJ",
        "colab_type": "code",
        "colab": {
          "base_uri": "https://localhost:8080/",
          "height": 5356
        },
        "outputId": "4393df40-3300-4571-b45e-2c2d71a1f35b"
      },
      "cell_type": "code",
      "source": [
        "#\n",
        "from chainer.training import extensions\n",
        "\n",
        "updater = chainer.training.StandardUpdater(train_iter, optimizer, device=GPUID)\n",
        "trainer = chainer.training.Trainer(updater, (EPOCH, 'epoch'), out='result/potato')\n",
        "trainer.extend(extensions.Evaluator(valid_iter, model, device=GPUID))\n",
        "trainer.extend(extensions.LogReport(trigger=(1,'epoch')))\n",
        "trainer.extend(extensions.PrintReport(['epoch','main/accuracy','validation/main/accuracy','main/loss','validation/main/loss','elapsed_time']), trigger=(1,'epoch'))\n",
        "trainer.extend(extensions.ProgressBar(update_interval=100))\n",
        "trainer.run()"
      ],
      "execution_count": 9,
      "outputs": [
        {
          "output_type": "stream",
          "text": [
            "\u001b[J     total [..................................................]  0.47%\n",
            "this epoch [##................................................]  4.75%\n",
            "        50 iter, 0 epoch / 10 epochs\n",
            "       inf iters/sec. Estimated time to finish: 0:00:00.\n",
            "\u001b[4A\u001b[J     total [..................................................]  0.95%\n",
            "this epoch [####..............................................]  9.49%\n",
            "       100 iter, 0 epoch / 10 epochs\n",
            "    5.8574 iters/sec. Estimated time to finish: 0:29:41.692792.\n",
            "\u001b[4A\u001b[J     total [..................................................]  1.42%\n",
            "this epoch [#######...........................................] 14.24%\n",
            "       150 iter, 0 epoch / 10 epochs\n",
            "    5.7474 iters/sec. Estimated time to finish: 0:30:07.063401.\n",
            "\u001b[4A\u001b[J     total [..................................................]  1.90%\n",
            "this epoch [#########.........................................] 18.98%\n",
            "       200 iter, 0 epoch / 10 epochs\n",
            "    5.7811 iters/sec. Estimated time to finish: 0:29:47.888162.\n",
            "\u001b[4A\u001b[J     total [#.................................................]  2.37%\n",
            "this epoch [###########.......................................] 23.73%\n",
            "       250 iter, 0 epoch / 10 epochs\n",
            "     5.802 iters/sec. Estimated time to finish: 0:29:32.832541.\n",
            "\u001b[4A\u001b[J     total [#.................................................]  2.85%\n",
            "this epoch [##############....................................] 28.47%\n",
            "       300 iter, 0 epoch / 10 epochs\n",
            "    5.7913 iters/sec. Estimated time to finish: 0:29:27.469234.\n",
            "\u001b[4A\u001b[J     total [#.................................................]  3.32%\n",
            "this epoch [################..................................] 33.22%\n",
            "       350 iter, 0 epoch / 10 epochs\n",
            "    5.7902 iters/sec. Estimated time to finish: 0:29:19.166527.\n",
            "\u001b[4A\u001b[J     total [#.................................................]  3.80%\n",
            "this epoch [##################................................] 37.97%\n",
            "       400 iter, 0 epoch / 10 epochs\n",
            "    5.7745 iters/sec. Estimated time to finish: 0:29:15.312113.\n",
            "\u001b[4A\u001b[J     total [##................................................]  4.27%\n",
            "this epoch [#####################.............................] 42.71%\n",
            "       450 iter, 0 epoch / 10 epochs\n",
            "     5.786 iters/sec. Estimated time to finish: 0:29:03.172379.\n",
            "\u001b[4A\u001b[J     total [##................................................]  4.75%\n",
            "this epoch [#######################...........................] 47.46%\n",
            "       500 iter, 0 epoch / 10 epochs\n",
            "    5.7957 iters/sec. Estimated time to finish: 0:28:51.622588.\n",
            "\u001b[4A\u001b[J     total [##................................................]  5.22%\n",
            "this epoch [##########################........................] 52.20%\n",
            "       550 iter, 0 epoch / 10 epochs\n",
            "    5.8038 iters/sec. Estimated time to finish: 0:28:40.600082.\n",
            "\u001b[4A\u001b[J     total [##................................................]  5.69%\n",
            "this epoch [############################......................] 56.95%\n",
            "       600 iter, 0 epoch / 10 epochs\n",
            "     5.797 iters/sec. Estimated time to finish: 0:28:33.986907.\n",
            "\u001b[4A\u001b[J     total [###...............................................]  6.17%\n",
            "this epoch [##############################....................] 61.69%\n",
            "       650 iter, 0 epoch / 10 epochs\n",
            "    5.7976 iters/sec. Estimated time to finish: 0:28:25.191843.\n",
            "\u001b[4A\u001b[J     total [###...............................................]  6.64%\n",
            "this epoch [#################################.................] 66.44%\n",
            "       700 iter, 0 epoch / 10 epochs\n",
            "    5.8055 iters/sec. Estimated time to finish: 0:28:14.256168.\n",
            "\u001b[4A\u001b[J     total [###...............................................]  7.12%\n",
            "this epoch [###################################...............] 71.18%\n",
            "       750 iter, 0 epoch / 10 epochs\n",
            "    5.7755 iters/sec. Estimated time to finish: 0:28:14.410108.\n",
            "\u001b[4A\u001b[J     total [###...............................................]  7.59%\n",
            "this epoch [#####################################.............] 75.93%\n",
            "       800 iter, 0 epoch / 10 epochs\n",
            "    5.7687 iters/sec. Estimated time to finish: 0:28:07.716433.\n",
            "\u001b[4A\u001b[J     total [####..............................................]  8.07%\n",
            "this epoch [########################################..........] 80.68%\n",
            "       850 iter, 0 epoch / 10 epochs\n",
            "    5.7716 iters/sec. Estimated time to finish: 0:27:58.207650.\n",
            "\u001b[4A\u001b[J     total [####..............................................]  8.54%\n",
            "this epoch [##########################################........] 85.42%\n",
            "       900 iter, 0 epoch / 10 epochs\n",
            "    5.7764 iters/sec. Estimated time to finish: 0:27:48.159216.\n",
            "\u001b[4A\u001b[J     total [####..............................................]  9.02%\n",
            "this epoch [#############################################.....] 90.17%\n",
            "       950 iter, 0 epoch / 10 epochs\n",
            "    5.7773 iters/sec. Estimated time to finish: 0:27:39.265973.\n",
            "\u001b[4A\u001b[J     total [####..............................................]  9.49%\n",
            "this epoch [###############################################...] 94.91%\n",
            "      1000 iter, 0 epoch / 10 epochs\n",
            "    5.7856 iters/sec. Estimated time to finish: 0:27:28.216936.\n",
            "\u001b[4A\u001b[J     total [####..............................................]  9.97%\n",
            "this epoch [#################################################.] 99.66%\n",
            "      1050 iter, 0 epoch / 10 epochs\n",
            "    5.7878 iters/sec. Estimated time to finish: 0:27:18.964184.\n",
            "\u001b[4Aepoch       main/accuracy  validation/main/accuracy  main/loss   validation/main/loss  elapsed_time\n",
            "\u001b[J1           0.297723       0.234                     1397.62     208.825               223.716       \n",
            "\u001b[J     total [#####.............................................] 10.44%\n",
            "this epoch [##................................................]  4.40%\n",
            "      1100 iter, 1 epoch / 10 epochs\n",
            "    4.8896 iters/sec. Estimated time to finish: 0:32:09.808278.\n",
            "\u001b[4A\u001b[J     total [#####.............................................] 10.91%\n",
            "this epoch [####..............................................]  9.15%\n",
            "      1150 iter, 1 epoch / 10 epochs\n",
            "     4.923 iters/sec. Estimated time to finish: 0:31:46.549569.\n",
            "\u001b[4A\u001b[J     total [#####.............................................] 11.39%\n",
            "this epoch [######............................................] 13.90%\n",
            "      1200 iter, 1 epoch / 10 epochs\n",
            "    4.9558 iters/sec. Estimated time to finish: 0:31:23.855261.\n",
            "\u001b[4A\u001b[J     total [#####.............................................] 11.86%\n",
            "this epoch [#########.........................................] 18.64%\n",
            "      1250 iter, 1 epoch / 10 epochs\n",
            "    4.9882 iters/sec. Estimated time to finish: 0:31:01.596311.\n",
            "\u001b[4A\u001b[J     total [######............................................] 12.34%\n",
            "this epoch [###########.......................................] 23.39%\n",
            "      1300 iter, 1 epoch / 10 epochs\n",
            "    5.0199 iters/sec. Estimated time to finish: 0:30:39.873459.\n",
            "\u001b[4A\u001b[J     total [######............................................] 12.81%\n",
            "this epoch [##############....................................] 28.13%\n",
            "      1350 iter, 1 epoch / 10 epochs\n",
            "    5.0536 iters/sec. Estimated time to finish: 0:30:17.704255.\n",
            "\u001b[4A\u001b[J     total [######............................................] 13.29%\n",
            "this epoch [################..................................] 32.88%\n",
            "      1400 iter, 1 epoch / 10 epochs\n",
            "    5.0789 iters/sec. Estimated time to finish: 0:29:58.822255.\n",
            "\u001b[4A\u001b[J     total [######............................................] 13.76%\n",
            "this epoch [##################................................] 37.62%\n",
            "      1450 iter, 1 epoch / 10 epochs\n",
            "    5.1057 iters/sec. Estimated time to finish: 0:29:39.594664.\n",
            "\u001b[4A\u001b[J     total [#######...........................................] 14.24%\n",
            "this epoch [#####################.............................] 42.37%\n",
            "      1500 iter, 1 epoch / 10 epochs\n",
            "    5.1269 iters/sec. Estimated time to finish: 0:29:22.466448.\n",
            "\u001b[4A\u001b[J     total [#######...........................................] 14.71%\n",
            "this epoch [#######################...........................] 47.11%\n",
            "      1550 iter, 1 epoch / 10 epochs\n",
            "    5.1476 iters/sec. Estimated time to finish: 0:29:05.651866.\n",
            "\u001b[4A\u001b[J     total [#######...........................................] 15.19%\n",
            "this epoch [#########################.........................] 51.86%\n",
            "      1600 iter, 1 epoch / 10 epochs\n",
            "    5.1659 iters/sec. Estimated time to finish: 0:28:49.800245.\n",
            "\u001b[4A\u001b[J     total [#######...........................................] 15.66%\n",
            "this epoch [############################......................] 56.61%\n",
            "      1650 iter, 1 epoch / 10 epochs\n",
            "     5.176 iters/sec. Estimated time to finish: 0:28:36.766025.\n",
            "\u001b[4A\u001b[J     total [########..........................................] 16.14%\n",
            "this epoch [##############################....................] 61.35%\n",
            "      1700 iter, 1 epoch / 10 epochs\n",
            "     5.195 iters/sec. Estimated time to finish: 0:28:20.853497.\n",
            "\u001b[4A\u001b[J     total [########..........................................] 16.61%\n",
            "this epoch [#################################.................] 66.10%\n",
            "      1750 iter, 1 epoch / 10 epochs\n",
            "    5.2144 iters/sec. Estimated time to finish: 0:28:04.938690.\n",
            "\u001b[4A\u001b[J     total [########..........................................] 17.08%\n",
            "this epoch [###################################...............] 70.84%\n",
            "      1800 iter, 1 epoch / 10 epochs\n",
            "    5.2317 iters/sec. Estimated time to finish: 0:27:49.825959.\n",
            "\u001b[4A\u001b[J     total [########..........................................] 17.56%\n",
            "this epoch [#####################################.............] 75.59%\n",
            "      1850 iter, 1 epoch / 10 epochs\n",
            "    5.2391 iters/sec. Estimated time to finish: 0:27:37.919213.\n",
            "\u001b[4A\u001b[J     total [#########.........................................] 18.03%\n",
            "this epoch [########################################..........] 80.33%\n",
            "      1900 iter, 1 epoch / 10 epochs\n",
            "    5.2427 iters/sec. Estimated time to finish: 0:27:27.249764.\n",
            "\u001b[4A\u001b[J     total [#########.........................................] 18.51%\n",
            "this epoch [##########################################........] 85.08%\n",
            "      1950 iter, 1 epoch / 10 epochs\n",
            "    5.2578 iters/sec. Estimated time to finish: 0:27:12.994131.\n",
            "\u001b[4A\u001b[J     total [#########.........................................] 18.98%\n",
            "this epoch [############################################......] 89.83%\n",
            "      2000 iter, 1 epoch / 10 epochs\n",
            "    5.2311 iters/sec. Estimated time to finish: 0:27:11.771551.\n",
            "\u001b[4A\u001b[J     total [#########.........................................] 19.46%\n",
            "this epoch [###############################################...] 94.57%\n",
            "      2050 iter, 1 epoch / 10 epochs\n",
            "    5.2454 iters/sec. Estimated time to finish: 0:26:57.783958.\n",
            "\u001b[4A\u001b[J     total [#########.........................................] 19.93%\n",
            "this epoch [#################################################.] 99.32%\n",
            "      2100 iter, 1 epoch / 10 epochs\n",
            "    5.2535 iters/sec. Estimated time to finish: 0:26:45.783089.\n",
            "\u001b[4A\u001b[J2           0.113567       0.117                     36.0155     4.84677               441.477       \n",
            "\u001b[J     total [##########........................................] 20.41%\n",
            "this epoch [##................................................]  4.06%\n",
            "      2150 iter, 2 epoch / 10 epochs\n",
            "     4.866 iters/sec. Estimated time to finish: 0:28:43.381523.\n",
            "\u001b[4A\u001b[J     total [##########........................................] 20.88%\n",
            "this epoch [####..............................................]  8.81%\n",
            "      2200 iter, 2 epoch / 10 epochs\n",
            "    4.8856 iters/sec. Estimated time to finish: 0:28:26.234781.\n",
            "\u001b[4A\u001b[J     total [##########........................................] 21.36%\n",
            "this epoch [######............................................] 13.55%\n",
            "      2250 iter, 2 epoch / 10 epochs\n",
            "    4.9072 iters/sec. Estimated time to finish: 0:28:08.522359.\n",
            "\u001b[4A\u001b[J"
          ],
          "name": "stdout"
        },
        {
          "output_type": "stream",
          "text": [
            "Exception in main training loop: float() argument must be a string or a number, not 'JpegImageFile'\n",
            "Traceback (most recent call last):\n",
            "  File \"/usr/local/lib/python3.6/dist-packages/chainer/training/trainer.py\", line 306, in run\n",
            "    update()\n",
            "  File \"/usr/local/lib/python3.6/dist-packages/chainer/training/updaters/standard_updater.py\", line 149, in update\n",
            "    self.update_core()\n",
            "  File \"/usr/local/lib/python3.6/dist-packages/chainer/training/updaters/standard_updater.py\", line 153, in update_core\n",
            "    batch = self._iterators['main'].next()\n",
            "  File \"/usr/local/lib/python3.6/dist-packages/chainer/iterators/serial_iterator.py\", line 57, in __next__\n",
            "    batch = [self.dataset[index] for index in self._order[i:i_end]]\n",
            "  File \"/usr/local/lib/python3.6/dist-packages/chainer/iterators/serial_iterator.py\", line 57, in <listcomp>\n",
            "    batch = [self.dataset[index] for index in self._order[i:i_end]]\n",
            "  File \"/usr/local/lib/python3.6/dist-packages/chainer/dataset/dataset_mixin.py\", line 67, in __getitem__\n",
            "    return self.get_example(index)\n",
            "  File \"/usr/local/lib/python3.6/dist-packages/chainer/datasets/transform_dataset.py\", line 51, in get_example\n",
            "    in_data = self._dataset[i]\n",
            "  File \"/usr/local/lib/python3.6/dist-packages/chainer/dataset/dataset_mixin.py\", line 67, in __getitem__\n",
            "    return self.get_example(index)\n",
            "  File \"/usr/local/lib/python3.6/dist-packages/chainer/datasets/image_dataset.py\", line 158, in get_example\n",
            "    image = _read_image_as_array(full_path, self._dtype)\n",
            "  File \"/usr/local/lib/python3.6/dist-packages/chainer/datasets/image_dataset.py\", line 22, in _read_image_as_array\n",
            "    image = numpy.asarray(f, dtype=dtype)\n",
            "  File \"/usr/local/lib/python3.6/dist-packages/numpy/core/numeric.py\", line 492, in asarray\n",
            "    return array(a, dtype, copy=False, order=order)\n",
            "Will finalize trainer extensions and updater before reraising the exception.\n"
          ],
          "name": "stderr"
        },
        {
          "output_type": "error",
          "ename": "TypeError",
          "evalue": "ignored",
          "traceback": [
            "\u001b[0;31m---------------------------------------------------------------------------\u001b[0m",
            "\u001b[0;31mTypeError\u001b[0m                                 Traceback (most recent call last)",
            "\u001b[0;32m<ipython-input-9-af2c779f7f5f>\u001b[0m in \u001b[0;36m<module>\u001b[0;34m()\u001b[0m\n\u001b[1;32m      7\u001b[0m \u001b[0mtrainer\u001b[0m\u001b[0;34m.\u001b[0m\u001b[0mextend\u001b[0m\u001b[0;34m(\u001b[0m\u001b[0mextensions\u001b[0m\u001b[0;34m.\u001b[0m\u001b[0mPrintReport\u001b[0m\u001b[0;34m(\u001b[0m\u001b[0;34m[\u001b[0m\u001b[0;34m'epoch'\u001b[0m\u001b[0;34m,\u001b[0m\u001b[0;34m'main/accuracy'\u001b[0m\u001b[0;34m,\u001b[0m\u001b[0;34m'validation/main/accuracy'\u001b[0m\u001b[0;34m,\u001b[0m\u001b[0;34m'main/loss'\u001b[0m\u001b[0;34m,\u001b[0m\u001b[0;34m'validation/main/loss'\u001b[0m\u001b[0;34m,\u001b[0m\u001b[0;34m'elapsed_time'\u001b[0m\u001b[0;34m]\u001b[0m\u001b[0;34m)\u001b[0m\u001b[0;34m,\u001b[0m \u001b[0mtrigger\u001b[0m\u001b[0;34m=\u001b[0m\u001b[0;34m(\u001b[0m\u001b[0;36m1\u001b[0m\u001b[0;34m,\u001b[0m\u001b[0;34m'epoch'\u001b[0m\u001b[0;34m)\u001b[0m\u001b[0;34m)\u001b[0m\u001b[0;34m\u001b[0m\u001b[0m\n\u001b[1;32m      8\u001b[0m \u001b[0mtrainer\u001b[0m\u001b[0;34m.\u001b[0m\u001b[0mextend\u001b[0m\u001b[0;34m(\u001b[0m\u001b[0mextensions\u001b[0m\u001b[0;34m.\u001b[0m\u001b[0mProgressBar\u001b[0m\u001b[0;34m(\u001b[0m\u001b[0mupdate_interval\u001b[0m\u001b[0;34m=\u001b[0m\u001b[0;36m50\u001b[0m\u001b[0;34m)\u001b[0m\u001b[0;34m)\u001b[0m\u001b[0;34m\u001b[0m\u001b[0m\n\u001b[0;32m----> 9\u001b[0;31m \u001b[0mtrainer\u001b[0m\u001b[0;34m.\u001b[0m\u001b[0mrun\u001b[0m\u001b[0;34m(\u001b[0m\u001b[0;34m)\u001b[0m\u001b[0;34m\u001b[0m\u001b[0m\n\u001b[0m",
            "\u001b[0;32m/usr/local/lib/python3.6/dist-packages/chainer/training/trainer.py\u001b[0m in \u001b[0;36mrun\u001b[0;34m(self, show_loop_exception_msg)\u001b[0m\n\u001b[1;32m    318\u001b[0m                 print('Will finalize trainer extensions and updater before '\n\u001b[1;32m    319\u001b[0m                       'reraising the exception.', file=sys.stderr)\n\u001b[0;32m--> 320\u001b[0;31m             \u001b[0msix\u001b[0m\u001b[0;34m.\u001b[0m\u001b[0mreraise\u001b[0m\u001b[0;34m(\u001b[0m\u001b[0;34m*\u001b[0m\u001b[0msys\u001b[0m\u001b[0;34m.\u001b[0m\u001b[0mexc_info\u001b[0m\u001b[0;34m(\u001b[0m\u001b[0;34m)\u001b[0m\u001b[0;34m)\u001b[0m\u001b[0;34m\u001b[0m\u001b[0m\n\u001b[0m\u001b[1;32m    321\u001b[0m         \u001b[0;32mfinally\u001b[0m\u001b[0;34m:\u001b[0m\u001b[0;34m\u001b[0m\u001b[0m\n\u001b[1;32m    322\u001b[0m             \u001b[0;32mfor\u001b[0m \u001b[0m_\u001b[0m\u001b[0;34m,\u001b[0m \u001b[0mentry\u001b[0m \u001b[0;32min\u001b[0m \u001b[0mextensions\u001b[0m\u001b[0;34m:\u001b[0m\u001b[0;34m\u001b[0m\u001b[0m\n",
            "\u001b[0;32m/usr/local/lib/python3.6/dist-packages/six.py\u001b[0m in \u001b[0;36mreraise\u001b[0;34m(tp, value, tb)\u001b[0m\n\u001b[1;32m    691\u001b[0m             \u001b[0;32mif\u001b[0m \u001b[0mvalue\u001b[0m\u001b[0;34m.\u001b[0m\u001b[0m__traceback__\u001b[0m \u001b[0;32mis\u001b[0m \u001b[0;32mnot\u001b[0m \u001b[0mtb\u001b[0m\u001b[0;34m:\u001b[0m\u001b[0;34m\u001b[0m\u001b[0m\n\u001b[1;32m    692\u001b[0m                 \u001b[0;32mraise\u001b[0m \u001b[0mvalue\u001b[0m\u001b[0;34m.\u001b[0m\u001b[0mwith_traceback\u001b[0m\u001b[0;34m(\u001b[0m\u001b[0mtb\u001b[0m\u001b[0;34m)\u001b[0m\u001b[0;34m\u001b[0m\u001b[0m\n\u001b[0;32m--> 693\u001b[0;31m             \u001b[0;32mraise\u001b[0m \u001b[0mvalue\u001b[0m\u001b[0;34m\u001b[0m\u001b[0m\n\u001b[0m\u001b[1;32m    694\u001b[0m         \u001b[0;32mfinally\u001b[0m\u001b[0;34m:\u001b[0m\u001b[0;34m\u001b[0m\u001b[0m\n\u001b[1;32m    695\u001b[0m             \u001b[0mvalue\u001b[0m \u001b[0;34m=\u001b[0m \u001b[0;32mNone\u001b[0m\u001b[0;34m\u001b[0m\u001b[0m\n",
            "\u001b[0;32m/usr/local/lib/python3.6/dist-packages/chainer/training/trainer.py\u001b[0m in \u001b[0;36mrun\u001b[0;34m(self, show_loop_exception_msg)\u001b[0m\n\u001b[1;32m    304\u001b[0m                 \u001b[0mself\u001b[0m\u001b[0;34m.\u001b[0m\u001b[0mobservation\u001b[0m \u001b[0;34m=\u001b[0m \u001b[0;34m{\u001b[0m\u001b[0;34m}\u001b[0m\u001b[0;34m\u001b[0m\u001b[0m\n\u001b[1;32m    305\u001b[0m                 \u001b[0;32mwith\u001b[0m \u001b[0mreporter\u001b[0m\u001b[0;34m.\u001b[0m\u001b[0mscope\u001b[0m\u001b[0;34m(\u001b[0m\u001b[0mself\u001b[0m\u001b[0;34m.\u001b[0m\u001b[0mobservation\u001b[0m\u001b[0;34m)\u001b[0m\u001b[0;34m:\u001b[0m\u001b[0;34m\u001b[0m\u001b[0m\n\u001b[0;32m--> 306\u001b[0;31m                     \u001b[0mupdate\u001b[0m\u001b[0;34m(\u001b[0m\u001b[0;34m)\u001b[0m\u001b[0;34m\u001b[0m\u001b[0m\n\u001b[0m\u001b[1;32m    307\u001b[0m                     \u001b[0;32mfor\u001b[0m \u001b[0mname\u001b[0m\u001b[0;34m,\u001b[0m \u001b[0mentry\u001b[0m \u001b[0;32min\u001b[0m \u001b[0mextensions\u001b[0m\u001b[0;34m:\u001b[0m\u001b[0;34m\u001b[0m\u001b[0m\n\u001b[1;32m    308\u001b[0m                         \u001b[0;32mif\u001b[0m \u001b[0mentry\u001b[0m\u001b[0;34m.\u001b[0m\u001b[0mtrigger\u001b[0m\u001b[0;34m(\u001b[0m\u001b[0mself\u001b[0m\u001b[0;34m)\u001b[0m\u001b[0;34m:\u001b[0m\u001b[0;34m\u001b[0m\u001b[0m\n",
            "\u001b[0;32m/usr/local/lib/python3.6/dist-packages/chainer/training/updaters/standard_updater.py\u001b[0m in \u001b[0;36mupdate\u001b[0;34m(self)\u001b[0m\n\u001b[1;32m    147\u001b[0m \u001b[0;34m\u001b[0m\u001b[0m\n\u001b[1;32m    148\u001b[0m         \"\"\"\n\u001b[0;32m--> 149\u001b[0;31m         \u001b[0mself\u001b[0m\u001b[0;34m.\u001b[0m\u001b[0mupdate_core\u001b[0m\u001b[0;34m(\u001b[0m\u001b[0;34m)\u001b[0m\u001b[0;34m\u001b[0m\u001b[0m\n\u001b[0m\u001b[1;32m    150\u001b[0m         \u001b[0mself\u001b[0m\u001b[0;34m.\u001b[0m\u001b[0miteration\u001b[0m \u001b[0;34m+=\u001b[0m \u001b[0;36m1\u001b[0m\u001b[0;34m\u001b[0m\u001b[0m\n\u001b[1;32m    151\u001b[0m \u001b[0;34m\u001b[0m\u001b[0m\n",
            "\u001b[0;32m/usr/local/lib/python3.6/dist-packages/chainer/training/updaters/standard_updater.py\u001b[0m in \u001b[0;36mupdate_core\u001b[0;34m(self)\u001b[0m\n\u001b[1;32m    151\u001b[0m \u001b[0;34m\u001b[0m\u001b[0m\n\u001b[1;32m    152\u001b[0m     \u001b[0;32mdef\u001b[0m \u001b[0mupdate_core\u001b[0m\u001b[0;34m(\u001b[0m\u001b[0mself\u001b[0m\u001b[0;34m)\u001b[0m\u001b[0;34m:\u001b[0m\u001b[0;34m\u001b[0m\u001b[0m\n\u001b[0;32m--> 153\u001b[0;31m         \u001b[0mbatch\u001b[0m \u001b[0;34m=\u001b[0m \u001b[0mself\u001b[0m\u001b[0;34m.\u001b[0m\u001b[0m_iterators\u001b[0m\u001b[0;34m[\u001b[0m\u001b[0;34m'main'\u001b[0m\u001b[0;34m]\u001b[0m\u001b[0;34m.\u001b[0m\u001b[0mnext\u001b[0m\u001b[0;34m(\u001b[0m\u001b[0;34m)\u001b[0m\u001b[0;34m\u001b[0m\u001b[0m\n\u001b[0m\u001b[1;32m    154\u001b[0m         \u001b[0min_arrays\u001b[0m \u001b[0;34m=\u001b[0m \u001b[0mself\u001b[0m\u001b[0;34m.\u001b[0m\u001b[0mconverter\u001b[0m\u001b[0;34m(\u001b[0m\u001b[0mbatch\u001b[0m\u001b[0;34m,\u001b[0m \u001b[0mself\u001b[0m\u001b[0;34m.\u001b[0m\u001b[0mdevice\u001b[0m\u001b[0;34m)\u001b[0m\u001b[0;34m\u001b[0m\u001b[0m\n\u001b[1;32m    155\u001b[0m \u001b[0;34m\u001b[0m\u001b[0m\n",
            "\u001b[0;32m/usr/local/lib/python3.6/dist-packages/chainer/iterators/serial_iterator.py\u001b[0m in \u001b[0;36m__next__\u001b[0;34m(self)\u001b[0m\n\u001b[1;32m     55\u001b[0m             \u001b[0mbatch\u001b[0m \u001b[0;34m=\u001b[0m \u001b[0mself\u001b[0m\u001b[0;34m.\u001b[0m\u001b[0mdataset\u001b[0m\u001b[0;34m[\u001b[0m\u001b[0mi\u001b[0m\u001b[0;34m:\u001b[0m\u001b[0mi_end\u001b[0m\u001b[0;34m]\u001b[0m\u001b[0;34m\u001b[0m\u001b[0m\n\u001b[1;32m     56\u001b[0m         \u001b[0;32melse\u001b[0m\u001b[0;34m:\u001b[0m\u001b[0;34m\u001b[0m\u001b[0m\n\u001b[0;32m---> 57\u001b[0;31m             \u001b[0mbatch\u001b[0m \u001b[0;34m=\u001b[0m \u001b[0;34m[\u001b[0m\u001b[0mself\u001b[0m\u001b[0;34m.\u001b[0m\u001b[0mdataset\u001b[0m\u001b[0;34m[\u001b[0m\u001b[0mindex\u001b[0m\u001b[0;34m]\u001b[0m \u001b[0;32mfor\u001b[0m \u001b[0mindex\u001b[0m \u001b[0;32min\u001b[0m \u001b[0mself\u001b[0m\u001b[0;34m.\u001b[0m\u001b[0m_order\u001b[0m\u001b[0;34m[\u001b[0m\u001b[0mi\u001b[0m\u001b[0;34m:\u001b[0m\u001b[0mi_end\u001b[0m\u001b[0;34m]\u001b[0m\u001b[0;34m]\u001b[0m\u001b[0;34m\u001b[0m\u001b[0m\n\u001b[0m\u001b[1;32m     58\u001b[0m \u001b[0;34m\u001b[0m\u001b[0m\n\u001b[1;32m     59\u001b[0m         \u001b[0;32mif\u001b[0m \u001b[0mi_end\u001b[0m \u001b[0;34m>=\u001b[0m \u001b[0mN\u001b[0m\u001b[0;34m:\u001b[0m\u001b[0;34m\u001b[0m\u001b[0m\n",
            "\u001b[0;32m/usr/local/lib/python3.6/dist-packages/chainer/iterators/serial_iterator.py\u001b[0m in \u001b[0;36m<listcomp>\u001b[0;34m(.0)\u001b[0m\n\u001b[1;32m     55\u001b[0m             \u001b[0mbatch\u001b[0m \u001b[0;34m=\u001b[0m \u001b[0mself\u001b[0m\u001b[0;34m.\u001b[0m\u001b[0mdataset\u001b[0m\u001b[0;34m[\u001b[0m\u001b[0mi\u001b[0m\u001b[0;34m:\u001b[0m\u001b[0mi_end\u001b[0m\u001b[0;34m]\u001b[0m\u001b[0;34m\u001b[0m\u001b[0m\n\u001b[1;32m     56\u001b[0m         \u001b[0;32melse\u001b[0m\u001b[0;34m:\u001b[0m\u001b[0;34m\u001b[0m\u001b[0m\n\u001b[0;32m---> 57\u001b[0;31m             \u001b[0mbatch\u001b[0m \u001b[0;34m=\u001b[0m \u001b[0;34m[\u001b[0m\u001b[0mself\u001b[0m\u001b[0;34m.\u001b[0m\u001b[0mdataset\u001b[0m\u001b[0;34m[\u001b[0m\u001b[0mindex\u001b[0m\u001b[0;34m]\u001b[0m \u001b[0;32mfor\u001b[0m \u001b[0mindex\u001b[0m \u001b[0;32min\u001b[0m \u001b[0mself\u001b[0m\u001b[0;34m.\u001b[0m\u001b[0m_order\u001b[0m\u001b[0;34m[\u001b[0m\u001b[0mi\u001b[0m\u001b[0;34m:\u001b[0m\u001b[0mi_end\u001b[0m\u001b[0;34m]\u001b[0m\u001b[0;34m]\u001b[0m\u001b[0;34m\u001b[0m\u001b[0m\n\u001b[0m\u001b[1;32m     58\u001b[0m \u001b[0;34m\u001b[0m\u001b[0m\n\u001b[1;32m     59\u001b[0m         \u001b[0;32mif\u001b[0m \u001b[0mi_end\u001b[0m \u001b[0;34m>=\u001b[0m \u001b[0mN\u001b[0m\u001b[0;34m:\u001b[0m\u001b[0;34m\u001b[0m\u001b[0m\n",
            "\u001b[0;32m/usr/local/lib/python3.6/dist-packages/chainer/dataset/dataset_mixin.py\u001b[0m in \u001b[0;36m__getitem__\u001b[0;34m(self, index)\u001b[0m\n\u001b[1;32m     65\u001b[0m             \u001b[0;32mreturn\u001b[0m \u001b[0;34m[\u001b[0m\u001b[0mself\u001b[0m\u001b[0;34m.\u001b[0m\u001b[0mget_example\u001b[0m\u001b[0;34m(\u001b[0m\u001b[0mi\u001b[0m\u001b[0;34m)\u001b[0m \u001b[0;32mfor\u001b[0m \u001b[0mi\u001b[0m \u001b[0;32min\u001b[0m \u001b[0mindex\u001b[0m\u001b[0;34m]\u001b[0m\u001b[0;34m\u001b[0m\u001b[0m\n\u001b[1;32m     66\u001b[0m         \u001b[0;32melse\u001b[0m\u001b[0;34m:\u001b[0m\u001b[0;34m\u001b[0m\u001b[0m\n\u001b[0;32m---> 67\u001b[0;31m             \u001b[0;32mreturn\u001b[0m \u001b[0mself\u001b[0m\u001b[0;34m.\u001b[0m\u001b[0mget_example\u001b[0m\u001b[0;34m(\u001b[0m\u001b[0mindex\u001b[0m\u001b[0;34m)\u001b[0m\u001b[0;34m\u001b[0m\u001b[0m\n\u001b[0m\u001b[1;32m     68\u001b[0m \u001b[0;34m\u001b[0m\u001b[0m\n\u001b[1;32m     69\u001b[0m     \u001b[0;32mdef\u001b[0m \u001b[0m__len__\u001b[0m\u001b[0;34m(\u001b[0m\u001b[0mself\u001b[0m\u001b[0;34m)\u001b[0m\u001b[0;34m:\u001b[0m\u001b[0;34m\u001b[0m\u001b[0m\n",
            "\u001b[0;32m/usr/local/lib/python3.6/dist-packages/chainer/datasets/transform_dataset.py\u001b[0m in \u001b[0;36mget_example\u001b[0;34m(self, i)\u001b[0m\n\u001b[1;32m     49\u001b[0m \u001b[0;34m\u001b[0m\u001b[0m\n\u001b[1;32m     50\u001b[0m     \u001b[0;32mdef\u001b[0m \u001b[0mget_example\u001b[0m\u001b[0;34m(\u001b[0m\u001b[0mself\u001b[0m\u001b[0;34m,\u001b[0m \u001b[0mi\u001b[0m\u001b[0;34m)\u001b[0m\u001b[0;34m:\u001b[0m\u001b[0;34m\u001b[0m\u001b[0m\n\u001b[0;32m---> 51\u001b[0;31m         \u001b[0min_data\u001b[0m \u001b[0;34m=\u001b[0m \u001b[0mself\u001b[0m\u001b[0;34m.\u001b[0m\u001b[0m_dataset\u001b[0m\u001b[0;34m[\u001b[0m\u001b[0mi\u001b[0m\u001b[0;34m]\u001b[0m\u001b[0;34m\u001b[0m\u001b[0m\n\u001b[0m\u001b[1;32m     52\u001b[0m         \u001b[0;32mreturn\u001b[0m \u001b[0mself\u001b[0m\u001b[0;34m.\u001b[0m\u001b[0m_transform\u001b[0m\u001b[0;34m(\u001b[0m\u001b[0min_data\u001b[0m\u001b[0;34m)\u001b[0m\u001b[0;34m\u001b[0m\u001b[0m\n",
            "\u001b[0;32m/usr/local/lib/python3.6/dist-packages/chainer/dataset/dataset_mixin.py\u001b[0m in \u001b[0;36m__getitem__\u001b[0;34m(self, index)\u001b[0m\n\u001b[1;32m     65\u001b[0m             \u001b[0;32mreturn\u001b[0m \u001b[0;34m[\u001b[0m\u001b[0mself\u001b[0m\u001b[0;34m.\u001b[0m\u001b[0mget_example\u001b[0m\u001b[0;34m(\u001b[0m\u001b[0mi\u001b[0m\u001b[0;34m)\u001b[0m \u001b[0;32mfor\u001b[0m \u001b[0mi\u001b[0m \u001b[0;32min\u001b[0m \u001b[0mindex\u001b[0m\u001b[0;34m]\u001b[0m\u001b[0;34m\u001b[0m\u001b[0m\n\u001b[1;32m     66\u001b[0m         \u001b[0;32melse\u001b[0m\u001b[0;34m:\u001b[0m\u001b[0;34m\u001b[0m\u001b[0m\n\u001b[0;32m---> 67\u001b[0;31m             \u001b[0;32mreturn\u001b[0m \u001b[0mself\u001b[0m\u001b[0;34m.\u001b[0m\u001b[0mget_example\u001b[0m\u001b[0;34m(\u001b[0m\u001b[0mindex\u001b[0m\u001b[0;34m)\u001b[0m\u001b[0;34m\u001b[0m\u001b[0m\n\u001b[0m\u001b[1;32m     68\u001b[0m \u001b[0;34m\u001b[0m\u001b[0m\n\u001b[1;32m     69\u001b[0m     \u001b[0;32mdef\u001b[0m \u001b[0m__len__\u001b[0m\u001b[0;34m(\u001b[0m\u001b[0mself\u001b[0m\u001b[0;34m)\u001b[0m\u001b[0;34m:\u001b[0m\u001b[0;34m\u001b[0m\u001b[0m\n",
            "\u001b[0;32m/usr/local/lib/python3.6/dist-packages/chainer/datasets/image_dataset.py\u001b[0m in \u001b[0;36mget_example\u001b[0;34m(self, i)\u001b[0m\n\u001b[1;32m    156\u001b[0m         \u001b[0mpath\u001b[0m\u001b[0;34m,\u001b[0m \u001b[0mint_label\u001b[0m \u001b[0;34m=\u001b[0m \u001b[0mself\u001b[0m\u001b[0;34m.\u001b[0m\u001b[0m_pairs\u001b[0m\u001b[0;34m[\u001b[0m\u001b[0mi\u001b[0m\u001b[0;34m]\u001b[0m\u001b[0;34m\u001b[0m\u001b[0m\n\u001b[1;32m    157\u001b[0m         \u001b[0mfull_path\u001b[0m \u001b[0;34m=\u001b[0m \u001b[0mos\u001b[0m\u001b[0;34m.\u001b[0m\u001b[0mpath\u001b[0m\u001b[0;34m.\u001b[0m\u001b[0mjoin\u001b[0m\u001b[0;34m(\u001b[0m\u001b[0mself\u001b[0m\u001b[0;34m.\u001b[0m\u001b[0m_root\u001b[0m\u001b[0;34m,\u001b[0m \u001b[0mpath\u001b[0m\u001b[0;34m)\u001b[0m\u001b[0;34m\u001b[0m\u001b[0m\n\u001b[0;32m--> 158\u001b[0;31m         \u001b[0mimage\u001b[0m \u001b[0;34m=\u001b[0m \u001b[0m_read_image_as_array\u001b[0m\u001b[0;34m(\u001b[0m\u001b[0mfull_path\u001b[0m\u001b[0;34m,\u001b[0m \u001b[0mself\u001b[0m\u001b[0;34m.\u001b[0m\u001b[0m_dtype\u001b[0m\u001b[0;34m)\u001b[0m\u001b[0;34m\u001b[0m\u001b[0m\n\u001b[0m\u001b[1;32m    159\u001b[0m \u001b[0;34m\u001b[0m\u001b[0m\n\u001b[1;32m    160\u001b[0m         \u001b[0mlabel\u001b[0m \u001b[0;34m=\u001b[0m \u001b[0mnumpy\u001b[0m\u001b[0;34m.\u001b[0m\u001b[0marray\u001b[0m\u001b[0;34m(\u001b[0m\u001b[0mint_label\u001b[0m\u001b[0;34m,\u001b[0m \u001b[0mdtype\u001b[0m\u001b[0;34m=\u001b[0m\u001b[0mself\u001b[0m\u001b[0;34m.\u001b[0m\u001b[0m_label_dtype\u001b[0m\u001b[0;34m)\u001b[0m\u001b[0;34m\u001b[0m\u001b[0m\n",
            "\u001b[0;32m/usr/local/lib/python3.6/dist-packages/chainer/datasets/image_dataset.py\u001b[0m in \u001b[0;36m_read_image_as_array\u001b[0;34m(path, dtype)\u001b[0m\n\u001b[1;32m     20\u001b[0m     \u001b[0mf\u001b[0m \u001b[0;34m=\u001b[0m \u001b[0mImage\u001b[0m\u001b[0;34m.\u001b[0m\u001b[0mopen\u001b[0m\u001b[0;34m(\u001b[0m\u001b[0mpath\u001b[0m\u001b[0;34m)\u001b[0m\u001b[0;34m\u001b[0m\u001b[0m\n\u001b[1;32m     21\u001b[0m     \u001b[0;32mtry\u001b[0m\u001b[0;34m:\u001b[0m\u001b[0;34m\u001b[0m\u001b[0m\n\u001b[0;32m---> 22\u001b[0;31m         \u001b[0mimage\u001b[0m \u001b[0;34m=\u001b[0m \u001b[0mnumpy\u001b[0m\u001b[0;34m.\u001b[0m\u001b[0masarray\u001b[0m\u001b[0;34m(\u001b[0m\u001b[0mf\u001b[0m\u001b[0;34m,\u001b[0m \u001b[0mdtype\u001b[0m\u001b[0;34m=\u001b[0m\u001b[0mdtype\u001b[0m\u001b[0;34m)\u001b[0m\u001b[0;34m\u001b[0m\u001b[0m\n\u001b[0m\u001b[1;32m     23\u001b[0m     \u001b[0;32mfinally\u001b[0m\u001b[0;34m:\u001b[0m\u001b[0;34m\u001b[0m\u001b[0m\n\u001b[1;32m     24\u001b[0m         \u001b[0;31m# Only pillow >= 3.0 has 'close' method\u001b[0m\u001b[0;34m\u001b[0m\u001b[0;34m\u001b[0m\u001b[0m\n",
            "\u001b[0;32m/usr/local/lib/python3.6/dist-packages/numpy/core/numeric.py\u001b[0m in \u001b[0;36masarray\u001b[0;34m(a, dtype, order)\u001b[0m\n\u001b[1;32m    490\u001b[0m \u001b[0;34m\u001b[0m\u001b[0m\n\u001b[1;32m    491\u001b[0m     \"\"\"\n\u001b[0;32m--> 492\u001b[0;31m     \u001b[0;32mreturn\u001b[0m \u001b[0marray\u001b[0m\u001b[0;34m(\u001b[0m\u001b[0ma\u001b[0m\u001b[0;34m,\u001b[0m \u001b[0mdtype\u001b[0m\u001b[0;34m,\u001b[0m \u001b[0mcopy\u001b[0m\u001b[0;34m=\u001b[0m\u001b[0;32mFalse\u001b[0m\u001b[0;34m,\u001b[0m \u001b[0morder\u001b[0m\u001b[0;34m=\u001b[0m\u001b[0morder\u001b[0m\u001b[0;34m)\u001b[0m\u001b[0;34m\u001b[0m\u001b[0m\n\u001b[0m\u001b[1;32m    493\u001b[0m \u001b[0;34m\u001b[0m\u001b[0m\n\u001b[1;32m    494\u001b[0m \u001b[0;34m\u001b[0m\u001b[0m\n",
            "\u001b[0;31mTypeError\u001b[0m: float() argument must be a string or a number, not 'JpegImageFile'"
          ]
        }
      ]
    }
  ]
}