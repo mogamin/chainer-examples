{
  "nbformat": 4,
  "nbformat_minor": 0,
  "metadata": {
    "colab": {
      "name": "chainer-PotatoChips-Classification",
      "version": "0.3.2",
      "provenance": [],
      "include_colab_link": true
    },
    "kernelspec": {
      "name": "python3",
      "display_name": "Python 3"
    },
    "accelerator": "GPU"
  },
  "cells": [
    {
      "cell_type": "markdown",
      "metadata": {
        "id": "view-in-github",
        "colab_type": "text"
      },
      "source": [
        "[View in Colaboratory](https://colab.research.google.com/github/mogamin/chainer-examples/blob/master/chainer_PotatoChips_Classification.ipynb)"
      ]
    },
    {
      "metadata": {
        "id": "UTQIIJl-PCrW",
        "colab_type": "code",
        "colab": {}
      },
      "cell_type": "code",
      "source": [
        "# まずはデータのダウンロード、展開\n",
        "#!curl -L \"https://rebrand.ly/dllab2018-hackathon-cv\" -o data.tar.gz\n",
        "#!gzip -d -c data.tar.gz | tar xf -"
      ],
      "execution_count": 0,
      "outputs": []
    },
    {
      "metadata": {
        "id": "h-m0nF4bO0eq",
        "colab_type": "code",
        "colab": {}
      },
      "cell_type": "code",
      "source": [
        "# デフォルトでcolabに入っていない使用するパッケージをインストール\n",
        "#!pip install chainer\n",
        "#!pip install chainercv"
      ],
      "execution_count": 0,
      "outputs": []
    },
    {
      "metadata": {
        "id": "Kio2gdDSTNKm",
        "colab_type": "code",
        "colab": {}
      },
      "cell_type": "code",
      "source": [
        "import chainer\n",
        "import chainer.links as L\n",
        "import chainer.functions as F\n",
        "from chainer.datasets import LabeledImageDataset\n",
        "from chainer.datasets import TransformDataset"
      ],
      "execution_count": 0,
      "outputs": []
    },
    {
      "metadata": {
        "id": "F6pM0HRnbH8Q",
        "colab_type": "code",
        "colab": {}
      },
      "cell_type": "code",
      "source": [
        "from chainercv.transforms import resize\n",
        "\n",
        "# 画像データの前処理変換\n",
        "class ImageTransform(object):\n",
        "    def __call__(self, in_data):\n",
        "        img, label = in_data\n",
        "        #_, H, W = img.shape\n",
        "        #img = random_sized_crop(img)\n",
        "        img = resize(img, (224, 224))\n",
        "        #img = random_flip(img, x_random=True)\n",
        "        return img, label"
      ],
      "execution_count": 0,
      "outputs": []
    },
    {
      "metadata": {
        "id": "U6z5ow9KQVDT",
        "colab_type": "code",
        "colab": {}
      },
      "cell_type": "code",
      "source": [
        "# データのロード\n",
        "train = LabeledImageDataset('data/train/train_labels.txt', root='data/train/images')\n",
        "train = TransformDataset(train, ImageTransform())\n",
        "valid = LabeledImageDataset('data/valid/valid_labels.txt', root='data/valid/images')\n",
        "valid = TransformDataset(valid, ImageTransform())"
      ],
      "execution_count": 0,
      "outputs": []
    },
    {
      "metadata": {
        "id": "bj2Pz_ZHfScN",
        "colab_type": "code",
        "colab": {}
      },
      "cell_type": "code",
      "source": [
        "class PotatoMLP(chainer.Chain):\n",
        "  def __init__(self, n_mid_units=5, n_class=9):\n",
        "    super().__init__()\n",
        "    with self.init_scope():\n",
        "        self.fc1 = L.Linear(None, n_mid_units)\n",
        "        self.fc2 = L.Linear(None, n_mid_units)\n",
        "        self.fc3 = L.Linear(None, n_class)\n",
        "  \n",
        "  def __call__(self, x):\n",
        "    h = self.fc1(x)\n",
        "    h = F.relu(h)\n",
        "    h = self.fc2(h)\n",
        "    h = F.relu(h)\n",
        "    return h   \n",
        "  "
      ],
      "execution_count": 0,
      "outputs": []
    },
    {
      "metadata": {
        "id": "k3SSG4wUTMf5",
        "colab_type": "code",
        "colab": {}
      },
      "cell_type": "code",
      "source": [
        "# イテレータの準備\n",
        "BATCHSIZE = 10\n",
        "train_iter = chainer.iterators.SerialIterator(train, BATCHSIZE)\n",
        "valid_iter = chainer.iterators.SerialIterator(valid, BATCHSIZE, repeat=False, shuffle=False)"
      ],
      "execution_count": 0,
      "outputs": []
    },
    {
      "metadata": {
        "id": "E5m4Pvd1fA9U",
        "colab_type": "code",
        "colab": {
          "base_uri": "https://localhost:8080/",
          "height": 35
        },
        "outputId": "893070d1-72ac-40fa-a483-d663ef54f1d9"
      },
      "cell_type": "code",
      "source": [
        "#\n",
        "mlp = PotatoMLP(224, 9)\n",
        "model = L.Classifier(mlp)\n",
        "optimizer = chainer.optimizers.Adam()\n",
        "optimizer.setup(model)"
      ],
      "execution_count": 8,
      "outputs": [
        {
          "output_type": "execute_result",
          "data": {
            "text/plain": [
              "<chainer.optimizers.adam.Adam at 0x7feff5196c50>"
            ]
          },
          "metadata": {
            "tags": []
          },
          "execution_count": 8
        }
      ]
    },
    {
      "metadata": {
        "id": "fpyGiur0hHLJ",
        "colab_type": "code",
        "colab": {
          "base_uri": "https://localhost:8080/",
          "height": 2278
        },
        "outputId": "a2f7a258-5c05-4adc-f76d-6c14a0a35d31"
      },
      "cell_type": "code",
      "source": [
        "#\n",
        "from chainer.training import extensions\n",
        "\n",
        "EPOCH = 10\n",
        "updater = chainer.training.StandardUpdater(train_iter, optimizer, device=-1)\n",
        "trainer = chainer.training.Trainer(updater, (EPOCH, 'epoch'), out='result/potato')\n",
        "trainer.extend(extensions.Evaluator(valid_iter, model, device=-1))\n",
        "trainer.extend(extensions.LogReport(trigger=(1,'epoch')))\n",
        "trainer.extend(extensions.PrintReport(['epoch','main/accuracy','validation/main/accuracy','main/loss','validation/main/loss','elapsed_time']), trigger=(1,'epoch'))\n",
        "trainer.extend(extensions.ProgressBar(update_interval=10))\n",
        "trainer.run()"
      ],
      "execution_count": 9,
      "outputs": [
        {
          "output_type": "stream",
          "text": [
            "\u001b[J     total [..................................................]  0.09%\n",
            "this epoch [..................................................]  0.95%\n",
            "        10 iter, 0 epoch / 10 epochs\n",
            "       inf iters/sec. Estimated time to finish: 0:00:00.\n",
            "\u001b[4A\u001b[J     total [..................................................]  0.19%\n",
            "this epoch [..................................................]  1.90%\n",
            "        20 iter, 0 epoch / 10 epochs\n",
            "    1.1626 iters/sec. Estimated time to finish: 2:30:44.972888.\n",
            "\u001b[4A\u001b[J     total [..................................................]  0.28%\n",
            "this epoch [#.................................................]  2.85%\n",
            "        30 iter, 0 epoch / 10 epochs\n",
            "    1.1883 iters/sec. Estimated time to finish: 2:27:20.982939.\n",
            "\u001b[4A\u001b[J     total [..................................................]  0.38%\n",
            "this epoch [#.................................................]  3.80%\n",
            "        40 iter, 0 epoch / 10 epochs\n",
            "    1.1958 iters/sec. Estimated time to finish: 2:26:17.448781.\n",
            "\u001b[4A\u001b[J     total [..................................................]  0.47%\n",
            "this epoch [##................................................]  4.75%\n",
            "        50 iter, 0 epoch / 10 epochs\n",
            "     1.195 iters/sec. Estimated time to finish: 2:26:15.125155.\n",
            "\u001b[4A\u001b[J     total [..................................................]  0.57%\n",
            "this epoch [##................................................]  5.69%\n",
            "        60 iter, 0 epoch / 10 epochs\n",
            "    1.2001 iters/sec. Estimated time to finish: 2:25:29.438790.\n",
            "\u001b[4A\u001b[J     total [..................................................]  0.66%\n",
            "this epoch [###...............................................]  6.64%\n",
            "        70 iter, 0 epoch / 10 epochs\n",
            "    1.1957 iters/sec. Estimated time to finish: 2:25:52.982750.\n",
            "\u001b[4A\u001b[J     total [..................................................]  0.76%\n",
            "this epoch [###...............................................]  7.59%\n",
            "        80 iter, 0 epoch / 10 epochs\n",
            "    1.1931 iters/sec. Estimated time to finish: 2:26:04.091531.\n",
            "\u001b[4A\u001b[J     total [..................................................]  0.85%\n",
            "this epoch [####..............................................]  8.54%\n",
            "        90 iter, 0 epoch / 10 epochs\n",
            "    1.1939 iters/sec. Estimated time to finish: 2:25:49.509814.\n",
            "\u001b[4A\u001b[J     total [..................................................]  0.95%\n",
            "this epoch [####..............................................]  9.49%\n",
            "       100 iter, 0 epoch / 10 epochs\n",
            "    1.1962 iters/sec. Estimated time to finish: 2:25:24.582754.\n",
            "\u001b[4A\u001b[J     total [..................................................]  1.04%\n",
            "this epoch [#####.............................................] 10.44%\n",
            "       110 iter, 0 epoch / 10 epochs\n",
            "    1.1997 iters/sec. Estimated time to finish: 2:24:50.541269.\n",
            "\u001b[4A\u001b[J     total [..................................................]  1.14%\n",
            "this epoch [#####.............................................] 11.39%\n",
            "       120 iter, 0 epoch / 10 epochs\n",
            "    1.2009 iters/sec. Estimated time to finish: 2:24:33.800776.\n",
            "\u001b[4A\u001b[J     total [..................................................]  1.23%\n",
            "this epoch [######............................................] 12.34%\n",
            "       130 iter, 0 epoch / 10 epochs\n",
            "     1.204 iters/sec. Estimated time to finish: 2:24:02.954366.\n",
            "\u001b[4A\u001b[J     total [..................................................]  1.33%\n",
            "this epoch [######............................................] 13.29%\n",
            "       140 iter, 0 epoch / 10 epochs\n",
            "    1.2056 iters/sec. Estimated time to finish: 2:23:43.431993.\n",
            "\u001b[4A\u001b[J     total [..................................................]  1.42%\n",
            "this epoch [#######...........................................] 14.24%\n",
            "       150 iter, 0 epoch / 10 epochs\n",
            "    1.2067 iters/sec. Estimated time to finish: 2:23:26.686656.\n",
            "\u001b[4A\u001b[J     total [..................................................]  1.52%\n",
            "this epoch [#######...........................................] 15.19%\n",
            "       160 iter, 0 epoch / 10 epochs\n",
            "     1.208 iters/sec. Estimated time to finish: 2:23:09.587185.\n",
            "\u001b[4A\u001b[J"
          ],
          "name": "stdout"
        },
        {
          "output_type": "error",
          "ename": "KeyboardInterrupt",
          "evalue": "ignored",
          "traceback": [
            "\u001b[0;31m---------------------------------------------------------------------------\u001b[0m",
            "\u001b[0;31mKeyboardInterrupt\u001b[0m                         Traceback (most recent call last)",
            "\u001b[0;32m<ipython-input-9-5e87086de8ff>\u001b[0m in \u001b[0;36m<module>\u001b[0;34m()\u001b[0m\n\u001b[1;32m      8\u001b[0m \u001b[0mtrainer\u001b[0m\u001b[0;34m.\u001b[0m\u001b[0mextend\u001b[0m\u001b[0;34m(\u001b[0m\u001b[0mextensions\u001b[0m\u001b[0;34m.\u001b[0m\u001b[0mPrintReport\u001b[0m\u001b[0;34m(\u001b[0m\u001b[0;34m[\u001b[0m\u001b[0;34m'epoch'\u001b[0m\u001b[0;34m,\u001b[0m\u001b[0;34m'main/accuracy'\u001b[0m\u001b[0;34m,\u001b[0m\u001b[0;34m'validation/main/accuracy'\u001b[0m\u001b[0;34m,\u001b[0m\u001b[0;34m'main/loss'\u001b[0m\u001b[0;34m,\u001b[0m\u001b[0;34m'validation/main/loss'\u001b[0m\u001b[0;34m,\u001b[0m\u001b[0;34m'elapsed_time'\u001b[0m\u001b[0;34m]\u001b[0m\u001b[0;34m)\u001b[0m\u001b[0;34m,\u001b[0m \u001b[0mtrigger\u001b[0m\u001b[0;34m=\u001b[0m\u001b[0;34m(\u001b[0m\u001b[0;36m1\u001b[0m\u001b[0;34m,\u001b[0m\u001b[0;34m'epoch'\u001b[0m\u001b[0;34m)\u001b[0m\u001b[0;34m)\u001b[0m\u001b[0;34m\u001b[0m\u001b[0m\n\u001b[1;32m      9\u001b[0m \u001b[0mtrainer\u001b[0m\u001b[0;34m.\u001b[0m\u001b[0mextend\u001b[0m\u001b[0;34m(\u001b[0m\u001b[0mextensions\u001b[0m\u001b[0;34m.\u001b[0m\u001b[0mProgressBar\u001b[0m\u001b[0;34m(\u001b[0m\u001b[0mupdate_interval\u001b[0m\u001b[0;34m=\u001b[0m\u001b[0;36m10\u001b[0m\u001b[0;34m)\u001b[0m\u001b[0;34m)\u001b[0m\u001b[0;34m\u001b[0m\u001b[0m\n\u001b[0;32m---> 10\u001b[0;31m \u001b[0mtrainer\u001b[0m\u001b[0;34m.\u001b[0m\u001b[0mrun\u001b[0m\u001b[0;34m(\u001b[0m\u001b[0;34m)\u001b[0m\u001b[0;34m\u001b[0m\u001b[0m\n\u001b[0m",
            "\u001b[0;32m/usr/local/lib/python3.6/dist-packages/chainer/training/trainer.py\u001b[0m in \u001b[0;36mrun\u001b[0;34m(self, show_loop_exception_msg)\u001b[0m\n\u001b[1;32m    304\u001b[0m                 \u001b[0mself\u001b[0m\u001b[0;34m.\u001b[0m\u001b[0mobservation\u001b[0m \u001b[0;34m=\u001b[0m \u001b[0;34m{\u001b[0m\u001b[0;34m}\u001b[0m\u001b[0;34m\u001b[0m\u001b[0m\n\u001b[1;32m    305\u001b[0m                 \u001b[0;32mwith\u001b[0m \u001b[0mreporter\u001b[0m\u001b[0;34m.\u001b[0m\u001b[0mscope\u001b[0m\u001b[0;34m(\u001b[0m\u001b[0mself\u001b[0m\u001b[0;34m.\u001b[0m\u001b[0mobservation\u001b[0m\u001b[0;34m)\u001b[0m\u001b[0;34m:\u001b[0m\u001b[0;34m\u001b[0m\u001b[0m\n\u001b[0;32m--> 306\u001b[0;31m                     \u001b[0mupdate\u001b[0m\u001b[0;34m(\u001b[0m\u001b[0;34m)\u001b[0m\u001b[0;34m\u001b[0m\u001b[0m\n\u001b[0m\u001b[1;32m    307\u001b[0m                     \u001b[0;32mfor\u001b[0m \u001b[0mname\u001b[0m\u001b[0;34m,\u001b[0m \u001b[0mentry\u001b[0m \u001b[0;32min\u001b[0m \u001b[0mextensions\u001b[0m\u001b[0;34m:\u001b[0m\u001b[0;34m\u001b[0m\u001b[0m\n\u001b[1;32m    308\u001b[0m                         \u001b[0;32mif\u001b[0m \u001b[0mentry\u001b[0m\u001b[0;34m.\u001b[0m\u001b[0mtrigger\u001b[0m\u001b[0;34m(\u001b[0m\u001b[0mself\u001b[0m\u001b[0;34m)\u001b[0m\u001b[0;34m:\u001b[0m\u001b[0;34m\u001b[0m\u001b[0m\n",
            "\u001b[0;32m/usr/local/lib/python3.6/dist-packages/chainer/training/updaters/standard_updater.py\u001b[0m in \u001b[0;36mupdate\u001b[0;34m(self)\u001b[0m\n\u001b[1;32m    147\u001b[0m \u001b[0;34m\u001b[0m\u001b[0m\n\u001b[1;32m    148\u001b[0m         \"\"\"\n\u001b[0;32m--> 149\u001b[0;31m         \u001b[0mself\u001b[0m\u001b[0;34m.\u001b[0m\u001b[0mupdate_core\u001b[0m\u001b[0;34m(\u001b[0m\u001b[0;34m)\u001b[0m\u001b[0;34m\u001b[0m\u001b[0m\n\u001b[0m\u001b[1;32m    150\u001b[0m         \u001b[0mself\u001b[0m\u001b[0;34m.\u001b[0m\u001b[0miteration\u001b[0m \u001b[0;34m+=\u001b[0m \u001b[0;36m1\u001b[0m\u001b[0;34m\u001b[0m\u001b[0m\n\u001b[1;32m    151\u001b[0m \u001b[0;34m\u001b[0m\u001b[0m\n",
            "\u001b[0;32m/usr/local/lib/python3.6/dist-packages/chainer/training/updaters/standard_updater.py\u001b[0m in \u001b[0;36mupdate_core\u001b[0;34m(self)\u001b[0m\n\u001b[1;32m    158\u001b[0m \u001b[0;34m\u001b[0m\u001b[0m\n\u001b[1;32m    159\u001b[0m         \u001b[0;32mif\u001b[0m \u001b[0misinstance\u001b[0m\u001b[0;34m(\u001b[0m\u001b[0min_arrays\u001b[0m\u001b[0;34m,\u001b[0m \u001b[0mtuple\u001b[0m\u001b[0;34m)\u001b[0m\u001b[0;34m:\u001b[0m\u001b[0;34m\u001b[0m\u001b[0m\n\u001b[0;32m--> 160\u001b[0;31m             \u001b[0moptimizer\u001b[0m\u001b[0;34m.\u001b[0m\u001b[0mupdate\u001b[0m\u001b[0;34m(\u001b[0m\u001b[0mloss_func\u001b[0m\u001b[0;34m,\u001b[0m \u001b[0;34m*\u001b[0m\u001b[0min_arrays\u001b[0m\u001b[0;34m)\u001b[0m\u001b[0;34m\u001b[0m\u001b[0m\n\u001b[0m\u001b[1;32m    161\u001b[0m         \u001b[0;32melif\u001b[0m \u001b[0misinstance\u001b[0m\u001b[0;34m(\u001b[0m\u001b[0min_arrays\u001b[0m\u001b[0;34m,\u001b[0m \u001b[0mdict\u001b[0m\u001b[0;34m)\u001b[0m\u001b[0;34m:\u001b[0m\u001b[0;34m\u001b[0m\u001b[0m\n\u001b[1;32m    162\u001b[0m             \u001b[0moptimizer\u001b[0m\u001b[0;34m.\u001b[0m\u001b[0mupdate\u001b[0m\u001b[0;34m(\u001b[0m\u001b[0mloss_func\u001b[0m\u001b[0;34m,\u001b[0m \u001b[0;34m**\u001b[0m\u001b[0min_arrays\u001b[0m\u001b[0;34m)\u001b[0m\u001b[0;34m\u001b[0m\u001b[0m\n",
            "\u001b[0;32m/usr/local/lib/python3.6/dist-packages/chainer/optimizer.py\u001b[0m in \u001b[0;36mupdate\u001b[0;34m(self, lossfun, *args, **kwds)\u001b[0m\n\u001b[1;32m    662\u001b[0m         \u001b[0mself\u001b[0m\u001b[0;34m.\u001b[0m\u001b[0mt\u001b[0m \u001b[0;34m+=\u001b[0m \u001b[0;36m1\u001b[0m\u001b[0;34m\u001b[0m\u001b[0m\n\u001b[1;32m    663\u001b[0m         \u001b[0;32mfor\u001b[0m \u001b[0mparam\u001b[0m \u001b[0;32min\u001b[0m \u001b[0mself\u001b[0m\u001b[0;34m.\u001b[0m\u001b[0mtarget\u001b[0m\u001b[0;34m.\u001b[0m\u001b[0mparams\u001b[0m\u001b[0;34m(\u001b[0m\u001b[0;34m)\u001b[0m\u001b[0;34m:\u001b[0m\u001b[0;34m\u001b[0m\u001b[0m\n\u001b[0;32m--> 664\u001b[0;31m             \u001b[0mparam\u001b[0m\u001b[0;34m.\u001b[0m\u001b[0mupdate\u001b[0m\u001b[0;34m(\u001b[0m\u001b[0;34m)\u001b[0m\u001b[0;34m\u001b[0m\u001b[0m\n\u001b[0m\u001b[1;32m    665\u001b[0m \u001b[0;34m\u001b[0m\u001b[0m\n\u001b[1;32m    666\u001b[0m         \u001b[0mself\u001b[0m\u001b[0;34m.\u001b[0m\u001b[0mreallocate_cleared_grads\u001b[0m\u001b[0;34m(\u001b[0m\u001b[0;34m)\u001b[0m\u001b[0;34m\u001b[0m\u001b[0m\n",
            "\u001b[0;32m/usr/local/lib/python3.6/dist-packages/chainer/variable.py\u001b[0m in \u001b[0;36mupdate\u001b[0;34m(self)\u001b[0m\n\u001b[1;32m   1429\u001b[0m         \"\"\"\n\u001b[1;32m   1430\u001b[0m         \u001b[0;32mif\u001b[0m \u001b[0mself\u001b[0m\u001b[0;34m.\u001b[0m\u001b[0mupdate_rule\u001b[0m \u001b[0;32mis\u001b[0m \u001b[0;32mnot\u001b[0m \u001b[0;32mNone\u001b[0m\u001b[0;34m:\u001b[0m\u001b[0;34m\u001b[0m\u001b[0m\n\u001b[0;32m-> 1431\u001b[0;31m             \u001b[0mself\u001b[0m\u001b[0;34m.\u001b[0m\u001b[0mupdate_rule\u001b[0m\u001b[0;34m.\u001b[0m\u001b[0mupdate\u001b[0m\u001b[0;34m(\u001b[0m\u001b[0mself\u001b[0m\u001b[0;34m)\u001b[0m\u001b[0;34m\u001b[0m\u001b[0m\n\u001b[0m\u001b[1;32m   1432\u001b[0m \u001b[0;34m\u001b[0m\u001b[0m\n\u001b[1;32m   1433\u001b[0m \u001b[0;34m\u001b[0m\u001b[0m\n",
            "\u001b[0;32m/usr/local/lib/python3.6/dist-packages/chainer/optimizer.py\u001b[0m in \u001b[0;36mupdate\u001b[0;34m(self, param)\u001b[0m\n\u001b[1;32m    216\u001b[0m             \u001b[0;32mfor\u001b[0m \u001b[0mhook\u001b[0m \u001b[0;32min\u001b[0m \u001b[0msix\u001b[0m\u001b[0;34m.\u001b[0m\u001b[0mitervalues\u001b[0m\u001b[0;34m(\u001b[0m\u001b[0mself\u001b[0m\u001b[0;34m.\u001b[0m\u001b[0m_pre_update_hooks\u001b[0m\u001b[0;34m)\u001b[0m\u001b[0;34m:\u001b[0m\u001b[0;34m\u001b[0m\u001b[0m\n\u001b[1;32m    217\u001b[0m                 \u001b[0mhook\u001b[0m\u001b[0;34m(\u001b[0m\u001b[0mself\u001b[0m\u001b[0;34m,\u001b[0m \u001b[0mparam\u001b[0m\u001b[0;34m)\u001b[0m\u001b[0;34m\u001b[0m\u001b[0m\n\u001b[0;32m--> 218\u001b[0;31m             \u001b[0mself\u001b[0m\u001b[0;34m.\u001b[0m\u001b[0mupdate_core\u001b[0m\u001b[0;34m(\u001b[0m\u001b[0mparam\u001b[0m\u001b[0;34m)\u001b[0m\u001b[0;34m\u001b[0m\u001b[0m\n\u001b[0m\u001b[1;32m    219\u001b[0m             \u001b[0;32mfor\u001b[0m \u001b[0mhook\u001b[0m \u001b[0;32min\u001b[0m \u001b[0msix\u001b[0m\u001b[0;34m.\u001b[0m\u001b[0mitervalues\u001b[0m\u001b[0;34m(\u001b[0m\u001b[0mself\u001b[0m\u001b[0;34m.\u001b[0m\u001b[0m_post_update_hooks\u001b[0m\u001b[0;34m)\u001b[0m\u001b[0;34m:\u001b[0m\u001b[0;34m\u001b[0m\u001b[0m\n\u001b[1;32m    220\u001b[0m                 \u001b[0mhook\u001b[0m\u001b[0;34m(\u001b[0m\u001b[0mself\u001b[0m\u001b[0;34m,\u001b[0m \u001b[0mparam\u001b[0m\u001b[0;34m)\u001b[0m\u001b[0;34m\u001b[0m\u001b[0m\n",
            "\u001b[0;32m/usr/local/lib/python3.6/dist-packages/chainer/optimizer.py\u001b[0m in \u001b[0;36mupdate_core\u001b[0;34m(self, param)\u001b[0m\n\u001b[1;32m    232\u001b[0m         \u001b[0;32mwith\u001b[0m \u001b[0mcuda\u001b[0m\u001b[0;34m.\u001b[0m\u001b[0mget_device_from_array\u001b[0m\u001b[0;34m(\u001b[0m\u001b[0mparam\u001b[0m\u001b[0;34m.\u001b[0m\u001b[0mdata\u001b[0m\u001b[0;34m)\u001b[0m \u001b[0;32mas\u001b[0m \u001b[0mdev\u001b[0m\u001b[0;34m:\u001b[0m\u001b[0;34m\u001b[0m\u001b[0m\n\u001b[1;32m    233\u001b[0m             \u001b[0;32mif\u001b[0m \u001b[0mint\u001b[0m\u001b[0;34m(\u001b[0m\u001b[0mdev\u001b[0m\u001b[0;34m)\u001b[0m \u001b[0;34m==\u001b[0m \u001b[0;34m-\u001b[0m\u001b[0;36m1\u001b[0m\u001b[0;34m:\u001b[0m\u001b[0;34m\u001b[0m\u001b[0m\n\u001b[0;32m--> 234\u001b[0;31m                 \u001b[0mself\u001b[0m\u001b[0;34m.\u001b[0m\u001b[0mupdate_core_cpu\u001b[0m\u001b[0;34m(\u001b[0m\u001b[0mparam\u001b[0m\u001b[0;34m)\u001b[0m\u001b[0;34m\u001b[0m\u001b[0m\n\u001b[0m\u001b[1;32m    235\u001b[0m             \u001b[0;32melse\u001b[0m\u001b[0;34m:\u001b[0m\u001b[0;34m\u001b[0m\u001b[0m\n\u001b[1;32m    236\u001b[0m                 \u001b[0mself\u001b[0m\u001b[0;34m.\u001b[0m\u001b[0mupdate_core_gpu\u001b[0m\u001b[0;34m(\u001b[0m\u001b[0mparam\u001b[0m\u001b[0;34m)\u001b[0m\u001b[0;34m\u001b[0m\u001b[0m\n",
            "\u001b[0;32m/usr/local/lib/python3.6/dist-packages/chainer/optimizers/adam.py\u001b[0m in \u001b[0;36mupdate_core_cpu\u001b[0;34m(self, param)\u001b[0m\n\u001b[1;32m    110\u001b[0m             \u001b[0mvhat\u001b[0m \u001b[0;34m=\u001b[0m \u001b[0mv\u001b[0m\u001b[0;34m\u001b[0m\u001b[0m\n\u001b[1;32m    111\u001b[0m         param.data -= hp.eta * (self.lr * m / (numpy.sqrt(vhat) + hp.eps) +\n\u001b[0;32m--> 112\u001b[0;31m                                 hp.weight_decay_rate * param.data)\n\u001b[0m\u001b[1;32m    113\u001b[0m \u001b[0;34m\u001b[0m\u001b[0m\n\u001b[1;32m    114\u001b[0m     \u001b[0;32mdef\u001b[0m \u001b[0mupdate_core_gpu\u001b[0m\u001b[0;34m(\u001b[0m\u001b[0mself\u001b[0m\u001b[0;34m,\u001b[0m \u001b[0mparam\u001b[0m\u001b[0;34m)\u001b[0m\u001b[0;34m:\u001b[0m\u001b[0;34m\u001b[0m\u001b[0m\n",
            "\u001b[0;31mKeyboardInterrupt\u001b[0m: "
          ]
        }
      ]
    }
  ]
}