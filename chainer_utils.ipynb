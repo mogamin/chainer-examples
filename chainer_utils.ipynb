{
  "nbformat": 4,
  "nbformat_minor": 0,
  "metadata": {
    "colab": {
      "name": "chainer_utils.ipynb",
      "version": "0.3.2",
      "provenance": [],
      "include_colab_link": true
    },
    "kernelspec": {
      "name": "python3",
      "display_name": "Python 3"
    },
    "accelerator": "GPU"
  },
  "cells": [
    {
      "cell_type": "markdown",
      "metadata": {
        "id": "view-in-github",
        "colab_type": "text"
      },
      "source": [
        "[View in Colaboratory](https://colab.research.google.com/github/mogamin/chainer-examples/blob/master/chainer_utils.ipynb)"
      ]
    },
    {
      "metadata": {
        "id": "ltiqn8wlG0eW",
        "colab_type": "code",
        "colab": {
          "base_uri": "https://localhost:8080/",
          "height": 311
        },
        "outputId": "6ffdb67f-4b63-42d3-afc2-7a28b7938d8c"
      },
      "cell_type": "code",
      "source": [
        "# colabでのGPUメモリ,使用率を見る\n",
        "!/opt/bin/nvidia-smi\n",
        "\n",
        "# colabで不要GPUプロセスを削除しメモリを開放する\n",
        "#!apt install lsof\n",
        "#!lsof /dev/nvidia*\n",
        "\n",
        "#!ps f -o user,pgrp,pid,pcpu,pmem,start,time,command -p `lsof -n -w -t /dev/nvidia*`\n",
        "#!kill -9 874\n",
        "#!/opt/bin/nvidia-smi"
      ],
      "execution_count": 0,
      "outputs": [
        {
          "output_type": "stream",
          "text": [
            "Wed Aug 15 10:27:01 2018       \r\n",
            "+-----------------------------------------------------------------------------+\r\n",
            "| NVIDIA-SMI 384.111                Driver Version: 384.111                   |\r\n",
            "|-------------------------------+----------------------+----------------------+\r\n",
            "| GPU  Name        Persistence-M| Bus-Id        Disp.A | Volatile Uncorr. ECC |\r\n",
            "| Fan  Temp  Perf  Pwr:Usage/Cap|         Memory-Usage | GPU-Util  Compute M. |\r\n",
            "|===============================+======================+======================|\r\n",
            "|   0  Tesla K80           Off  | 00000000:00:04.0 Off |                    0 |\r\n",
            "| N/A   39C    P0    74W / 149W |      1MiB / 11439MiB |      0%      Default |\r\n",
            "+-------------------------------+----------------------+----------------------+\r\n",
            "                                                                               \r\n",
            "+-----------------------------------------------------------------------------+\r\n",
            "| Processes:                                                       GPU Memory |\r\n",
            "|  GPU       PID   Type   Process name                             Usage      |\r\n",
            "|=============================================================================|\r\n",
            "|  No running processes found                                                 |\r\n",
            "+-----------------------------------------------------------------------------+\r\n"
          ],
          "name": "stdout"
        }
      ]
    },
    {
      "metadata": {
        "id": "I22NOYOwRhej",
        "colab_type": "code",
        "colab": {
          "base_uri": "https://localhost:8080/",
          "height": 696
        },
        "outputId": "d48acd4f-3d21-4bea-c4d1-edbbbf33a706"
      },
      "cell_type": "code",
      "source": [
        "import json\n",
        "import pandas as pd\n",
        "with open('result/potato/log') as f:\n",
        "  result = pd.DataFrame(json.load(f)).interpolate()\n",
        "\n",
        "result[['main/accuracy','val/main/accuracy']].plot()\n",
        "result[['main/loss','val/main/loss']].plot()\n",
        "\n",
        "#result = result.iloc[3:,:]\n",
        "#result[['main/accuracy','val/main/accuracy']].plot()\n",
        "#result[['main/loss','val/main/loss']].plot()"
      ],
      "execution_count": 2,
      "outputs": [
        {
          "output_type": "execute_result",
          "data": {
            "text/plain": [
              "<matplotlib.axes._subplots.AxesSubplot at 0x7f9bb0604d68>"
            ]
          },
          "metadata": {
            "tags": []
          },
          "execution_count": 2
        },
        {
          "output_type": "display_data",
          "data": {
            "image/png": "[encoded data removed]",
            "text/plain": [
              "<matplotlib.figure.Figure at 0x7f9bce528898>"
            ]
          },
          "metadata": {
            "tags": []
          }
        },
        {
          "output_type": "display_data",
          "data": {
            "image/png": "[encoded data removed]",
            "text/plain": [
              "<matplotlib.figure.Figure at 0x7f9bb0613908>"
            ]
          },
          "metadata": {
            "tags": []
          }
        }
      ]
    },
    {
      "metadata": {
        "id": "rcvQW8f8dlpT",
        "colab_type": "code",
        "colab": {
          "base_uri": "https://localhost:8080/",
          "height": 138
        },
        "outputId": "856bcba3-c6ae-4e47-d09e-094f43b6068c"
      },
      "cell_type": "code",
      "source": [
        "# colabからのファイルダウンロード\n",
        "!ls -lR result/\n",
        "#!zip ./result_pattern22.zip -jr result/potato/\n",
        "\n",
        "#from google.colab import files\n",
        "#files.download('result_pattern22.zip')"
      ],
      "execution_count": 3,
      "outputs": [
        {
          "output_type": "stream",
          "text": [
            "result/:\r\n",
            "total 4\r\n",
            "drwxr-xr-x 2 root root 4096 Aug 16 02:34 potato\r\n",
            "\r\n",
            "result/potato:\r\n",
            "total 4\r\n",
            "-rw-r--r-- 1 root root 318 Aug 16 02:34 log\r\n"
          ],
          "name": "stdout"
        }
      ]
    },
    {
      "metadata": {
        "id": "dEjFkMNEkt7p",
        "colab_type": "code",
        "colab": {}
      },
      "cell_type": "code",
      "source": [
        "# colabへのファイルアップロード\n",
        "from google.colab import files\n",
        "uploaded = files.upload()"
      ],
      "execution_count": 0,
      "outputs": []
    }
  ]
}