{
  "nbformat": 4,
  "nbformat_minor": 0,
  "metadata": {
    "colab": {
      "name": "chainer-number-plus-regression",
      "version": "0.3.2",
      "provenance": [],
      "include_colab_link": true
    },
    "kernelspec": {
      "name": "python3",
      "display_name": "Python 3"
    }
  },
  "cells": [
    {
      "cell_type": "markdown",
      "metadata": {
        "id": "view-in-github",
        "colab_type": "text"
      },
      "source": [
        "[View in Colaboratory](https://colab.research.google.com/github/mogamin/chainer-examples/blob/master/chainer_number_plus_regression.ipynb)"
      ]
    },
    {
      "metadata": {
        "id": "l0pnzQSPHK6D",
        "colab_type": "code",
        "colab": {}
      },
      "cell_type": "code",
      "source": [
        "!pip install chainer"
      ],
      "execution_count": 0,
      "outputs": []
    },
    {
      "metadata": {
        "id": "uGeCRPpUHTYV",
        "colab_type": "code",
        "colab": {}
      },
      "cell_type": "code",
      "source": [
        "import numpy as np\n",
        "import pandas as pd\n",
        "import matplotlib.pyplot as plt\n",
        "import chainer"
      ],
      "execution_count": 0,
      "outputs": []
    },
    {
      "metadata": {
        "id": "iGqf3zaiHd0M",
        "colab_type": "code",
        "colab": {
          "base_uri": "https://localhost:8080/",
          "height": 390
        },
        "outputId": "1c0d871d-6927-4835-f5ed-b34409d3e9c1"
      },
      "cell_type": "code",
      "source": [
        "from chainer.datasets import split_dataset_random\n",
        "\n",
        "x = np.random.rand(100) * 10\n",
        "x = x.reshape(int(len(x)/2), 2)\n",
        "x = np.array(x, dtype=np.int32)\n",
        "\n",
        "x = np.array(x, dtype=np.float32)\n",
        "y = x[:,0] + x[:, 1]\n",
        "y = y.reshape(len(y),1)\n",
        "y = np.array(y, dtype=np.float32)\n",
        "print(x.shape)\n",
        "print(y.shape)\n",
        "\n",
        "dataset = list(zip(x, y))\n",
        "train, test = split_dataset_random(dataset, int(len(dataset)*0.7))\n",
        "\n",
        "print(type(train))       #chainer.datasets.sub_dataset.SubDataset\n",
        "print(type(train[0]))    #tuple\n",
        "print(type(train[0][0])) #numpy.ndarray\n",
        "print(type(train[0][1])) #numpy.ndarray\n",
        "\n",
        "sample_x = pd.DataFrame(x)\n",
        "sample_x.describe()\n",
        "#print(x)"
      ],
      "execution_count": 35,
      "outputs": [
        {
          "output_type": "stream",
          "text": [
            "(50, 2)\n",
            "(50, 1)\n",
            "<class 'chainer.datasets.sub_dataset.SubDataset'>\n",
            "<class 'tuple'>\n",
            "<class 'numpy.ndarray'>\n",
            "<class 'numpy.ndarray'>\n"
          ],
          "name": "stdout"
        },
        {
          "output_type": "execute_result",
          "data": {
            "text/html": [
              "<div>\n",
              "<style scoped>\n",
              "    .dataframe tbody tr th:only-of-type {\n",
              "        vertical-align: middle;\n",
              "    }\n",
              "\n",
              "    .dataframe tbody tr th {\n",
              "        vertical-align: top;\n",
              "    }\n",
              "\n",
              "    .dataframe thead th {\n",
              "        text-align: right;\n",
              "    }\n",
              "</style>\n",
              "<table border=\"1\" class=\"dataframe\">\n",
              "  <thead>\n",
              "    <tr style=\"text-align: right;\">\n",
              "      <th></th>\n",
              "      <th>0</th>\n",
              "      <th>1</th>\n",
              "    </tr>\n",
              "  </thead>\n",
              "  <tbody>\n",
              "    <tr>\n",
              "      <th>count</th>\n",
              "      <td>50.000000</td>\n",
              "      <td>50.00000</td>\n",
              "    </tr>\n",
              "    <tr>\n",
              "      <th>mean</th>\n",
              "      <td>4.040000</td>\n",
              "      <td>4.36000</td>\n",
              "    </tr>\n",
              "    <tr>\n",
              "      <th>std</th>\n",
              "      <td>3.257393</td>\n",
              "      <td>2.87679</td>\n",
              "    </tr>\n",
              "    <tr>\n",
              "      <th>min</th>\n",
              "      <td>0.000000</td>\n",
              "      <td>0.00000</td>\n",
              "    </tr>\n",
              "    <tr>\n",
              "      <th>25%</th>\n",
              "      <td>1.000000</td>\n",
              "      <td>2.00000</td>\n",
              "    </tr>\n",
              "    <tr>\n",
              "      <th>50%</th>\n",
              "      <td>4.000000</td>\n",
              "      <td>4.00000</td>\n",
              "    </tr>\n",
              "    <tr>\n",
              "      <th>75%</th>\n",
              "      <td>7.000000</td>\n",
              "      <td>7.00000</td>\n",
              "    </tr>\n",
              "    <tr>\n",
              "      <th>max</th>\n",
              "      <td>9.000000</td>\n",
              "      <td>9.00000</td>\n",
              "    </tr>\n",
              "  </tbody>\n",
              "</table>\n",
              "</div>"
            ],
            "text/plain": [
              "               0         1\n",
              "count  50.000000  50.00000\n",
              "mean    4.040000   4.36000\n",
              "std     3.257393   2.87679\n",
              "min     0.000000   0.00000\n",
              "25%     1.000000   2.00000\n",
              "50%     4.000000   4.00000\n",
              "75%     7.000000   7.00000\n",
              "max     9.000000   9.00000"
            ]
          },
          "metadata": {
            "tags": []
          },
          "execution_count": 35
        }
      ]
    },
    {
      "metadata": {
        "id": "mrhTea3hIPVp",
        "colab_type": "code",
        "colab": {}
      },
      "cell_type": "code",
      "source": [
        "import chainer.links as L\n",
        "import chainer.functions as F\n",
        "\n",
        "class NN(chainer.Chain):\n",
        "    def __init__(self, n_units, n_output):\n",
        "        super().__init__()\n",
        "        with self.init_scope():\n",
        "            self.l1 = L.Linear(None, n_units)\n",
        "            self.l2 = L.Linear(None, n_output)\n",
        "    \n",
        "    def __call__(self, x, t, train = True):\n",
        "      y = self.predictor(x)\n",
        "      loss = F.mean_squared_error(y, t)\n",
        "      if train:\n",
        "          chainer.report({'loss': loss}, self)\n",
        "      return loss\n",
        "    \n",
        "    def predictor(self, x):\n",
        "      h = F.relu(self.l1(x))\n",
        "      return self.l2(h)"
      ],
      "execution_count": 0,
      "outputs": []
    },
    {
      "metadata": {
        "id": "3rkXjoosK8eF",
        "colab_type": "code",
        "colab": {}
      },
      "cell_type": "code",
      "source": [
        "model = NN(100, 1)"
      ],
      "execution_count": 0,
      "outputs": []
    },
    {
      "metadata": {
        "id": "RUvHAAlzK9g7",
        "colab_type": "code",
        "colab": {}
      },
      "cell_type": "code",
      "source": [
        "from chainer import optimizers\n",
        "from chainer import training\n",
        "\n",
        "optimizer = optimizers.Adam()\n",
        "optimizer.setup(model)\n",
        "\n",
        "batchsize = 1000\n",
        "train_iter = chainer.iterators.SerialIterator(train, batchsize)\n",
        "test_iter = chainer.iterators.SerialIterator(test, batchsize, repeat = False, shuffle = False)\n",
        "updater = training.StandardUpdater(train_iter, optimizer)"
      ],
      "execution_count": 0,
      "outputs": []
    },
    {
      "metadata": {
        "id": "-uMppmEVLA-H",
        "colab_type": "code",
        "colab": {
          "base_uri": "https://localhost:8080/",
          "height": 1755
        },
        "outputId": "3789705d-1eea-49db-c199-c84c94452c41"
      },
      "cell_type": "code",
      "source": [
        "from chainer.training import extensions\n",
        "\n",
        "epoch = 100000\n",
        "trainer = training.Trainer(updater, (epoch, 'epoch'), out = 'result')\n",
        "trainer.extend(extensions.Evaluator(test_iter, model))\n",
        "trainer.extend(extensions.LogReport(trigger=(1000, 'epoch')))\n",
        "trainer.extend(extensions.PrintReport(['epoch', 'main/loss', 'validation/main/loss', 'elapsed_time']), trigger=(1000, 'epoch'))\n",
        "trainer.run()"
      ],
      "execution_count": 39,
      "outputs": [
        {
          "output_type": "stream",
          "text": [
            "epoch       main/loss   validation/main/loss  elapsed_time\n",
            "\u001b[J35          12.5672     10.7974               0.0938286     \n",
            "\u001b[J70          1.73146     1.20761               0.189466      \n",
            "\u001b[J105         0.459098    0.355394              0.275287      \n",
            "\u001b[J140         0.179766    0.168507              0.370938      \n",
            "\u001b[J175         0.0932243   0.109883              0.457144      \n",
            "\u001b[J210         0.0617006   0.0806409             0.542254      \n",
            "\u001b[J245         0.0432471   0.0603451             0.635473      \n",
            "\u001b[J280         0.0312418   0.0461092             0.721468      \n",
            "\u001b[J315         0.0240707   0.0367849             0.806668      \n",
            "\u001b[J350         0.0188614   0.0298922             0.899642      \n",
            "\u001b[J385         0.0148732   0.0246019             0.985257      \n",
            "\u001b[J420         0.0115453   0.0201681             1.07089       \n",
            "\u001b[J455         0.00888457  0.0165641             1.16494       \n",
            "\u001b[J490         0.00682707  0.0135769             1.2496        \n",
            "\u001b[J525         0.00524554  0.0112412             1.33831       \n",
            "\u001b[J560         0.00402996  0.00940448            1.43298       \n",
            "\u001b[J595         0.00311721  0.00796087            1.51847       \n",
            "\u001b[J630         0.00247672  0.00683184            1.60466       \n",
            "\u001b[J665         0.00201745  0.00593985            1.69833       \n",
            "\u001b[J700         0.00168346  0.00524616            1.78289       \n",
            "\u001b[J735         0.00143076  0.00469774            1.86749       \n",
            "\u001b[J770         0.0012347   0.00425948            1.96111       \n",
            "\u001b[J805         0.00108443  0.00390597            2.04975       \n",
            "\u001b[J840         0.000966647  0.00361196            2.1367        \n",
            "\u001b[J875         0.000868608  0.00335563            2.23106       \n",
            "\u001b[J910         0.000785654  0.00313217            2.3175        \n",
            "\u001b[J945         0.000715565  0.0029367             2.40494       \n",
            "\u001b[J980         0.000656276  0.00276533            2.50123       \n",
            "\u001b[J1015        0.000604457  0.00260828            2.58951       \n",
            "\u001b[J1050        0.000558004  0.0024602             2.6746        \n",
            "\u001b[J1085        0.000516742  0.00232406            2.76602       \n",
            "\u001b[J1120        0.000480079  0.00219998            2.85093       \n",
            "\u001b[J1155        0.000447425  0.00208748            2.93963       \n",
            "\u001b[J1190        0.000418231  0.00198591            3.03588       \n",
            "\u001b[J1225        0.000391628  0.0018938             3.12283       \n",
            "\u001b[J1260        0.000366673  0.00180923            3.20974       \n",
            "\u001b[J1295        0.000343606  0.00173115            3.30355       \n",
            "\u001b[J1330        0.000322488  0.00166001            3.39275       \n",
            "\u001b[J1365        0.00030292  0.00159714            3.47796       \n",
            "\u001b[J1400        0.000284506  0.00154145            3.57295       \n",
            "\u001b[J1435        0.00026726  0.00149091            3.65826       \n",
            "\u001b[J1470        0.000251129  0.00144468            3.74498       \n",
            "\u001b[J1505        0.000235999  0.00140217            3.83648       \n",
            "\u001b[J1540        0.000221796  0.00136301            3.92266       \n",
            "\u001b[J1575        0.000208493  0.0013268             4.00868       \n",
            "\u001b[J1610        0.000196016  0.00129371            4.1031        \n",
            "\u001b[J1645        0.000183998  0.00126375            4.1891        \n",
            "\u001b[J1680        0.000172246  0.00123594            4.27544       \n",
            "\u001b[J1715        0.00016121  0.00120956            4.36662       \n",
            "\u001b[J1750        0.000150871  0.00118779            4.45521       \n",
            "\u001b[J1785        0.000141179  0.00117921            4.54306       \n",
            "\u001b[J1820        0.000132093  0.00117325            4.63681       \n",
            "\u001b[J1855        0.000123586  0.00116862            4.72445       \n",
            "\u001b[J1890        0.000115605  0.00116524            4.80886       \n",
            "\u001b[J1925        0.000108117  0.00116293            4.90145       \n",
            "\u001b[J1960        0.000101164  0.0011616             4.98947       \n",
            "\u001b[J1995        9.4719e-05  0.00116123            5.08023       \n",
            "\u001b[J2030        8.87445e-05  0.00116114            5.18135       \n",
            "\u001b[J2065        8.31977e-05  0.0011612             5.26789       \n",
            "\u001b[J2100        7.80502e-05  0.00116159            5.35735       \n",
            "\u001b[J2135        7.32772e-05  0.00116236            5.45286       \n",
            "\u001b[J2170        6.88568e-05  0.00116343            5.54047       \n",
            "\u001b[J2205        6.47669e-05  0.00116479            5.62614       \n",
            "\u001b[J2240        6.09872e-05  0.00116644            5.7206        \n",
            "\u001b[J2275        5.7496e-05  0.00116832            5.80768       \n",
            "\u001b[J2310        5.42772e-05  0.00117038            5.89477       \n",
            "\u001b[J2345        5.13099e-05  0.00117255            5.98738       \n",
            "\u001b[J2380        4.85782e-05  0.00117473            6.07382       \n",
            "\u001b[J2415        4.60661e-05  0.00117694            6.16137       \n",
            "\u001b[J2450        4.37569e-05  0.00117916            6.25655       \n",
            "\u001b[J2485        4.16352e-05  0.00118135            6.34469       \n",
            "\u001b[J2520        3.96872e-05  0.0011835             6.43163       \n",
            "\u001b[J2555        3.79051e-05  0.0011855             6.52589       \n",
            "\u001b[J2590        3.62988e-05  0.00118705            6.61228       \n",
            "\u001b[J2625        3.48247e-05  0.00118892            6.70005       \n",
            "\u001b[J2660        3.34681e-05  0.0011907             6.79721       \n",
            "\u001b[J2695        3.22183e-05  0.00119229            6.88514       \n",
            "\u001b[J2730        3.10664e-05  0.00119371            6.97159       \n",
            "\u001b[J2765        3.00054e-05  0.00119501            7.06636       \n",
            "\u001b[J2800        2.90265e-05  0.00119616            7.15666       \n",
            "\u001b[J2835        2.81229e-05  0.00119718            7.24359       \n",
            "\u001b[J2870        2.72891e-05  0.00119803            7.34098       \n",
            "\u001b[J2905        2.6554e-05  0.00119628            7.42883       \n",
            "\u001b[J2940        2.58878e-05  0.0011936             7.51625       \n",
            "\u001b[J2975        2.52648e-05  0.00119144            7.6103        \n",
            "\u001b[J3010        2.46775e-05  0.00118971            7.69959       \n",
            "\u001b[J3045        2.41227e-05  0.00118832            7.78565       \n",
            "\u001b[J3080        2.35982e-05  0.00118717            7.88082       \n",
            "\u001b[J3115        2.31008e-05  0.00118606            7.96958       \n",
            "\u001b[J3150        2.26296e-05  0.00118499            8.05664       \n",
            "\u001b[J3185        2.21797e-05  0.00118401            8.14981       \n",
            "\u001b[J3220        2.17519e-05  0.00118288            8.23663       \n",
            "\u001b[J3255        2.13533e-05  0.00118065            8.32462       \n",
            "\u001b[J3290        2.09711e-05  0.00117844            8.42188       \n",
            "\u001b[J3325        2.06017e-05  0.00117642            8.50897       \n",
            "\u001b[J3360        2.02437e-05  0.00117451            8.59746       \n",
            "\u001b[J3395        1.98975e-05  0.00117274            8.6917        \n",
            "\u001b[J3430        1.95624e-05  0.00117092            8.78079       \n",
            "\u001b[J3465        1.92358e-05  0.00116928            8.86807       \n",
            "\u001b[J3500        1.89188e-05  0.00116756            8.96277       \n"
          ],
          "name": "stdout"
        }
      ]
    },
    {
      "metadata": {
        "id": "Znh3Pz49LLwK",
        "colab_type": "code",
        "colab": {
          "base_uri": "https://localhost:8080/",
          "height": 694
        },
        "outputId": "9b1c8bce-fb8f-422c-d39a-3705720c624f"
      },
      "cell_type": "code",
      "source": [
        "import json\n",
        "\n",
        "with open('result/log') as f:\n",
        "  result = pd.DataFrame(json.load(f)).interpolate()\n",
        "\n",
        "\n",
        "result[['main/loss','validation/main/loss']].plot()\n",
        "\n",
        "result = result.iloc[20:,:]\n",
        "result[['main/loss','validation/main/loss']].plot()\n"
      ],
      "execution_count": 59,
      "outputs": [
        {
          "output_type": "execute_result",
          "data": {
            "text/plain": [
              "<matplotlib.axes._subplots.AxesSubplot at 0x7fc147756438>"
            ]
          },
          "metadata": {
            "tags": []
          },
          "execution_count": 59
        },
        {
          "output_type": "display_data",
          "data": {
            "image/png": "[encoded data removed]",
            "text/plain": [
              "<matplotlib.figure.Figure at 0x7fc147799d30>"
            ]
          },
          "metadata": {
            "tags": []
          }
        },
        {
          "output_type": "display_data",
          "data": {
            "image/png": "[encoded data removed]",
            "text/plain": [
              "<matplotlib.figure.Figure at 0x7fc14778f978>"
            ]
          },
          "metadata": {
            "tags": []
          }
        }
      ]
    },
    {
      "metadata": {
        "id": "g-eFTVFuN-9F",
        "colab_type": "code",
        "colab": {
          "base_uri": "https://localhost:8080/",
          "height": 34
        },
        "outputId": "2b363314-32bc-448a-bdab-90718ebb648e"
      },
      "cell_type": "code",
      "source": [
        "x = np.array([13, 188])\n",
        "x = x.reshape(1, len(x))\n",
        "x = np.array(x, dtype=np.float32)\n",
        "y = model.predictor(x)\n",
        "print('predict={}...({})'.format(np.round_(y.data[0]),y.data[0]))"
      ],
      "execution_count": 57,
      "outputs": [
        {
          "output_type": "stream",
          "text": [
            "predict=[201.]...([200.99675])\n"
          ],
          "name": "stdout"
        }
      ]
    }
  ]
}